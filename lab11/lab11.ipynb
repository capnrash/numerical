{
 "cells": [
  {
   "cell_type": "code",
   "execution_count": null,
   "id": "6e43bc96",
   "metadata": {
    "deletable": false,
    "editable": false
   },
   "outputs": [],
   "source": [
    "# Initialize Otter\n",
    "import otter\n",
    "grader = otter.Notebook(\"lab11.ipynb\")"
   ]
  },
  {
   "cell_type": "markdown",
   "id": "54b07220",
   "metadata": {
    "tags": []
   },
   "source": [
    "# Lab 11: More Numerical Integration\n",
    "\n",
    "Welcome to Lab 11! Throughout the course you will complete a lab assignments like this one. You can't learn technical subjects without hands-on practice, so labs are an important part of the course. \n",
    "\n",
    "Collaborating on labs is more than okay -- it's encouraged. You should rarely remain stuck for more than a few minutes on questions in labs, so ask a neighbor or an instructor for help. Explaining things is beneficial, too $-$ the best way to solidify your knowledge of a subject is to explain it. You should not just copy someone else's answers, but rather work together to gain understanding of the task you need to complete.\n",
    "\n",
    "In today's lab, you will be asked to use your python programming skills to write code to approximate definite integrals.\n",
    "\n",
    "To receive credit for a lab, answer all questions correctly and submit before the deadline.\n",
    "\n",
    "**Due Date:** Tuesday, May 10, 2022 at 11:59 pm\n",
    "\n",
    "**Collaboration Policy:** Labs are a collaborative activity. While you may talk with others about the labs, we ask that you **write your solutions individually**. If you do discuss the assignments with others **please include their names below** (it's a good way to learn your classmates' names).\n",
    "\n",
    "**Collaborators:** \n",
    "\n",
    "List collaborators here.\n",
    "\n",
    "Run the cell below to import the required modules."
   ]
  },
  {
   "cell_type": "code",
   "execution_count": null,
   "id": "0602b818",
   "metadata": {},
   "outputs": [],
   "source": [
    "import numpy as np\n",
    "import matplotlib.pyplot as plt\n",
    "plt.style.use('seaborn-whitegrid')\n",
    "%matplotlib inline"
   ]
  },
  {
   "cell_type": "markdown",
   "id": "87d101a8",
   "metadata": {},
   "source": [
    "Before we get started let's review two things:\n",
    "\n",
    "- `np.linspace()`\n",
    "\n",
    "- `lambda` functions\n",
    "\n",
    "# 0. Review\n",
    "\n",
    "The `np.linspace()` function returns evenly spaced numbers over a specified interval. For example, \n",
    "\n",
    "`np.linspace(0, 10, 11)` \n",
    "\n",
    "would return \n",
    "\n",
    "`array([ 0.,  1.,  2.,  3.,  4.,  5.,  6.,  7.,  8.,  9., 10.])`. \n",
    "\n",
    "Since this is an array object we can iterate over each element. Remember, Python gives the index value 0 for the first element. For example, if we saved our array to `x`\n",
    "\n",
    "`x = np.linspace(0, 10, 11)` \n",
    "\n",
    "then ran the command \n",
    "\n",
    "`x[1]`\n",
    "\n",
    "we would get 1. If instead we wanted the first element, then we would need to run `x[0]`.\n",
    "\n",
    "Try it for yourself."
   ]
  },
  {
   "cell_type": "code",
   "execution_count": null,
   "id": "801a1fe1",
   "metadata": {},
   "outputs": [],
   "source": [
    "np.linspace(0, 10, 11)"
   ]
  },
  {
   "cell_type": "code",
   "execution_count": null,
   "id": "d4233217",
   "metadata": {},
   "outputs": [],
   "source": [
    "x = np.linspace(0, 10, 11)\n",
    "x[1]"
   ]
  },
  {
   "cell_type": "code",
   "execution_count": null,
   "id": "48ad8afe",
   "metadata": {},
   "outputs": [],
   "source": [
    "x[0]"
   ]
  },
  {
   "cell_type": "markdown",
   "id": "9e2937d6",
   "metadata": {},
   "source": [
    "If we wanted to access elements 1, 3, 5, 7, and 9 we could slice the array\n",
    "\n",
    "```\n",
    "x[1::2]\n",
    "```\n",
    "\n",
    "or, if we wanted to access elements 2, 4, 6, and 8 \n",
    "\n",
    "```\n",
    "x[2::2]\n",
    "```\n",
    "\n",
    "Try it for yourself."
   ]
  },
  {
   "cell_type": "code",
   "execution_count": null,
   "id": "a68131b5",
   "metadata": {},
   "outputs": [],
   "source": [
    "x[1::2]"
   ]
  },
  {
   "cell_type": "code",
   "execution_count": null,
   "id": "d14e0d35",
   "metadata": {},
   "outputs": [],
   "source": [
    "x[2::2]"
   ]
  },
  {
   "cell_type": "markdown",
   "id": "d669b002",
   "metadata": {},
   "source": [
    "Let's examine what happens when we run the command\n",
    "\n",
    "```\n",
    "x[1::2]\n",
    "```\n",
    "\n",
    "Slicing in Python means taking elements from one given index to another given index.\n",
    "\n",
    "- We pass slice instead of index like this: `[start:end]`.\n",
    "\n",
    "- We can also define the step, like this: `[start:end:step]`.\n",
    "\n",
    "- If we don't pass start its considered 0.\n",
    "\n",
    "- If we don't pass end its considered length of array in that dimension.\n",
    "\n",
    "- If we don't pass step its considered 1.\n",
    "\n",
    "So our command \n",
    "\n",
    "```\n",
    "x[1::2]\n",
    "```\n",
    "\n",
    "means to start at the **second** element in the array, end at the next to the last element, and use a step size of 2.\n",
    "\n",
    "**Note:** The end will not be included in the slice. For example, `x[:2]` would return `array([0., 1.])`. If we wanted to include 2, then we would need to run `x[:3]`.\n",
    "\n",
    "\n",
    "\n",
    "We can use an array to provide the inputs for a `lambda` function. Remember the syntax for a `lambda` function is \n",
    "\n",
    "```\n",
    "f = lambda x: x**2\n",
    "```\n",
    "\n",
    "If we define `f` we input the values from our array into `f`\n",
    "\n",
    "\n",
    "```\n",
    "f([x[1::2])\n",
    "```\n",
    "\n",
    "Try it and see."
   ]
  },
  {
   "cell_type": "code",
   "execution_count": null,
   "id": "522fa366",
   "metadata": {},
   "outputs": [],
   "source": [
    "x[:2]"
   ]
  },
  {
   "cell_type": "code",
   "execution_count": null,
   "id": "5429e173",
   "metadata": {},
   "outputs": [],
   "source": [
    "x[:3]"
   ]
  },
  {
   "cell_type": "code",
   "execution_count": null,
   "id": "5375ab92",
   "metadata": {},
   "outputs": [],
   "source": [
    "f = lambda x: x**2\n",
    "\n",
    "f(x[1::2])"
   ]
  },
  {
   "cell_type": "markdown",
   "id": "2278a8c7",
   "metadata": {},
   "source": [
    "Throughout this notebook you can use `np.linspace` and `lambda` functions to help you complete the exercises. \n",
    "\n",
    "**Note:** There are other methods that can be used to accomplish the same task. Feel free to use other methods, if you have experience using Python. "
   ]
  },
  {
   "cell_type": "markdown",
   "id": "b77db52f",
   "metadata": {},
   "source": [
    "# 1. Graphing \n",
    "\n",
    "Let's write a lambda functions that we can use to graph each function over its interval of integration."
   ]
  },
  {
   "cell_type": "markdown",
   "id": "e6f926d8",
   "metadata": {},
   "source": [
    "<!-- BEGIN QUESTION -->\n",
    "\n",
    "**Question 1.** Write a lambda function to sketch the graph of $f(x)=\\sin x$.\n",
    "\n",
    "**Hint:** Use sine from numpy (e.g., `np.sin`)"
   ]
  },
  {
   "cell_type": "code",
   "execution_count": null,
   "id": "10f10c88",
   "metadata": {
    "tags": []
   },
   "outputs": [],
   "source": [
    "x  = np.linspace(0, np.pi/2, 100)\n",
    "f = ...\n",
    "plt.plot(x, f(x), color = 'black', ms = 3)\n",
    "plt.title(\"sin(x)\");"
   ]
  },
  {
   "cell_type": "markdown",
   "id": "95b488d7",
   "metadata": {},
   "source": [
    "<!-- END QUESTION -->\n",
    "\n",
    "# 2. Simpson's Rule\n",
    "\n",
    "Simpson's Rule (named after the English mathematician Thomas Simpson 1710−1761) is a numerical method that approximates the value of a definite integral by using quadratic functions. The rule is based on the fact that given three points, we can find the equation of a quadratic through those points. To obtain an approximation of the definite integral \n",
    "\n",
    "$$\\int_a^b f(x) \\ dx$$\n",
    " \n",
    "using Simpson's Rule, we partition the interval $[a,b]$ into an even number $n$ of subintervals, each of width\n",
    "\n",
    "$$\\Delta x = \\frac{b-a}{n}$$\n",
    "\n",
    "On each pair of consecutive subintervals $\\left[x_{i-1}, x_i \\right], \\left[x_i, x_{i+1} \\right]$ we consider a quadratic function $f(x)=ax^2+bx+c$ such that it passes through the points $\\left(x_{i-1}, f\\left(x_{i-1} \\right) \\right), \\left(x_i, f\\left(x_i \\right) \\right), \\left(x_{i+1}, f\\left(x_{i+1} \\right) \\right)$.\n",
    "\n",
    "\n",
    "<center><img src=\"images/simpsons-rule1.svg\" width=\"300\" height=\"400\"></center>\n",
    "\n",
    "If the function $f(x)$ is continuous on $[a,b]$, then \n",
    "\n",
    "$$\\int_a^b f(x) \\  dx \\approx \\frac{\\Delta x}{3}\\left[f\\left(x_0 \\right)+4f\\left(x_1 \\right)+2f\\left(x_2 \\right)+4f\\left(x_3 \\right) + 2f\\left(x_4 \\right) + \\cdots +4f\\left(x_{n-1} \\right) + f\\left(x_n \\right) \\right]$$\n",
    "\n",
    "The coefficients in Simpon's Rule have the following pattern $1,4,2,4,2,\\ldots,4,2,4,1$.\n",
    "\n",
    "Our goal is to write a Python function to approximate the value of a definite integral using Simpson's Rule."
   ]
  },
  {
   "cell_type": "markdown",
   "id": "b22864de",
   "metadata": {},
   "source": [
    "<!-- BEGIN QUESTION -->\n",
    "\n",
    "**Question 2.** Write a function which takes input parameters f, a, b and n and returns the approximation of the definite integral of of $f(x)$ on the interval $[a, b]$. Furthermore, let's assign a default value of $n=50$."
   ]
  },
  {
   "cell_type": "code",
   "execution_count": null,
   "id": "8debdd92",
   "metadata": {
    "tags": []
   },
   "outputs": [],
   "source": [
    "def simpsons_rule(f, a, b, n = 50):\n",
    "    \"\"\"\n",
    "    Purpose\n",
    "    -------\n",
    "    Approximate the integral of f(x) from a to b by Simpson's rule.\n",
    "\n",
    "    Parameters\n",
    "    ----------\n",
    "    f : lambda function of a single variable\n",
    "    a , b : Interval of integration [a,b]\n",
    "    n : Number of subintervals of [a,b] (n is an even integer)\n",
    "\n",
    "    Returns\n",
    "    -------\n",
    "    Approximation of the integral of f(x) from a to b using Simpson's rule with n subintervals of equal length.\n",
    "\n",
    "    Example\n",
    "    --------\n",
    "    >>> simpsons_rule(lambda x : np.sin(x), 0, np.pi, 10)\n",
    "    2.0001095173150043\n",
    "    \"\"\"\n",
    "    if n % 2 == 1:\n",
    "        raise ValueError(\"n must be an even integer.\")\n",
    "    ..."
   ]
  },
  {
   "cell_type": "markdown",
   "id": "0414c5c8",
   "metadata": {},
   "source": [
    "<!-- END QUESTION -->\n",
    "\n",
    "Run the cell below to make sure your function is correct. It should return `2.0001095173150043`."
   ]
  },
  {
   "cell_type": "code",
   "execution_count": null,
   "id": "46637e8a",
   "metadata": {},
   "outputs": [],
   "source": [
    "simpsons_rule(lambda x : np.sin(x), 0, np.pi, 10)"
   ]
  },
  {
   "cell_type": "markdown",
   "id": "d8285c44",
   "metadata": {},
   "source": [
    "<!-- BEGIN QUESTION -->\n",
    "\n",
    "**Question 3.** Use your function to approximate the value of $\\displaystyle \\int_1^{1.6} \\frac{2x}{x^2-4} \\ dx$."
   ]
  },
  {
   "cell_type": "code",
   "execution_count": null,
   "id": "bd56d0c9",
   "metadata": {
    "tags": []
   },
   "outputs": [],
   "source": [
    "f = ...\n",
    "simpsons_rule(f, 1, 1.6)"
   ]
  },
  {
   "cell_type": "markdown",
   "id": "4a58777e",
   "metadata": {},
   "source": [
    "<!-- END QUESTION -->\n",
    "\n",
    "Suppose a radar gun was used to record the speed of a runner during the first 5 seconds of a race (see the table). \n",
    "\n",
    "|t(s)|v(m/s)|\n",
    "|----|------|\n",
    "|0|0|\n",
    "|0.5|4.67|\n",
    "|1.0|7.34|\n",
    "|1.5|8.86|\n",
    "|2.0|9.73|\n",
    "|2.5|10.22|\n",
    "|3.0|10.51|\n",
    "|3.5|10.67|\n",
    "|4.0|10.76|\n",
    "|4.5|10.81|\n",
    "|5.0|10.81|"
   ]
  },
  {
   "cell_type": "markdown",
   "id": "1b1de7d1",
   "metadata": {},
   "source": [
    "**Question 4.** Make a `numpy` array of the values fro v(m/s) column.\n",
    "\n",
    "**Hint:** Click [here](https://numpy.org/doc/stable/user/basics.creation.html) to see the syntax on creating a `numpy` array."
   ]
  },
  {
   "cell_type": "code",
   "execution_count": null,
   "id": "bb23376e",
   "metadata": {
    "tags": []
   },
   "outputs": [],
   "source": [
    "v = ...\n",
    "v"
   ]
  },
  {
   "cell_type": "code",
   "execution_count": null,
   "id": "a33a3ebc",
   "metadata": {
    "deletable": false,
    "editable": false
   },
   "outputs": [],
   "source": [
    "grader.check(\"q4\")"
   ]
  },
  {
   "cell_type": "markdown",
   "id": "f59a58bf",
   "metadata": {},
   "source": [
    "<!-- BEGIN QUESTION -->\n",
    "\n",
    "**Question 5.** Use Simpson’s Rule to estimate the distance the runner covered during those 5 seconds."
   ]
  },
  {
   "cell_type": "code",
   "execution_count": null,
   "id": "74a26dba",
   "metadata": {
    "tags": []
   },
   "outputs": [],
   "source": [
    "..."
   ]
  },
  {
   "cell_type": "markdown",
   "id": "1f0cc49c",
   "metadata": {},
   "source": [
    "<!-- END QUESTION -->\n",
    "\n"
   ]
  },
  {
   "cell_type": "markdown",
   "id": "a913f2e4",
   "metadata": {
    "deletable": false,
    "editable": false
   },
   "source": [
    "---\n",
    "\n",
    "To double-check your work, the cell below will rerun all of the autograder tests."
   ]
  },
  {
   "cell_type": "code",
   "execution_count": null,
   "id": "8d49a9f9",
   "metadata": {
    "deletable": false,
    "editable": false
   },
   "outputs": [],
   "source": [
    "grader.check_all()"
   ]
  },
  {
   "cell_type": "markdown",
   "id": "9d7c64dc",
   "metadata": {
    "deletable": false,
    "editable": false
   },
   "source": [
    "## Submission\n",
    "\n",
    "Make sure you have run all cells in your notebook in order before running the cell below, so that all images/graphs appear in the output. The cell below will generate a zip file for you to submit. **Please save before exporting!**\n",
    "\n",
    "When done exporting, download the .zip file by finding it in the file browswer on the left side of the screen, then right-click and select **Download**. You'll submit this .zip file for the assignment in Canvas to Gradescope for grading."
   ]
  },
  {
   "cell_type": "code",
   "execution_count": null,
   "id": "3532a815",
   "metadata": {
    "deletable": false,
    "editable": false
   },
   "outputs": [],
   "source": [
    "# Save your notebook first, then run this cell to export your submission.\n",
    "grader.export()"
   ]
  },
  {
   "cell_type": "markdown",
   "id": "b1461de9",
   "metadata": {},
   "source": [
    " "
   ]
  }
 ],
 "metadata": {
  "kernelspec": {
   "display_name": "Python 3 (ipykernel)",
   "language": "python",
   "name": "python3"
  },
  "language_info": {
   "codemirror_mode": {
    "name": "ipython",
    "version": 3
   },
   "file_extension": ".py",
   "mimetype": "text/x-python",
   "name": "python",
   "nbconvert_exporter": "python",
   "pygments_lexer": "ipython3",
   "version": "3.9.6"
  },
  "otter": {
   "tests": {
    "q4": {
     "name": "q4",
     "points": null,
     "suites": [
      {
       "cases": [
        {
         "code": ">>> len(v)\n11",
         "hidden": false,
         "locked": false
        },
        {
         "code": ">>> np.sum(v)\n94.38000000000001",
         "hidden": false,
         "locked": false
        }
       ],
       "scored": true,
       "setup": "",
       "teardown": "",
       "type": "doctest"
      }
     ]
    }
   }
  }
 },
 "nbformat": 4,
 "nbformat_minor": 5
}
