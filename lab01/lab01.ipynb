{
 "cells": [
  {
   "cell_type": "code",
   "execution_count": null,
   "id": "ea7a1880",
   "metadata": {
    "deletable": false,
    "editable": false
   },
   "outputs": [],
   "source": [
    "# Initialize Otter\n",
    "import otter\n",
    "grader = otter.Notebook(\"lab01.ipynb\")"
   ]
  },
  {
   "cell_type": "markdown",
   "id": "6e49fe23",
   "metadata": {},
   "source": [
    "# Lab 01: Collection Data Types and Arrays\n",
    "\n",
    "Welcome to Lab 01! Throughout the course you will complete a lab assignments like this one. You can't learn technical subjects without hands-on practice, so labs are an important part of the course.\n",
    "\n",
    "Collaborating on labs is more than okay -- it's encouraged. You should rarely remain stuck for more than a few minutes on questions in labs, so ask a neighbor or an instructor for help. Explaining things is beneficial, too -- the best way to solidify your knowledge of a subject is to explain it. You should **not** just copy/paste someone else's code, but rather work together to gain understanding of the task you need to complete. \n",
    "\n",
    "In today's lab, you'll learn how to:\n",
    "\n",
    "- import Python libraries.\n",
    "\n",
    "- write user-defined functions.\n",
    "\n",
    "- plot graphs.\n",
    "\n",
    "To receive credit for a lab, answer all questions correctly and submit before the deadline.\n",
    "\n",
    "**Due Date:** Friday, February 4, 2022 at 11:59 pm\n",
    "\n",
    "**Collaboration Policy:** Labs are a collaborative activity. While you may talk with others about the labs, we ask that you **write your solutions individually**. If you do discuss the assignments with others **please include their names below** (it's a good way to learn your classmates' names).\n",
    "\n",
    "**Collaborators:** \n",
    "\n",
    "List collaborators here."
   ]
  },
  {
   "cell_type": "markdown",
   "id": "53cfcea6",
   "metadata": {},
   "source": [
    "## 1. Keyboard Shortcuts\n",
    "\n",
    "Even if you are familiar with Jupyter, we strongly encourage you to become proficient with keyboard shortcuts (this will save you time in the future). To learn about keyboard shortcuts, go to **Help $\\to$ Keyboard Shortcuts** in the menu above.\n",
    "\n",
    "Here are a few that we like:\n",
    "\n",
    "1. Ctrl + Return: Evaluate the current cell\n",
    "2. Shift + Return: Evaluate the current cell and move to the next\n",
    "3. ESC: command mode (may need to press before using any of the commands below)\n",
    " -  a: create a cell above\n",
    " -  b: create a cell below\n",
    " - dd: delete a cell\n",
    " -  z: undo the last cell operation\n",
    " -  m: convert a cell to markdown\n",
    " -  y: convert a cell to code"
   ]
  },
  {
   "cell_type": "markdown",
   "id": "03f2851e",
   "metadata": {},
   "source": [
    "## 2. Importing Libraries and Magic Commands\n",
    "\n",
    "In Numerical Analysis, we will be using common Python libraries to help us perform mathematical operations. A library is an umbrella term referring to a reusable chunk of code. Usually, a Python library contains a collection of related modules and packages. Actually, this term is often used interchangeably with “Python package” because packages can also contain modules and other packages (subpackages). However, it is often assumed that while a package is a collection of modules, a library is a collection of packages.\n",
    "\n",
    "By convention, we import all libraries at the very top of the notebook. There are also a set of standard aliases that are used to shorten the library names. Below are some of the libraries that you may encounter throughout the course, along with their respective aliases.\n",
    "\n",
    "### Importing Libraries\n",
    "\n",
    "We'll look at the `math` module as a first example. The `math` module is extremely useful in computing mathematical expressions in Python. \n",
    "\n",
    "Suppose we want to very accurately compute the area of a circle with a radius of 5 meters.  For that, we need the constant $\\pi$, which is roughly 3.14.  Conveniently, the `math` module has `pi` defined for us.\n",
    "\n",
    "Run the cell below, but please **do not** change it."
   ]
  },
  {
   "cell_type": "code",
   "execution_count": null,
   "id": "e11fd849",
   "metadata": {},
   "outputs": [],
   "source": [
    "import math\n",
    "\n",
    "radius = 5\n",
    "area_of_circle = radius**2*math.pi\n",
    "area_of_circle"
   ]
  },
  {
   "cell_type": "markdown",
   "id": "28fbc72d",
   "metadata": {},
   "source": [
    "In the code above, the line `import math` imports the math module. This statement creates a module and then assigns the name `math` to that module. We are now able to access any variables or functions defined within `math` by typing the name of the module followed by a dot, then followed by the name of the variable or function we want."
   ]
  },
  {
   "cell_type": "markdown",
   "id": "97017440",
   "metadata": {},
   "source": [
    "**Question 1.** The module `math` also provides the name `e` for the base of the natural logarithm, which is roughly 2.71.  Compute $e^{\\pi}-\\pi$, giving it the name `near_twenty`."
   ]
  },
  {
   "cell_type": "code",
   "execution_count": null,
   "id": "641e59f4",
   "metadata": {
    "tags": []
   },
   "outputs": [],
   "source": [
    "near_twenty = ...\n",
    "near_twenty"
   ]
  },
  {
   "cell_type": "code",
   "execution_count": null,
   "id": "f0062bab",
   "metadata": {
    "deletable": false,
    "editable": false
   },
   "outputs": [],
   "source": [
    "grader.check(\"q1\")"
   ]
  },
  {
   "cell_type": "markdown",
   "id": "857505b2",
   "metadata": {},
   "source": [
    "In the question above, you accessed variables within the `math` module. \n",
    "\n",
    "Modules also define functions.  For example, `math` provides the name `sin` for the sine function.  Having imported `math` already, we can write `math.sin(3)` to compute the sine of 3.\n",
    "\n",
    "**Note:** This sine function considers its argument to be in [radians](https://en.wikipedia.org/wiki/Radian), not degrees. 180 degrees are equivalent to $\\pi$ radians."
   ]
  },
  {
   "cell_type": "markdown",
   "id": "cde4f56b",
   "metadata": {},
   "source": [
    "**Question 2.** A $\\frac{\\pi}{4}$ radian (45-degree) angle forms a right triangle with equal base and height, pictured below.  If the hypotenuse (the radius of the circle in the picture) is 1, then the height is $\\sin\\left(\\frac{\\pi}{4}\\right)$.  Compute that value using `sin` and `pi` from the `math` module.  Give the result the name `sine_of_pi_over_four`.\n",
    "\n",
    "<img src=\"http://mathworld.wolfram.com/images/eps-gif/TrigonometryAnglesPi4_1000.gif\">\n",
    "\n",
    "**Source:** [Wolfram MathWorld](http://mathworld.wolfram.com/images/eps-gif/TrigonometryAnglesPi4_1000.gif)"
   ]
  },
  {
   "cell_type": "code",
   "execution_count": null,
   "id": "66eaf2c8",
   "metadata": {
    "tags": []
   },
   "outputs": [],
   "source": [
    "sine_of_pi_over_four = ...\n",
    "sine_of_pi_over_four"
   ]
  },
  {
   "cell_type": "code",
   "execution_count": null,
   "id": "43906043",
   "metadata": {
    "deletable": false,
    "editable": false
   },
   "outputs": [],
   "source": [
    "grader.check(\"q2\")"
   ]
  },
  {
   "cell_type": "markdown",
   "id": "25333675",
   "metadata": {
    "id": "H8VoDsycgXss"
   },
   "source": [
    "For your reference, the cells below demonstrate some more examples of functions from the `math` module.\n",
    "\n",
    "Notice how different functions take in different numbers of arguments. Often, the [documentation](https://docs.python.org/3/library/math.html) of the module will provide information on how many arguments are required for each function.\n",
    "\n",
    "Run the cell below."
   ]
  },
  {
   "cell_type": "code",
   "execution_count": null,
   "id": "4d447bfa",
   "metadata": {
    "id": "j4014fPQgXst",
    "outputId": "b9784df5-e804-46f8-96b1-e8699f0f3282"
   },
   "outputs": [],
   "source": [
    "# Calculating logarithms (the logarithm of 8 in base 2)\n",
    "# The result is 3 because 2 to the power of 3 is 8\n",
    "math.log(8, 2)"
   ]
  },
  {
   "cell_type": "markdown",
   "id": "cb77b703",
   "metadata": {
    "id": "YpLfOCiogXsz"
   },
   "source": [
    "Run the cell below."
   ]
  },
  {
   "cell_type": "code",
   "execution_count": null,
   "id": "3e83976f",
   "metadata": {
    "id": "Nwn8DtQpgXs0",
    "outputId": "783ac633-3ec0-4d7e-90f6-5420561cf7e1"
   },
   "outputs": [],
   "source": [
    "# Calculating square roots\n",
    "math.sqrt(5)"
   ]
  },
  {
   "cell_type": "markdown",
   "id": "cbeccaa9",
   "metadata": {
    "id": "iTBcquQpgXs4"
   },
   "source": [
    "There are various ways to import and access code from outside sources. The method we used above — `import <module_name>` — imports the entire module and requires that we use `<module_name>.<name>` to access its code. \n",
    "\n",
    "We can also import a specific constant or function instead of the entire module. Notice that you don't have to use the module name beforehand to reference that particular value. However, you do have to be careful about reassigning the names of the constants or functions to other values.\n",
    "\n",
    "Run the cell below."
   ]
  },
  {
   "cell_type": "code",
   "execution_count": null,
   "id": "7d2c51c4",
   "metadata": {
    "id": "GKxZL2RygXs5",
    "outputId": "ffb394b1-947d-4108-b937-dd73450a077b"
   },
   "outputs": [],
   "source": [
    "# Importing just cos and pi from math\n",
    "# We don't have to use `math.` in front of cos or pi\n",
    "\n",
    "from math import cos, pi\n",
    "print(cos(pi))\n",
    "\n",
    "# We do have to use it in front of other functions from math, though\n",
    "math.log(pi)"
   ]
  },
  {
   "cell_type": "markdown",
   "id": "f77e121a",
   "metadata": {
    "id": "aPhaMtM3gXs8"
   },
   "source": [
    "Or we can import every function and value from the entire module.\n",
    "\n",
    "Run the cell below."
   ]
  },
  {
   "cell_type": "code",
   "execution_count": null,
   "id": "9740e5c6",
   "metadata": {
    "id": "IYmmtADEgXs8",
    "outputId": "642cbbda-4a8f-40f3-9733-be7991b6f515"
   },
   "outputs": [],
   "source": [
    "# Lastly, we can import everything from math using the *\n",
    "# Once again, we don't have to use 'math.' beforehand \n",
    "\n",
    "from math import *\n",
    "log(pi)"
   ]
  },
  {
   "cell_type": "markdown",
   "id": "d63364c3",
   "metadata": {
    "id": "fq6QWeRqgXtA"
   },
   "source": [
    "Don't worry too much about which type of import to use. It's often a coding style choice left up to each programmer. In this course, you'll always import the necessary modules when you run the setup cell (like the first code cell in this lab)."
   ]
  },
  {
   "cell_type": "markdown",
   "id": "f609336d",
   "metadata": {},
   "source": [
    "### Magic Commands\n",
    "\n",
    "`%matplotlib inline` is a Jupyter magic command that configures the notebook so that Matplotlib displays any plots that you draw directly in the notebook rather than to a file, allowing you to view the plots upon executing your code.\n",
    "\n",
    "Run the cell below."
   ]
  },
  {
   "cell_type": "code",
   "execution_count": null,
   "id": "1ff5dfa3",
   "metadata": {},
   "outputs": [],
   "source": [
    "import matplotlib.pyplot as plt\n",
    "plt.style.use(\"fivethirtyeight\")\n",
    "%matplotlib inline"
   ]
  },
  {
   "cell_type": "markdown",
   "id": "7ac10e78",
   "metadata": {},
   "source": [
    "Another useful magic command is `%%time`, which times the execution of that cell. You can use this by writing it as the first line of a cell.\n",
    "\n",
    "**Note:** `%%` is used for cell magic commands that apply to the entire cell, whereas `%` is used for line magic commands that only apply to a single line."
   ]
  },
  {
   "cell_type": "code",
   "execution_count": null,
   "id": "5ea9c032",
   "metadata": {},
   "outputs": [],
   "source": [
    "%%time\n",
    "\n",
    "# Initialize an empty list\n",
    "my_list = []\n",
    "\n",
    "for i in range(100):  # for loop to iterate through the values 0 to 99\n",
    "    my_list.append(i) # The .append method will add an item to the end of a list "
   ]
  },
  {
   "cell_type": "markdown",
   "id": "b6ae5339",
   "metadata": {},
   "source": [
    "## 2. Collections of Elements\n",
    "\n",
    "The cell above uses a list, a `for` loop, the `range` function, and the `.append()` method.\n",
    "\n",
    "#### Lists \n",
    "\n",
    "* Lists are used to store multiple items in a single variable. \n",
    "\n",
    "* Lists are a built-in data type in Python used to store collections of data.\n",
    ".\n",
    "* Lists may contain different types\n",
    "\n",
    "* List items are ordered, changeable, and allow duplicate values. \n",
    "\n",
    "* List items are indexed, the first item has index `[0]`, the second item has index `[1]` etc\n",
    "\n",
    "* Lists are created using square brackets. For example, `my_list = [2, 3, 5, 7, 11]`, is a list of the first 5 prime numbers.\n",
    "\n",
    "#### `for` loop\n",
    "\n",
    "* A `for` loop is used for iterating over a sequence (like a list).\n",
    "\n",
    "* A `for` loop will execute a set of statements, once for each item in a sequence (like a list).\n",
    "\n",
    "#### `range`\n",
    "\n",
    "* The `range()` function returns a sequence of numbers, starting from 0 by default, and increments by 1 (by default), and stops before a specified number. The syntax for the `range()` function is `range(start, stop, step)`.\n",
    "\n",
    "#### `.append()`\n",
    "\n",
    "* The `.append()` method will \"append\" an item to the end of a list (we will cover this method in more detail later)."
   ]
  },
  {
   "cell_type": "markdown",
   "id": "269c1d6c",
   "metadata": {},
   "source": [
    "**Question 3.** Use the `range()` function to generate a list of the first 100 odd integers. Save the list of numbers to `first100_odd_integers`.\n",
    "\n",
    "**Hint:** Review the syntax of the `range()` function. "
   ]
  },
  {
   "cell_type": "code",
   "execution_count": null,
   "id": "0ea59bbe",
   "metadata": {
    "tags": []
   },
   "outputs": [],
   "source": [
    "first100_odd_integers = ..."
   ]
  },
  {
   "cell_type": "code",
   "execution_count": null,
   "id": "1707bfc7",
   "metadata": {
    "deletable": false,
    "editable": false
   },
   "outputs": [],
   "source": [
    "grader.check(\"q3\")"
   ]
  },
  {
   "cell_type": "markdown",
   "id": "230df89e",
   "metadata": {},
   "source": [
    "The output from **Question 3.** looked like this\n",
    "\n",
    "```\n",
    "range(1, 201, 2)\n",
    "```\n",
    "\n",
    "When we ran the code cell the variable name `first100_odd_integers` was on the last line. We didn't see the list of numbers, only what was on the right of the equal sign. If we want to see actual list of numbers we can use a `for` loop.\n",
    "\n",
    "Run the cell below."
   ]
  },
  {
   "cell_type": "code",
   "execution_count": null,
   "id": "236c01bb",
   "metadata": {},
   "outputs": [],
   "source": [
    "for number in range(1, 201, 2):\n",
    "    print(number)"
   ]
  },
  {
   "cell_type": "markdown",
   "id": "ac9e739b",
   "metadata": {},
   "source": [
    "`for` loops are used when you have a block of code which you want to repeat a fixed number of times. The `for` loop is always used in combination with an iterable object, like a *list* or a *range*. The Python `for` statement iterates over the members of a sequence in order, executing the block each time.\n",
    "\n",
    "In the `for` loop in the previous code cell the name `number` is used as a container for each element in the range of odd integers from 1 to 199. The value of `number` is updated each time the loop iterates over the range of odd integers. The choice of the name `number` is nothing special. We could have used any acceptable Python name. For example, we could have written\n",
    "\n",
    "```\n",
    "for i in range(1, 201, 2):\n",
    "    print(i)\n",
    "```\n",
    "\n",
    "As long as the name is valid meaning it only consists of:\n",
    "\n",
    "* uppercase and lowercase letters ( A-Z , a-z )\n",
    "\n",
    "* digits ( 0-9 )\n",
    "\n",
    "* the underscore character ( _ )\n",
    "\n",
    "and \n",
    "\n",
    "* doesn't start with a digit (0-9) \n",
    "\n",
    "we can use it."
   ]
  },
  {
   "cell_type": "markdown",
   "id": "da6f8c81",
   "metadata": {},
   "source": [
    "## 3. `Numpy`\n",
    "\n",
    "It seems that is would be beneficial to be able to view our list of values without having to resort to writing a `for` loop.\n",
    "\n",
    "In our class we will do a lot computations and plotting. Thus, we need to be able to work with lists of numbers. To work with lists of numbers we will use the `NumPy` library. \n",
    "\n",
    "#### What is `NumPy`?\n",
    "\n",
    "`NumPy` is a library for the Python programming language, adding support for large, multi-dimensional arrays and matrices, along with a large collection of high-level mathematical functions to operate on these arrays. `NumPy` (Numerical Python) is an open source Python library that’s used in almost every field of science and engineering.  Click [here](https://numpy.org/doc/stable/user/absolute_beginners.html) to read more about the  basics for beginners. \n",
    "\n",
    "Let's import the library by running the cell below."
   ]
  },
  {
   "cell_type": "code",
   "execution_count": null,
   "id": "bc29b4a2",
   "metadata": {},
   "outputs": [],
   "source": [
    "import numpy as np"
   ]
  },
  {
   "cell_type": "markdown",
   "id": "12092c05",
   "metadata": {},
   "source": [
    "Let's make an array of numbers from 1 to 10 including the endpoints."
   ]
  },
  {
   "cell_type": "code",
   "execution_count": null,
   "id": "b5836a17",
   "metadata": {},
   "outputs": [],
   "source": [
    "np.arange(1, 11)"
   ]
  },
  {
   "cell_type": "markdown",
   "id": "6b84584e",
   "metadata": {},
   "source": [
    "Let's make an array of numbers from 0.1 to 1.0 including the endpoints."
   ]
  },
  {
   "cell_type": "code",
   "execution_count": null,
   "id": "2962834d",
   "metadata": {
    "tags": []
   },
   "outputs": [],
   "source": [
    "np.arange(0.1, 1.1, 0.1)"
   ]
  },
  {
   "cell_type": "markdown",
   "id": "3a61dd57",
   "metadata": {},
   "source": [
    "To use the `arange` function from the `NumPy` library need to put the `np` alias in front of the function name. The syntax for the `np.arange` function is similar to the `range` function.\n",
    "\n",
    "```\n",
    "arange([start,] stop[, step,][, dtype])\n",
    "```\n",
    "\n",
    "* start : [optional] start of interval range. By default start=0\n",
    "\n",
    "* stop  : end of interval range\n",
    "\n",
    "* step  : [optional] step size of interval. By default step size=1.\n",
    "\n",
    "* dtype : type of output array"
   ]
  },
  {
   "cell_type": "markdown",
   "id": "483f0551",
   "metadata": {},
   "source": [
    "**Question 4.** Use the `np.arange()` function to generate a list of the first 100 even integers. Save the list of numbers to `first100_even_integers`.\n",
    "\n",
    "**Hint:** Review the syntax of the `np.arange()` function. "
   ]
  },
  {
   "cell_type": "code",
   "execution_count": null,
   "id": "443d8c2e",
   "metadata": {
    "tags": []
   },
   "outputs": [],
   "source": [
    "first100_even_integers = ...\n",
    "first100_even_integers"
   ]
  },
  {
   "cell_type": "code",
   "execution_count": null,
   "id": "276febf3",
   "metadata": {
    "deletable": false,
    "editable": false
   },
   "outputs": [],
   "source": [
    "grader.check(\"q4\")"
   ]
  },
  {
   "cell_type": "markdown",
   "id": "2d9c0962",
   "metadata": {},
   "source": [
    "Notice how the values get displayed when we run the code cell. \n",
    "\n",
    "Another great benefit of an array is the ability to do *element-wise* operations. Run the next three cells to see examples."
   ]
  },
  {
   "cell_type": "code",
   "execution_count": null,
   "id": "7fb06167",
   "metadata": {},
   "outputs": [],
   "source": [
    "# Create an array of numbers from 0 to 200\n",
    "numbers = np.arange(1, 201)\n",
    "\n",
    "# Divide each element by 100\n",
    "numbers/100"
   ]
  },
  {
   "cell_type": "code",
   "execution_count": null,
   "id": "7ae7e3c4",
   "metadata": {},
   "outputs": [],
   "source": [
    "# Take the log base 10 of each element\n",
    "np.log10(numbers)"
   ]
  },
  {
   "cell_type": "code",
   "execution_count": null,
   "id": "057b4665",
   "metadata": {
    "tags": []
   },
   "outputs": [],
   "source": [
    "# Take the squre root of each element\n",
    "numbers**(1/2)"
   ]
  },
  {
   "cell_type": "markdown",
   "id": "94e57102",
   "metadata": {},
   "source": [
    "**Question 5.**  Use `np.arange` and the exponentiation operator `**` to compute the first 30 powers of 2, **starting from $2^0$**. Save this to `powers_of_2`.\n",
    "\n",
    "**Hint:** Part of your solution will involve `np.arange`, but your array shouldn't have more than 30 elements.\n",
    "\n",
    "**Warning:** `np.arange(1, 2**30, 1)` creates an array with $2^{30}$ elements and **will crash your kernel** and you will need to start over. "
   ]
  },
  {
   "cell_type": "code",
   "execution_count": null,
   "id": "b0094116",
   "metadata": {
    "tags": []
   },
   "outputs": [],
   "source": [
    "powers_of_2 = ...\n",
    "powers_of_2"
   ]
  },
  {
   "cell_type": "code",
   "execution_count": null,
   "id": "3576eea7",
   "metadata": {
    "deletable": false,
    "editable": false
   },
   "outputs": [],
   "source": [
    "grader.check(\"q5\")"
   ]
  },
  {
   "cell_type": "markdown",
   "id": "20ad8e4e",
   "metadata": {},
   "source": [
    "## 4. Plotting Graphs\n",
    "\n",
    "### Matplotlib\n",
    "\n",
    "Take time to go through the `pyplot` tutorial. Please click [here](https://matplotlib.org/stable/tutorials/introductory/pyplot.htmlhttps://matplotlib.org/stable/tutorials/introductory/pyplot.html) and go through the tutorial notebook and familiarize yourself with the basics of `pyplot`. This should take roughly 20 minutes. We've already imported the `matplotlib` library earlier in the notebook.\n",
    "\n",
    "```\n",
    "import matplotlib.pyplot as plt\n",
    "plt.style.use(\"fivethirtyeight\")\n",
    "%matplotlib inline\n",
    "```\n",
    "\n",
    "**Note:** The tutorial uses `np.arange`, which returns an array that steps from $a$ to $b$ with a fixed step size $s$. While this is fine in some cases, we sometimes prefer to use `np.linspace(a, b, N)`, which divides the interval $[a, b]$ into $N$ equally spaced points.\n",
    "\n",
    "For example, `np.linspace` always includes both end points while `np.arange` will not include the second end point $b$. For this reason, when we are plotting ranges of values we tend to prefer `np.linspace`.\n",
    "\n",
    "Notice how the following two statements have different parameters but return the same result."
   ]
  },
  {
   "cell_type": "code",
   "execution_count": null,
   "id": "44441c3c",
   "metadata": {},
   "outputs": [],
   "source": [
    "np.arange(-5, 6, 1.0)"
   ]
  },
  {
   "cell_type": "code",
   "execution_count": null,
   "id": "11af2863",
   "metadata": {},
   "outputs": [],
   "source": [
    "np.linspace(-5, 5, 11)"
   ]
  },
  {
   "cell_type": "markdown",
   "id": "ac628ac8",
   "metadata": {},
   "source": [
    "<!-- BEGIN QUESTION -->\n",
    "\n",
    "**Question 6.** Let's visualize the function $f(t) = 3\\sin(2\\pi t)$.\n",
    "\n",
    "- Set the $x$ limit of all figures to $[0, \\pi]$ and the $y$ limit to $[-10, 10]$. \n",
    "\n",
    "- Plot the sine function using `plt.plot` with 30 red plus signs. \n",
    "\n",
    "- Make sure the $x$ ticks are labeled $\\left[0, \\frac{\\pi}{2}, \\pi\\right]$, and that your axes are labeled as well. \n",
    "\n",
    "**Note:** Since this question will be manually graded, there is no `grader.check(\"q7\")`.\n",
    "\n",
    "\n",
    "**Documentation:** Click [here](https://matplotlib.org/api/pyplot_api.html) to use the `matplotlib` documentation for reference.\n",
    "\n",
    "\n",
    "Your plot should look like the following:\n",
    "\n",
    "<center><img src=\"images/graph1.png\"></center>\n",
    "\n",
    "**Hints:** \n",
    "\n",
    "* You can set axis bounds with `plt.axis`.\n",
    "\n",
    "* You can set `xticks` and labels with `plt.xticks`.\n",
    "\n",
    "* Make sure you add `plt.xlabel`, `plt.ylabel`, and `plt.title`."
   ]
  },
  {
   "cell_type": "code",
   "execution_count": null,
   "id": "35f7f3f1",
   "metadata": {
    "tags": []
   },
   "outputs": [],
   "source": [
    "t = ...\n",
    "y = 3*np.sin(2*math.pi*t)\n",
    "\n",
    "plt.ylim((..., ...))\n",
    "plt.scatter(t, y, marker = ..., c = ..., linewidth=1)\n",
    "plt.xticks([0, math.pi/2, math.pi],[r'$0$', r'$\\pi/2$', r'$\\pi$'])\n",
    "plt.xlabel('t')\n",
    "plt.ylabel('f(t)')\n",
    "plt.title('f(t) = 3sin(2$\\pi$t)');"
   ]
  },
  {
   "cell_type": "markdown",
   "id": "57db5705",
   "metadata": {},
   "source": [
    "<!-- END QUESTION -->\n",
    "\n",
    "## 5. Small Numbers\n",
    "\n",
    "### How Python Treats Numbers\n",
    "\n",
    "Python has three built-in numeric data types: integers, floating-point numbers, and complex numbers. Today we will only be concerned with integers and floating-point numbers. Integers and floating points are separated by the presence or absence of a decimal point. For instance, 5 is an integer whereas 5.0 is a floating-point number. Run the cells below to see examples."
   ]
  },
  {
   "cell_type": "code",
   "execution_count": null,
   "id": "a2117ed5",
   "metadata": {},
   "outputs": [],
   "source": [
    "5"
   ]
  },
  {
   "cell_type": "code",
   "execution_count": null,
   "id": "5b9f60b5",
   "metadata": {},
   "outputs": [],
   "source": [
    "5.0"
   ]
  },
  {
   "cell_type": "markdown",
   "id": "b1a6a07d",
   "metadata": {},
   "source": [
    "We can use the `type` function to know which type of a value or a variable belongs. "
   ]
  },
  {
   "cell_type": "code",
   "execution_count": null,
   "id": "10ae93c3",
   "metadata": {},
   "outputs": [],
   "source": [
    "print(type(5))\n",
    "print(type(5.0))"
   ]
  },
  {
   "cell_type": "code",
   "execution_count": null,
   "id": "020998a4",
   "metadata": {},
   "outputs": [],
   "source": [
    "x1 = 5\n",
    "x2 = 5.0\n",
    "\n",
    "print(type(x1))\n",
    "print(type(x2))"
   ]
  },
  {
   "cell_type": "markdown",
   "id": "367fc593",
   "metadata": {},
   "source": [
    "A central them of this course is the concept of approximations. Python's built-in floating-point class performs some calculations that might we might not agree with. We all know that the sum of `1.1` and `2.2` is `3.3`, but Python seems to disagree. \n",
    "\n",
    "Run the cell below to see."
   ]
  },
  {
   "cell_type": "code",
   "execution_count": null,
   "id": "8562de17",
   "metadata": {},
   "outputs": [],
   "source": [
    "(1.1+2.2)  == 3.3"
   ]
  },
  {
   "cell_type": "markdown",
   "id": "f65f6325",
   "metadata": {},
   "source": [
    "Why does Python think this is **False**? Run the cell below to see what Python thinks. "
   ]
  },
  {
   "cell_type": "code",
   "execution_count": null,
   "id": "8d04973a",
   "metadata": {},
   "outputs": [],
   "source": [
    "1.2+2.2"
   ]
  },
  {
   "cell_type": "markdown",
   "id": "8107a768",
   "metadata": {},
   "source": [
    "To quote the [documentation](https://docs.python.org/3.3/tutorial/floatingpoint.html):\n",
    "\n",
    "> Unfortunately, most decimal fractions cannot be represented exactly as binary fractions. A consequence is that, in general, the decimal floating-point numbers you enter are only approximated by the binary floating-point numbers actually stored in the machine.\n",
    "\n",
    "Sometimes we will get what we expect. Run the cells below to see some examples."
   ]
  },
  {
   "cell_type": "code",
   "execution_count": null,
   "id": "e2de6a2b",
   "metadata": {},
   "outputs": [],
   "source": [
    "1.1+1.1"
   ]
  },
  {
   "cell_type": "code",
   "execution_count": null,
   "id": "87b79d27",
   "metadata": {},
   "outputs": [],
   "source": [
    "1.1+2.3"
   ]
  },
  {
   "cell_type": "code",
   "execution_count": null,
   "id": "17ec6b6d",
   "metadata": {},
   "outputs": [],
   "source": [
    "1.1+2.2"
   ]
  },
  {
   "cell_type": "markdown",
   "id": "89fd3e82",
   "metadata": {},
   "source": [
    "Finally, below is another weird one."
   ]
  },
  {
   "cell_type": "code",
   "execution_count": null,
   "id": "e134be53",
   "metadata": {},
   "outputs": [],
   "source": [
    "0.1+0.1+0.1-0.3"
   ]
  },
  {
   "cell_type": "code",
   "execution_count": null,
   "id": "7f03bf6b",
   "metadata": {},
   "outputs": [],
   "source": [
    "99.999999999-99.999999997"
   ]
  },
  {
   "cell_type": "markdown",
   "id": "03a861fb",
   "metadata": {},
   "source": [
    "The `e-09` means $10^{-9}$. That's kind of a small number. \n",
    "\n",
    "What we want to do is to find the smallest number (not 0) Python treats equal to 0. For example, \n",
    "\n",
    "$$1 + \\text{a really small number that's not 0} = 1$$"
   ]
  },
  {
   "cell_type": "markdown",
   "id": "77fbc399",
   "metadata": {},
   "source": [
    "**Question 7.** Assign a value to `a_really_small_number_thats_not_0`, then run the cell. Once you get 1.0 you are done with the question."
   ]
  },
  {
   "cell_type": "code",
   "execution_count": null,
   "id": "e721253a",
   "metadata": {
    "tags": []
   },
   "outputs": [],
   "source": [
    "a_really_small_number_thats_not_0 = ...\n",
    "1 + a_really_small_number_thats_not_0"
   ]
  },
  {
   "cell_type": "code",
   "execution_count": null,
   "id": "d4cb2e0f",
   "metadata": {
    "deletable": false,
    "editable": false
   },
   "outputs": [],
   "source": [
    "grader.check(\"q7\")"
   ]
  },
  {
   "cell_type": "markdown",
   "id": "a63601c6",
   "metadata": {},
   "source": [
    "The next natural question has to be, what number (not 0) does Python say is equal to zero."
   ]
  },
  {
   "cell_type": "markdown",
   "id": "cbe9b836",
   "metadata": {},
   "source": [
    "<!-- BEGIN QUESTION -->\n",
    "\n",
    "**Question 8.** Assign a value to `not_really_0`, then run the cell. Once the result of running the code cell is **True** you are done. Be careful, we are looking for the **first** number that Python says is equal to 0. Hence typing `1e-500` won't be an acceptable answer.\n",
    "\n",
    "**Note:** Since this question will be manually graded, there is no `grader.check(\"q9\")`."
   ]
  },
  {
   "cell_type": "code",
   "execution_count": null,
   "id": "c371441c",
   "metadata": {
    "tags": []
   },
   "outputs": [],
   "source": [
    "not_really_0 = ...\n",
    "not_really_0 == 0.0"
   ]
  },
  {
   "cell_type": "markdown",
   "id": "cb7f7309",
   "metadata": {},
   "source": [
    "<!-- END QUESTION -->\n",
    "\n"
   ]
  },
  {
   "cell_type": "markdown",
   "id": "aea12734",
   "metadata": {
    "deletable": false,
    "editable": false
   },
   "source": [
    "---\n",
    "\n",
    "To double-check your work, the cell below will rerun all of the autograder tests."
   ]
  },
  {
   "cell_type": "code",
   "execution_count": null,
   "id": "fd58cd79",
   "metadata": {
    "deletable": false,
    "editable": false
   },
   "outputs": [],
   "source": [
    "grader.check_all()"
   ]
  },
  {
   "cell_type": "markdown",
   "id": "e8baa041",
   "metadata": {
    "deletable": false,
    "editable": false
   },
   "source": [
    "## Submission\n",
    "\n",
    "Make sure you have run all cells in your notebook in order before running the cell below, so that all images/graphs appear in the output. The cell below will generate a zip file for you to submit. **Please save before exporting!**\n",
    "\n",
    "When done exporting, download the .zip file by finding it in the file browswer on the left side of the screen, then right-click and select **Download**. You'll submit this .zip file for the assignment in Canvas to Gradescope for grading."
   ]
  },
  {
   "cell_type": "code",
   "execution_count": null,
   "id": "5a45df54",
   "metadata": {
    "deletable": false,
    "editable": false
   },
   "outputs": [],
   "source": [
    "# Save your notebook first, then run this cell to export your submission.\n",
    "grader.export()"
   ]
  },
  {
   "cell_type": "markdown",
   "id": "68ba2399",
   "metadata": {},
   "source": [
    " "
   ]
  }
 ],
 "metadata": {
  "kernelspec": {
   "display_name": "Python 3 (ipykernel)",
   "language": "python",
   "name": "python3"
  },
  "language_info": {
   "codemirror_mode": {
    "name": "ipython",
    "version": 3
   },
   "file_extension": ".py",
   "mimetype": "text/x-python",
   "name": "python",
   "nbconvert_exporter": "python",
   "pygments_lexer": "ipython3",
   "version": "3.9.6"
  },
  "otter": {
   "tests": {
    "q1": {
     "name": "q1",
     "points": null,
     "suites": [
      {
       "cases": [
        {
         "code": ">>> near_twenty\n19.99909997918947",
         "hidden": false,
         "locked": false
        }
       ],
       "scored": true,
       "setup": "",
       "teardown": "",
       "type": "doctest"
      }
     ]
    },
    "q2": {
     "name": "q2",
     "points": null,
     "suites": [
      {
       "cases": [
        {
         "code": ">>> sine_of_pi_over_four\n0.7071067811865475",
         "hidden": false,
         "locked": false
        }
       ],
       "scored": true,
       "setup": "",
       "teardown": "",
       "type": "doctest"
      }
     ]
    },
    "q3": {
     "name": "q3",
     "points": null,
     "suites": [
      {
       "cases": [
        {
         "code": ">>> isinstance(first100_odd_integers, range)\nTrue",
         "hidden": false,
         "locked": false
        },
        {
         "code": ">>> [199, 1, 100] == [max(first100_odd_integers), min(first100_odd_integers), len(first100_odd_integers)]\nTrue",
         "hidden": false,
         "locked": false
        }
       ],
       "scored": true,
       "setup": "",
       "teardown": "",
       "type": "doctest"
      }
     ]
    },
    "q4": {
     "name": "q4",
     "points": null,
     "suites": [
      {
       "cases": [
        {
         "code": ">>> isinstance(first100_even_integers, np.ndarray)\nTrue",
         "hidden": false,
         "locked": false
        },
        {
         "code": ">>> [200, 2, 100] == [max(first100_even_integers), min(first100_even_integers), len(first100_even_integers)]\nTrue",
         "hidden": false,
         "locked": false
        }
       ],
       "scored": true,
       "setup": "",
       "teardown": "",
       "type": "doctest"
      }
     ]
    },
    "q5": {
     "name": "q5",
     "points": null,
     "suites": [
      {
       "cases": [
        {
         "code": ">>> isinstance(powers_of_2, np.ndarray)\nTrue",
         "hidden": false,
         "locked": false
        },
        {
         "code": ">>> np.sum(powers_of_2)\n1073741823",
         "hidden": false,
         "locked": false
        }
       ],
       "scored": true,
       "setup": "",
       "teardown": "",
       "type": "doctest"
      }
     ]
    },
    "q7": {
     "name": "q7",
     "points": null,
     "suites": [
      {
       "cases": [
        {
         "code": ">>> np.random.seed(123)\n>>> np.random.randint(1e10)*a_really_small_number_thats_not_0\n2.967327842e-07",
         "hidden": false,
         "locked": false
        }
       ],
       "scored": true,
       "setup": "",
       "teardown": "",
       "type": "doctest"
      }
     ]
    }
   }
  }
 },
 "nbformat": 4,
 "nbformat_minor": 5
}
