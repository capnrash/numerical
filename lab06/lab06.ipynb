{
 "cells": [
  {
   "cell_type": "code",
   "execution_count": null,
   "id": "e6ac59fd",
   "metadata": {
    "deletable": false,
    "editable": false
   },
   "outputs": [],
   "source": [
    "# Initialize Otter\n",
    "import otter\n",
    "grader = otter.Notebook(\"lab06.ipynb\")"
   ]
  },
  {
   "cell_type": "markdown",
   "id": "4e913c7a",
   "metadata": {
    "tags": []
   },
   "source": [
    "# Lab 06: More Root Finding and Fixed Point Iteration\n",
    "\n",
    "Welcome to Lab 06! Throughout the course you will complete a lab assignments like this one. You can't learn technical subjects without hands-on practice, so labs are an important part of the course.\n",
    "\n",
    "Collaborating on labs is more than okay -- it's encouraged. You should rarely remain stuck for more than a few minutes on questions in labs, so ask a neighbor or an instructor for help. Explaining things is beneficial, too -- the best way to solidify your knowledge of a subject is to explain it. You should **not** just copy/paste someone else's code, but rather work together to gain understanding of the task you need to complete. \n",
    "\n",
    "In today's lab, you'll learn more about root finding algorithms and fixed-point iteration. \n",
    "\n",
    "To receive credit for a lab, answer all questions correctly and submit before the deadline.\n",
    "\n",
    "**Due Date:** Tuesday, March 15, 2022 at 11:59 pm\n",
    "\n",
    "**Collaboration Policy:** Labs are a collaborative activity. While you may talk with others about the labs, we ask that you **write your solutions individually**. If you do discuss the assignments with others **please include their names below** (it's a good way to learn your classmates' names).\n",
    "\n",
    "**Collaborators:** \n",
    "\n",
    "List collaborators here."
   ]
  },
  {
   "cell_type": "markdown",
   "id": "f927738b",
   "metadata": {},
   "source": [
    "# 0. Importing Modules\n",
    "\n",
    "In this lab we will need the following modules:\n",
    "\n",
    "- `NumPy`\n",
    "\n",
    "- `math`\n",
    "\n",
    "- `matplotlib`\n",
    "\n",
    "\n",
    "Run the cell below to import the required modules."
   ]
  },
  {
   "cell_type": "code",
   "execution_count": null,
   "id": "f56c60b5",
   "metadata": {},
   "outputs": [],
   "source": [
    "import numpy as np\n",
    "import math\n",
    "import matplotlib.pyplot as plt\n",
    "plt.style.use('seaborn-whitegrid')\n",
    "%matplotlib inline"
   ]
  },
  {
   "cell_type": "markdown",
   "id": "a4c0915f",
   "metadata": {},
   "source": [
    "**Question 1.** Using `np.sin` we can find $y-$values for $f(x)=\\sin (x)$. Use `np.sin` to find the sine of $\\frac{\\pi}{3}$."
   ]
  },
  {
   "cell_type": "code",
   "execution_count": null,
   "id": "7f64578f",
   "metadata": {
    "tags": []
   },
   "outputs": [],
   "source": [
    "sin_pi_over_2 = ...\n",
    "sin_pi_over_2"
   ]
  },
  {
   "cell_type": "code",
   "execution_count": null,
   "id": "16222459",
   "metadata": {
    "deletable": false,
    "editable": false
   },
   "outputs": [],
   "source": [
    "grader.check(\"q1\")"
   ]
  },
  {
   "cell_type": "markdown",
   "id": "afd5a47e",
   "metadata": {},
   "source": [
    "# 1. Review of the Root Finding Methods\n",
    "\n",
    "Below are example Python functions for each of the root finding methods we've studied in our course: \n",
    "\n",
    "* Bisection method\n",
    "\n",
    "* Secant method\n",
    "\n",
    "* Newton's method"
   ]
  },
  {
   "cell_type": "code",
   "execution_count": null,
   "id": "98e11a53",
   "metadata": {},
   "outputs": [],
   "source": [
    "def bisection_method(f, a, b, iterations = 25, tol = 1e-6):\n",
    "    \"\"\"\n",
    "    Parameters\n",
    "    ----------\n",
    "    f               : Function for which we are searching for a solution f(x)=0.\n",
    "    a, b            : The endpoints of the interval.\n",
    "    iterations = 25 : Set the maximum number of iterations for the loop.\n",
    "    tol = 1e-6      : Set the level of tolerance for a stopping criteria.\n",
    "    \n",
    "    Returns\n",
    "    -------\n",
    "    The approximation for the root (if found).\n",
    "    \"\"\"\n",
    "    \n",
    "    \"\"\"\n",
    "    Intermediate Value Theorem check.\n",
    "    \"\"\"\n",
    "    if f(a)*f(b) >= 0:\n",
    "        print(\"A root is not guaranteed in this interval.\")\n",
    "        return 0\n",
    "    \n",
    "    \"\"\"\n",
    "    For loop for the algorithm.\n",
    "    \"\"\"\n",
    "    for n in range(iterations):\n",
    "        \"\"\"\n",
    "        Bisection method\n",
    "        \"\"\"\n",
    "        c = (a + b)/2.0\n",
    "                          \n",
    "        if f(a)*f(c) > 0:\n",
    "            a = c\n",
    "        else:\n",
    "            b = c\n",
    "            \n",
    "        \"\"\"\n",
    "        Error check and iterations check.\n",
    "        \"\"\"\n",
    "        if abs(b - a) < tol:\n",
    "            break\n",
    "        elif n == iterations - 1:\n",
    "            print(\"\\nLevel of tolerance not reached after 25 iterations.\")\n",
    "            break\n",
    "    \n",
    "    print('Found solution after', n, 'iterations.')\n",
    "    return c\n",
    "\n",
    "def secant_method(f, a, b, iterations = 25, tol = 1e-6):\n",
    "    \"\"\"\n",
    "\n",
    "    Parameters\n",
    "    ----------\n",
    "    f               : Function for which we are searching for a solution f(x)=0.\n",
    "    a, b            : Endpoints of the interval.\n",
    "    iterations = 25 : Set the aximum number of iterations for the loop.\n",
    "    tol = 1e-6      : Set the level of tolerance for a stopping criteria.\n",
    "\n",
    "    Returns\n",
    "    -------\n",
    "    The approximation of the root (if found).\n",
    "    \"\"\"\n",
    "    \n",
    "    \"\"\"\n",
    "    Initialize the err, f(a), and iteration counter n.\n",
    "    \"\"\"\n",
    "    err = 1\n",
    "    fa = f(a)\n",
    "    n = 0\n",
    "    \n",
    "    \"\"\"\n",
    "    While loop for algorithm\n",
    "    \"\"\"\n",
    "    while abs(err) > tol and n <= iterations:\n",
    "        \n",
    "        \"\"\"\n",
    "        Update iteration counter.\n",
    "        \"\"\"\n",
    "        n += 1\n",
    "        fb = f(b)\n",
    "        \n",
    "        \"\"\"\n",
    "        Check to see if there will be division by 0.\n",
    "        \"\"\"\n",
    "        if fa - fb == 0:\n",
    "            print('f(a)-f(b)=0: Division by zero is undefined')\n",
    "            return None\n",
    "        \n",
    "        \"\"\"\n",
    "        Secant method and error check.\n",
    "        \"\"\"\n",
    "        c = b - fb*(b-a)/(fb-fa)\n",
    "        err = c - b\n",
    "        \n",
    "        a = b \n",
    "        b = c\n",
    "        fa = fb\n",
    "        \n",
    "        \"\"\"\n",
    "        Check the number of iterations.\n",
    "        \"\"\"\n",
    "        if n >= iterations:\n",
    "            print('Exceeded maximum iterations', n, 'No solution found.')\n",
    "            return None\n",
    "    \n",
    "    print('Found solution after', n, 'iterations.')\n",
    "    return c\n",
    "\n",
    "def newtons_method(f, Df, x0, iterations = 25, tol = 1e-6):\n",
    "    \"\"\"\n",
    "    Parameters\n",
    "    ----------\n",
    "    f               : Function for which we are searching for a solution f(x)=0.\n",
    "    Df              : Derivative of f(x).\n",
    "    x0              : Initial guess for a solution f(x)=0.\n",
    "    iterations = 25 : Set the maximum number of iterations for the loop.\n",
    "    tol = 1e-6      : Set the level of tolerance between successive x-values for a stopping criteria.\n",
    "\n",
    "    Returns\n",
    "    -------\n",
    "    The approximation of the root (if found).\n",
    "    \"\"\"\n",
    "    \n",
    "    \"\"\"\n",
    "    Initialize the err, x, and iteration counter n.\n",
    "    \"\"\"\n",
    "    err = 1\n",
    "    x = x0\n",
    "    n = 0\n",
    "    \n",
    "    \"\"\"\n",
    "    While loop for algorithm.\n",
    "    \"\"\"\n",
    "    while abs(err) > tol and n <= iterations:\n",
    "        fxn = f(x)\n",
    "        Dfxn = Df(x)\n",
    "        \n",
    "        \"\"\"\n",
    "        Check to see if the derivative at x0 equals 0.\n",
    "        \"\"\"\n",
    "        if Df(x0) == 0:\n",
    "            print('Zero derivative. No solution found.')\n",
    "            return None\n",
    "        \n",
    "        \"\"\"\n",
    "        Newtons method and error check\n",
    "        \"\"\"\n",
    "        xn = x - fxn/Dfxn\n",
    "        err = xn - x\n",
    "        x = xn\n",
    "        \n",
    "        \"\"\"\n",
    "        Update iteration counter.\n",
    "        \"\"\"\n",
    "        n += 1\n",
    "        \n",
    "        \"\"\"\n",
    "        Check the number of iterations.\n",
    "        \"\"\"\n",
    "        if n >= iterations:\n",
    "            print('Exceeded maximum iterations', n, 'No solution found.')\n",
    "            return None\n",
    "    \n",
    "    print('Found solution after', n, 'iterations.')\n",
    "    return xn"
   ]
  },
  {
   "cell_type": "markdown",
   "id": "3346f3c2",
   "metadata": {},
   "source": [
    "<!-- BEGIN QUESTION -->\n",
    "\n",
    "**Question 2.** The function $f(x)=1-x+\\sin⁡(x$) has a root in the interval $[1,3]$. Plot the function on the interval.\n",
    "\n",
    "**Hint:** It might help to use a lambda function and `numpy`'s version of the sine function (`np.sin`)."
   ]
  },
  {
   "cell_type": "code",
   "execution_count": null,
   "id": "2942928e",
   "metadata": {
    "tags": []
   },
   "outputs": [],
   "source": [
    "...\n"
   ]
  },
  {
   "cell_type": "markdown",
   "id": "65c80c8c",
   "metadata": {},
   "source": [
    "<!-- END QUESTION -->\n",
    "\n",
    "<!-- BEGIN QUESTION -->\n",
    "\n",
    "**Question 3.** How many iterations of bisection would be needed in order to approximate the root of the function in **Question 2** with error no more than $5 \\cdot 10^{-8}$? Justify your answer."
   ]
  },
  {
   "cell_type": "markdown",
   "id": "a1566c65",
   "metadata": {},
   "source": [
    "_Type your answer here, replacing this text._"
   ]
  },
  {
   "cell_type": "markdown",
   "id": "ad87708b",
   "metadata": {},
   "source": [
    "<!-- END QUESTION -->\n",
    "\n",
    "A trough of length $L$ has a cross section in the shape of a semicircle with radius $r$ (see figure below). \n",
    "\n",
    "<center><img src=\"images/watertrough.jpg\" width=\"600\" height=\"700\"/></center>\n",
    "\n",
    "When filled with water to within a distance $h$ of the top, the volume $V$ of water is\n",
    "\n",
    "$$V=L \\left[ \\frac{1}{2}\\pi r^2-r^2\\arcsin \\left(\\frac{h}{r} \\right)-h\\sqrt{r^2-h^2}\\right]$$\n",
    "\n",
    "**Note:** The arcsine function can be accessed fron the `numpy` module using `np.arcsin`.\n",
    "\n",
    "Suppose $L=15$ ft, $r=2.0$ ft, and $V=75.0$ ft$^3$. Find the depth of water in the trough to within $0.0001$ ft. Use each of the three functions (`bisection_method`, `secant_method`, and `newtons_method`. Select your own reasonable initial condition(s). \n",
    "\n",
    "**Hint:** It may help to notice that $h$ is necessarily bounded between $0$ and $r$."
   ]
  },
  {
   "cell_type": "markdown",
   "id": "a2ed5f06",
   "metadata": {},
   "source": [
    "<!-- BEGIN QUESTION -->\n",
    "\n",
    "**Question 4.**  Use the `bisection_method` function.\n",
    "\n",
    "**Hint:** It will be helpful to use a lambda function for $f(x)$."
   ]
  },
  {
   "cell_type": "code",
   "execution_count": null,
   "id": "1efddaad",
   "metadata": {
    "tags": []
   },
   "outputs": [],
   "source": [
    "f = lambda ...\n",
    "root = ...\n",
    "root"
   ]
  },
  {
   "cell_type": "markdown",
   "id": "e60b4be7",
   "metadata": {},
   "source": [
    "<!-- END QUESTION -->\n",
    "\n",
    "<!-- BEGIN QUESTION -->\n",
    "\n",
    "**Question 5.**  Use the `secant_method` function.\n",
    "\n",
    "**Hint:** It will be helpful to use a lambda function for $f(x)$."
   ]
  },
  {
   "cell_type": "code",
   "execution_count": null,
   "id": "62cfd556",
   "metadata": {
    "tags": []
   },
   "outputs": [],
   "source": [
    "f = lambda ...\n",
    "root = \n",
    "root"
   ]
  },
  {
   "cell_type": "markdown",
   "id": "3e60db34",
   "metadata": {},
   "source": [
    "<!-- END QUESTION -->\n",
    "\n",
    "<!-- BEGIN QUESTION -->\n",
    "\n",
    "**Question 6.**  Use the `newtons_method` function.\n",
    "\n",
    "**Hint:** It will be helpful to use a lambda functions for $f(x)$ and $f'(x)$. \n",
    "\n",
    "**Warning:** Check your derivative with a classmate before implementing Newton's method."
   ]
  },
  {
   "cell_type": "code",
   "execution_count": null,
   "id": "38158285",
   "metadata": {
    "tags": []
   },
   "outputs": [],
   "source": [
    "f = lambda ...\n",
    "df = lambda ...\n",
    "root = ...\n",
    "root"
   ]
  },
  {
   "cell_type": "markdown",
   "id": "ddd0d04f",
   "metadata": {},
   "source": [
    "<!-- END QUESTION -->\n",
    "\n",
    "<!-- BEGIN QUESTION -->\n",
    "\n",
    "**Question 7.**  Compare and contrast what happens in **Questions 4**, **5**, and **6**. Especially address the “speed” of convergence toward the root. Are you surprised by your results? Explain."
   ]
  },
  {
   "cell_type": "markdown",
   "id": "abe089ec",
   "metadata": {},
   "source": [
    "_Type your answer here, replacing this text._"
   ]
  },
  {
   "cell_type": "markdown",
   "id": "dd669442",
   "metadata": {},
   "source": [
    "<!-- END QUESTION -->\n",
    "\n",
    "<!-- BEGIN QUESTION -->\n",
    "\n",
    "**Question 8.** In class we looked at some examples of fixed-point iterations (see the Fixed-Point Iteration tab in One Note). Consider the sequence $x_{n+1}=g\\left(x_n \\right)$ for each $g(x)$ below.\n",
    "\n",
    "**a.** $\\displaystyle g_1(x)=\\frac{5}{x}$\n",
    "\n",
    "**b.** $\\displaystyle g_2(x) = 1+x-\\frac{x^2}{5}$\n",
    "\n",
    "**c.** $\\displaystyle g_3(x) = \\frac{1}{2}\\left(x + \\frac{5}{x} \\right)$\n",
    "\n",
    "**d.** $\\displaystyle g_4(x) = 5+x-x^2$\n",
    "\n",
    "Verify that the $\\sqrt 5$ is a fixed-point solution for each function.\n",
    "\n",
    "**Note:** In class we looked at some examples (see the Fixed-Point Iteration tab in One Note)"
   ]
  },
  {
   "cell_type": "code",
   "execution_count": null,
   "id": "9704a040",
   "metadata": {
    "tags": []
   },
   "outputs": [],
   "source": [
    "g_1 = lambda ...\n",
    "g_2 = lambda ...\n",
    "g_3 = lambda ...\n",
    "g_4 = lambda ...\n",
    "print(\"The square root of 5 is\", np.sqrt(5))\n",
    "print(\"g_1 @ square root 5 =\", g_1(np.sqrt(5)))\n",
    "print(\"g_2 @ square root 5 =\", g_2(np.sqrt(5)))\n",
    "print(\"g_3 @ square root 5 =\", g_3(np.sqrt(5)))\n",
    "print(\"g_1 @ square root 5 =\", g_4(np.sqrt(5)))"
   ]
  },
  {
   "cell_type": "markdown",
   "id": "01f61749",
   "metadata": {},
   "source": [
    "<!-- END QUESTION -->\n",
    "\n",
    "<!-- BEGIN QUESTION -->\n",
    "\n",
    "**Question 9.** Use the results from Tuesday's class to determine which functions $\\left(g_1, g_2, g_3, \\right .$ or $\\left . g_4\\right)$ converge. Justify your answers."
   ]
  },
  {
   "cell_type": "markdown",
   "id": "afb41bfb",
   "metadata": {},
   "source": [
    "_Type your answer here, replacing this text._"
   ]
  },
  {
   "cell_type": "markdown",
   "id": "b4e3c39d",
   "metadata": {},
   "source": [
    "<!-- END QUESTION -->\n",
    "\n",
    "**Question 10.** Each of the functions from **Question 9** are repeated below. If a function converges to $\\sqrt 5$, how \"fast\" (qualitatively speaking), does it converge? Feel free to use a code cell in this notebook, another programming language, your calculator, or a spreadsheet to do your calculations. If a function does not converge indicate as such in the text cell."
   ]
  },
  {
   "cell_type": "markdown",
   "id": "40b483ce",
   "metadata": {},
   "source": [
    "<!-- BEGIN QUESTION -->\n",
    "\n",
    "**Question 10 a.**  $\\displaystyle g(x)=\\frac{5}{x}$\n",
    "\n",
    "**Note:** You can use the cell below to run code."
   ]
  },
  {
   "cell_type": "code",
   "execution_count": null,
   "id": "81983c37",
   "metadata": {},
   "outputs": [],
   "source": []
  },
  {
   "cell_type": "markdown",
   "id": "cc8fa9b8",
   "metadata": {},
   "source": [
    "_Type your answer here, replacing this text._"
   ]
  },
  {
   "cell_type": "markdown",
   "id": "afcb78c5",
   "metadata": {},
   "source": [
    "<!-- END QUESTION -->\n",
    "\n",
    "<!-- BEGIN QUESTION -->\n",
    "\n",
    "**Question 10 b.**  $\\displaystyle g(x) = 1+x-\\frac{x^2}{5}$\n",
    "\n",
    "**Note:** You can use the cell below to run code."
   ]
  },
  {
   "cell_type": "code",
   "execution_count": null,
   "id": "422c4838",
   "metadata": {},
   "outputs": [],
   "source": []
  },
  {
   "cell_type": "markdown",
   "id": "cf86831d",
   "metadata": {},
   "source": [
    "_Type your answer here, replacing this text._"
   ]
  },
  {
   "cell_type": "markdown",
   "id": "70936cf9",
   "metadata": {},
   "source": [
    "<!-- END QUESTION -->\n",
    "\n",
    "<!-- BEGIN QUESTION -->\n",
    "\n",
    "**Question 10 c.**  $\\displaystyle g(x) = \\frac{1}{2}\\left(x + \\frac{5}{x} \\right)$\n",
    "\n",
    "**Note:** You can use the cell below to run code."
   ]
  },
  {
   "cell_type": "code",
   "execution_count": null,
   "id": "f98bae16",
   "metadata": {},
   "outputs": [],
   "source": []
  },
  {
   "cell_type": "markdown",
   "id": "316db481",
   "metadata": {},
   "source": [
    "_Type your answer here, replacing this text._"
   ]
  },
  {
   "cell_type": "markdown",
   "id": "881a05b3",
   "metadata": {},
   "source": [
    "<!-- END QUESTION -->\n",
    "\n",
    "<!-- BEGIN QUESTION -->\n",
    "\n",
    "**Question 10 d.**  $\\displaystyle g(x) = 5+x-x^2$\n",
    "\n",
    "**Note:** You can use the cell below to run code."
   ]
  },
  {
   "cell_type": "code",
   "execution_count": null,
   "id": "68510fe3",
   "metadata": {},
   "outputs": [],
   "source": []
  },
  {
   "cell_type": "markdown",
   "id": "c8d574be",
   "metadata": {},
   "source": [
    "_Type your answer here, replacing this text._"
   ]
  },
  {
   "cell_type": "markdown",
   "id": "540e936c",
   "metadata": {},
   "source": [
    "<!-- END QUESTION -->\n",
    "\n",
    "<!-- BEGIN QUESTION -->\n",
    "\n",
    "**Question 11.** Observe the table below for $g(x)=1+x-\\frac{1}{5}x^2$, (from your textbook on page 104) which converges to the $\\sqrt 5$. Also, observe that $r_n$ is approaching $g'(\\alpha)$.\n",
    "\n",
    "- $n$\n",
    "\n",
    "- $x_n$\n",
    "\n",
    "- $\\alpha -x_n$\n",
    "\n",
    "- $r_n=\\frac{\\alpha - x_n}{\\alpha - x_{n-1}}$\n",
    "\n",
    "\n",
    "|n    | x_n          | alpha-x_n   | r_n       |\n",
    "|-----|--------------|-------------|-----------|\n",
    "| 0   | 2.5          | -2.64E-1    |           |\n",
    "| 1   | 2.25         | -1.39E-2    | 0.0528    |\n",
    "| 2   | 2.2375       | -1.43E-3    | 0.1028    |\n",
    "| 3   | 2.23621875   | -1.51E-4    | 0.1053    |\n",
    "| 4   | 2.23608389   | -1.59E-5    | 0.1055    |\n",
    "| 5   | 2.23606966   | -1.68E-6    | 0.1056    |\n",
    "| 6   | 2.23606815   | -1.77E-7    | 0.1056    |\n",
    "| 7   | 2.23606800   | -1.87E-8    | 0.1056    |\n",
    "\n",
    "For any other function(s) from **Question 9** that converge construct a similar table.\n",
    "\n",
    "**Notes:** You can use the cell below to run code. "
   ]
  },
  {
   "cell_type": "code",
   "execution_count": null,
   "id": "56d665d6",
   "metadata": {},
   "outputs": [],
   "source": []
  },
  {
   "cell_type": "markdown",
   "id": "681ee630",
   "metadata": {},
   "source": [
    "_Type your answer here, replacing this text._"
   ]
  },
  {
   "cell_type": "markdown",
   "id": "3db85450",
   "metadata": {},
   "source": [
    "<!-- END QUESTION -->\n",
    "\n",
    "<!-- BEGIN QUESTION -->\n",
    "\n",
    "**Question 12.** Verify from table(s) that $r_n$ approaches $g'(\\alpha)$."
   ]
  },
  {
   "cell_type": "code",
   "execution_count": null,
   "id": "c8b68ec2",
   "metadata": {},
   "outputs": [],
   "source": []
  },
  {
   "cell_type": "markdown",
   "id": "ac7e1b71",
   "metadata": {},
   "source": [
    "_Type your answer here, replacing this text._"
   ]
  },
  {
   "cell_type": "markdown",
   "id": "94eecd7e",
   "metadata": {},
   "source": [
    "<!-- END QUESTION -->\n",
    "\n"
   ]
  },
  {
   "cell_type": "markdown",
   "id": "9ba50d76",
   "metadata": {
    "deletable": false,
    "editable": false
   },
   "source": [
    "---\n",
    "\n",
    "To double-check your work, the cell below will rerun all of the autograder tests."
   ]
  },
  {
   "cell_type": "code",
   "execution_count": null,
   "id": "01aa5862",
   "metadata": {
    "deletable": false,
    "editable": false
   },
   "outputs": [],
   "source": [
    "grader.check_all()"
   ]
  },
  {
   "cell_type": "markdown",
   "id": "2cf87875",
   "metadata": {
    "deletable": false,
    "editable": false
   },
   "source": [
    "## Submission\n",
    "\n",
    "Make sure you have run all cells in your notebook in order before running the cell below, so that all images/graphs appear in the output. The cell below will generate a zip file for you to submit. **Please save before exporting!**\n",
    "\n",
    "When done exporting, download the .zip file by finding it in the file browswer on the left side of the screen, then right-click and select **Download**. You'll submit this .zip file for the assignment in Canvas to Gradescope for grading."
   ]
  },
  {
   "cell_type": "code",
   "execution_count": null,
   "id": "25f8593b",
   "metadata": {
    "deletable": false,
    "editable": false
   },
   "outputs": [],
   "source": [
    "# Save your notebook first, then run this cell to export your submission.\n",
    "grader.export()"
   ]
  },
  {
   "cell_type": "markdown",
   "id": "adb543dc",
   "metadata": {},
   "source": [
    " "
   ]
  }
 ],
 "metadata": {
  "kernelspec": {
   "display_name": "Python 3 (ipykernel)",
   "language": "python",
   "name": "python3"
  },
  "language_info": {
   "codemirror_mode": {
    "name": "ipython",
    "version": 3
   },
   "file_extension": ".py",
   "mimetype": "text/x-python",
   "name": "python",
   "nbconvert_exporter": "python",
   "pygments_lexer": "ipython3",
   "version": "3.9.6"
  },
  "otter": {
   "tests": {
    "q1": {
     "name": "q1",
     "points": null,
     "suites": [
      {
       "cases": [
        {
         "code": ">>> sin_pi_over_2\n0.8660254037844386",
         "hidden": false,
         "locked": false
        }
       ],
       "scored": true,
       "setup": "",
       "teardown": "",
       "type": "doctest"
      }
     ]
    }
   }
  }
 },
 "nbformat": 4,
 "nbformat_minor": 5
}
