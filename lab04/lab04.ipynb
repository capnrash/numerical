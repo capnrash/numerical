{
 "cells": [
  {
   "cell_type": "code",
   "execution_count": null,
   "id": "45a79294",
   "metadata": {
    "deletable": false,
    "editable": false
   },
   "outputs": [],
   "source": [
    "# Initialize Otter\n",
    "import otter\n",
    "grader = otter.Notebook(\"lab04.ipynb\")"
   ]
  },
  {
   "cell_type": "markdown",
   "id": "631935c1",
   "metadata": {
    "tags": []
   },
   "source": [
    "# Lab 04: Root Finding\n",
    "\n",
    "Welcome to Lab 04! Throughout the course you will complete a lab assignments like this one. You can't learn technical subjects without hands-on practice, so labs are an important part of the course.\n",
    "\n",
    "Collaborating on labs is more than okay -- it's encouraged. You should rarely remain stuck for more than a few minutes on questions in labs, so ask a neighbor or an instructor for help. Explaining things is beneficial, too -- the best way to solidify your knowledge of a subject is to explain it. You should **not** just copy/paste someone else's code, but rather work together to gain understanding of the task you need to complete. \n",
    "\n",
    "In today's lab, you'll learn about root finding algorithms. \n",
    "\n",
    "To receive credit for a lab, answer all questions correctly and submit before the deadline.\n",
    "\n",
    "**Due Date:** Thursday, February 24, 2022 at 11:59 pm\n",
    "\n",
    "**Collaboration Policy:** Labs are a collaborative activity. While you may talk with others about the labs, we ask that you **write your solutions individually**. If you do discuss the assignments with others **please include their names below** (it's a good way to learn your classmates' names).\n",
    "\n",
    "**Collaborators:** \n",
    "\n",
    "List collaborators here."
   ]
  },
  {
   "cell_type": "markdown",
   "id": "189af28e",
   "metadata": {
    "tags": []
   },
   "source": [
    "## 0. Python Functions\n",
    "\n",
    "Let's write a very simple function that converts a proportion to a percentage by multiplying it by 100.  For example, the value of `to_percentage(.5)` should be the number 50 (no percent sign).\n",
    "\n",
    "A function definition has a few parts.\n",
    "\n",
    "##### `def`\n",
    "It always starts with `def` (short for **def**ine):\n",
    "\n",
    "    def\n",
    "\n",
    "##### Name\n",
    "Next comes the name of the function.  Like other names we've defined, it can't start with a number or contain spaces. Let's call our function `to_percentage`:\n",
    "    \n",
    "    def to_percentage\n",
    "\n",
    "##### Signature\n",
    "Next comes something called the *signature* of the function.  This tells Python how many arguments your function should have, and what names you'll use to refer to those arguments in the function's code.  A function can have any number of arguments (including 0!). \n",
    "\n",
    "`to_percentage` should take one argument, and we'll call that argument `proportion` since it should be a proportion.\n",
    "\n",
    "    def to_percentage(proportion)\n",
    "    \n",
    "If we want our function to take more than one argument, we add a comma between each argument name. Note that if we had zero arguments, we'd still place the parentheses () after than name. \n",
    "\n",
    "We put a colon after the signature to tell Python it's over. If you're getting a syntax error after defining a function, check to make sure you remembered the colon!\n",
    "\n",
    "    def to_percentage(proportion):\n",
    "\n",
    "##### Documentation\n",
    "Functions can do complicated things, so you should write an explanation of what your function does.  For small functions, this is less important, but it's a good habit to learn from the start.  Conventionally, Python functions are documented by writing an **indented** triple-quoted string:\n",
    "\n",
    "    def to_percentage(proportion):\n",
    "        \"\"\"Converts a proportion to a percentage.\"\"\"\n",
    "    \n",
    "    \n",
    "##### Body\n",
    "Now we start writing code that runs when the function is called.  This is called the *body* of the function and every line **must be indented with a tab**.  Any lines that are *not* indented and left-aligned with the def statement is considered outside the function. \n",
    "\n",
    "Some notes about the body of the function:\n",
    "- We can write code that we would write anywhere else.  \n",
    "- We use the arguments defined in the function signature. We can do this because we assume that when we call the function, values are already assigned to those arguments.\n",
    "- We generally avoid referencing variables defined *outside* the function. If you would like to reference variables outside of the function, pass them through as arguments!\n",
    "\n",
    "\n",
    "Now, let's give a name to the number we multiply a proportion by to get a percentage:\n",
    "\n",
    "    def to_percentage(proportion):\n",
    "        \"\"\"Converts a proportion to a percentage.\"\"\"\n",
    "        factor = 100\n",
    "\n",
    "##### `return`\n",
    "The special instruction `return` is part of the function's body and tells Python to make the value of the function call equal to whatever comes right after `return`.  We want the value of `to_percentage(.5)` to be the proportion .5 times the factor 100, so we write:\n",
    "\n",
    "    def to_percentage(proportion):\n",
    "        \"\"\"Converts a proportion to a percentage.\"\"\"\n",
    "        factor = 100\n",
    "        return proportion * factor\n",
    "        \n",
    "`return` only makes sense in the context of a function, and **can never be used outside of a function**. `return` is always the last line of the function because Python stops executing the body of a function once it hits a `return` statement.\n",
    "\n",
    "**Note:**  `return` inside a function tells Python what value the function evaluates to. However, there are other functions, like `print`, that have no `return` value. For example, `print` simply prints a certain value out to the console. Be aware that `return` and `print` are **very** different. "
   ]
  },
  {
   "cell_type": "markdown",
   "id": "61617650",
   "metadata": {},
   "source": [
    "**Question 1.** Define `to_percentage` in the cell below.  Call your function to convert the proportion $0.2$ to a percentage.  Name that percentage `twenty_percent`.\n"
   ]
  },
  {
   "cell_type": "code",
   "execution_count": null,
   "id": "e702f934",
   "metadata": {
    "tags": []
   },
   "outputs": [],
   "source": [
    "def ...\n",
    "    ``` ... ```\n",
    "    ... = ...\n",
    "    return ...\n",
    "twenty_percent = ...\n",
    "twenty_percent"
   ]
  },
  {
   "cell_type": "code",
   "execution_count": null,
   "id": "b1b02811",
   "metadata": {
    "deletable": false,
    "editable": false
   },
   "outputs": [],
   "source": [
    "grader.check(\"q1\")"
   ]
  },
  {
   "cell_type": "markdown",
   "id": "e0c9259c",
   "metadata": {},
   "source": [
    "Like you've done with built-in functions in previous labs (`max`, `abs`, etc.), you can pass in named values as arguments to your function."
   ]
  },
  {
   "cell_type": "markdown",
   "id": "b372d086",
   "metadata": {},
   "source": [
    "**Question 2.** Use `to_percentage` again to convert the proportion named `a_proportion` (defined below) to a percentage called `a_percentage`.\n",
    "\n",
    "**Note:** You don't need to define `to_percentage` again. Like other named values, functions stick around after you define them."
   ]
  },
  {
   "cell_type": "code",
   "execution_count": null,
   "id": "c39e0e73",
   "metadata": {
    "tags": []
   },
   "outputs": [],
   "source": [
    "a_proportion = 2**(.5)/2\n",
    "a_percentage = ...\n",
    "a_percentage"
   ]
  },
  {
   "cell_type": "code",
   "execution_count": null,
   "id": "82f6c970",
   "metadata": {
    "deletable": false,
    "editable": false
   },
   "outputs": [],
   "source": [
    "grader.check(\"q2\")"
   ]
  },
  {
   "cell_type": "markdown",
   "id": "5ef3b4b0",
   "metadata": {},
   "source": [
    "Here's something important about functions: the names assigned *within* a function body are only accessible within the function body. Once the function has returned, those names are gone.  So even if you created a variable called `factor` and defined `factor = 100` inside of the body of the `to_percentage` function and then called `to_percentage`, `factor` would not have a value assigned to it outside of the body of `to_percentage`. \n",
    "\n",
    "Run the cell below. You should see an error (if you don't, you might have defined `factor` somewhere above)."
   ]
  },
  {
   "cell_type": "code",
   "execution_count": null,
   "id": "16c4d7af",
   "metadata": {},
   "outputs": [],
   "source": [
    "factor"
   ]
  },
  {
   "cell_type": "markdown",
   "id": "081482e6",
   "metadata": {},
   "source": [
    "## 1. Introduction to Numerical Root Finding\n",
    "\n",
    "The topic of numerical root finding really boils down to approximating the solutions to equations without using all of the by-hand techniques that you've learned up to this point in high school. The down side to everything that we’re about to do is that our answers are only ever going to be approximations. Mathematicians love (and I mean love) exact values. Think about values like $\\pi$, $e$, $\\sqrt 2$ and all those values for sine and cosine you may have been forced to memorize from special right triangles and the unit circle. \n",
    "\n",
    "There are two main reasons we would want to do numerical algebra: \n",
    "\n",
    "1. Algebra by hand can be extremely challenging, time consuming, and error prone.\n",
    "\n",
    "2. The vast majority of equations do not lend themselves to by-hand solutions. \n",
    "\n",
    "\n",
    "### The Quadratic Formula\n",
    "\n",
    "We will start with quadratic formula \n",
    "\n",
    "$$x=\\frac{-b \\pm \\sqrt{b^2-4ac}}{2a}$$\n",
    "\n",
    "The quadratic formula can be used to find the roots (i.e. zeros) of a quadratic equation of the form $ax^2+bx+c=0$ where $a$, $b$, and $c$ are real numbers and $a \\ne 0$. If we want to write a function that returns the real roots of a quadratic equation we need to consider the following cases:\n",
    "\n",
    "- If $b^2 < 4ac$, then roots are complex (not real). For example, roots of $x^2 + x + 1$ are $\\frac{-1 + i\\sqrt{3}}{2}$ and $\\frac{-0.5 - i\\sqrt{3}}{2}$.\n",
    "\n",
    "- If $b^2=4ac$, then the roots are real and equal to each other. For example, root of $x^2-4x+4$ is $2$.\n",
    "\n",
    "- If $b^2 > 4ac$, then roots are real and different. For example, roots of $x^2-4x-5$ are $5$ and $-1$.\n",
    "\n",
    "**Note:** To write our function to find the roots we will import the `math` module."
   ]
  },
  {
   "cell_type": "code",
   "execution_count": null,
   "id": "277868d3",
   "metadata": {
    "tags": []
   },
   "outputs": [],
   "source": [
    "import math"
   ]
  },
  {
   "cell_type": "markdown",
   "id": "4b70af36",
   "metadata": {},
   "source": [
    "**Question 3.** Write a function to find the real roots of a quadratic equation. \n",
    "\n",
    "**Note:** You can assume that the values for $a$, $b$, and $c$ are real numbers. But you need consider the following cases:\n",
    "\n",
    "- If $b^2 < 4ac$, then print the statement \"No real roots.\".\n",
    "\n",
    "- If $b^2=4ac$, then print the statement \"One real root.\" and return the value of the root.\n",
    "\n",
    "- If $b^2 > 4ac$, then print the statement \"Two distinct real roots\" and return both roots."
   ]
  },
  {
   "cell_type": "code",
   "execution_count": null,
   "id": "b1d265f4",
   "metadata": {
    "tags": []
   },
   "outputs": [],
   "source": [
    "def quadratic_roots(a,b,c): \n",
    "    \"\"\"\n",
    "    Parameters\n",
    "    ----------\n",
    "    a, b, and c: The coefficients of the quadratic equation\n",
    "    \n",
    "    Returns\n",
    "    -------\n",
    "    The values of the real roots of a quadratic equation\n",
    "    \"\"\"\n",
    "...\n",
    "quadratic_roots(1,10,25)"
   ]
  },
  {
   "cell_type": "code",
   "execution_count": null,
   "id": "b87682e3",
   "metadata": {
    "deletable": false,
    "editable": false
   },
   "outputs": [],
   "source": [
    "grader.check(\"q3\")"
   ]
  },
  {
   "cell_type": "markdown",
   "id": "addcea1c",
   "metadata": {},
   "source": [
    "The quadratic formula is sufficient for quadratic equations, but what if our polynomial is not degree two. In class this week we learned two methods for approximating the roots of polynomials: the Bisection method and Newton's method.\n",
    "\n",
    "## 2. The Bisection Method"
   ]
  },
  {
   "cell_type": "markdown",
   "id": "0974ea9e",
   "metadata": {},
   "source": [
    "#### Bisection Method\n",
    "\n",
    "Previously in this lab we wrote a function to find the real roots of a quadratic equation. Now let's do the same thing for the Bisection method. From your notes in class you should have an idea of how the Bisection method works. Review your notes if you need to refresh your memory.\n",
    "\n",
    "For our function we will use $a$ and $b$ for inputs for an interval in which $f(a)$ and $f(b)$ have opposite signs.\n",
    "\n",
    "**Note:** You will need to define a function $f(x)$ that returns the values of $f(a)$ and $f(b)$. For example,\n",
    "\n",
    "```\n",
    "def practice_function(x):\n",
    "    return (the expression for your function should go here)\n",
    "```\n",
    "\n",
    "You can use the empty code cell below to practice defining and graphing function. First import `NumPy` and `matplotlib`."
   ]
  },
  {
   "cell_type": "code",
   "execution_count": null,
   "id": "858c9170",
   "metadata": {},
   "outputs": [],
   "source": [
    "import numpy as np\n",
    "import matplotlib.pyplot as plt\n",
    "plt.style.use('seaborn-whitegrid')\n",
    "%matplotlib inline"
   ]
  },
  {
   "cell_type": "code",
   "execution_count": null,
   "id": "43e28fa8",
   "metadata": {},
   "outputs": [],
   "source": [
    "def practice_function(x):\n",
    "    return x**2-1\n",
    "\n",
    "x = np.arange(-5,5.5,0.5)\n",
    "plt.plot(x,practice_function(x), '-ok', ms = 3);"
   ]
  },
  {
   "cell_type": "markdown",
   "id": "eb69a262",
   "metadata": {},
   "source": [
    "Let's say we want to graph the function Mr. Rash used during class to explain the bisection method:\n",
    "\n",
    "$$y=x^6-x-1$$"
   ]
  },
  {
   "cell_type": "markdown",
   "id": "2ea9e549",
   "metadata": {},
   "source": [
    "<!-- BEGIN QUESTION -->\n",
    "\n",
    "**Question 4.** Write a python function for $y=x^6-x-1$ and sketch the graph over the interval $[-1,1]$."
   ]
  },
  {
   "cell_type": "code",
   "execution_count": null,
   "id": "fb30f703",
   "metadata": {
    "tags": []
   },
   "outputs": [],
   "source": [
    "def y(x):\n",
    "   return ...\n",
    "\n",
    "x = ...\n",
    "..."
   ]
  },
  {
   "cell_type": "markdown",
   "id": "a53e0676",
   "metadata": {},
   "source": [
    "<!-- END QUESTION -->\n",
    "\n",
    "This function is continuous over the interval $[-1, -0.5]$ and the Intermediate Value Theorem can be applied on the interval $[-1, -0.5]$, so we should be able to use the Bisection method to find the root on the interval. \n",
    "\n",
    "Before we proceed, let's make sure we know what the Bisection method is actually doing."
   ]
  },
  {
   "cell_type": "markdown",
   "id": "7b435896",
   "metadata": {},
   "source": [
    "<!-- BEGIN QUESTION -->\n",
    "\n",
    "**Question 5.** Explain the how the Bisection method works."
   ]
  },
  {
   "cell_type": "markdown",
   "id": "1a392048",
   "metadata": {},
   "source": [
    "_Type your answer here, replacing this text._"
   ]
  },
  {
   "cell_type": "markdown",
   "id": "afa0ebca",
   "metadata": {},
   "source": [
    "<!-- END QUESTION -->\n",
    "\n",
    "Now let's implement the method and look at a table of values."
   ]
  },
  {
   "cell_type": "markdown",
   "id": "52ab8079",
   "metadata": {},
   "source": [
    "<!-- BEGIN QUESTION -->\n",
    "\n",
    "**Question 6.** Run the function to implement the Bisection method on the function $f(x)=x^6-x-1$.\n",
    "\n",
    "**Notes:** \n",
    "\n",
    "- If $f(a)$ and $f(b)$ do not have opposite signs stop the loop, print the message \"A root is not guaranteed in this interval.\".\n",
    "\n",
    "- You **must** use a for loop and set the number of iterations to 25 (`iterations = 25`).\n",
    "\n",
    "- The inputs should be the endpoints of the interval $a$ and $b$ as well as a level of tolerance (`tol = 1e-6`).\n",
    "\n",
    "- If you do not reach the specified level of tolerance after 25 iterations then print the message \"Level of tolerance not reached after 25 iterations.\" and return the value.\n",
    "\n",
    "- If you reach the level of tolerance before 25 iterations stop the loop and return the value. A `break` statement can be used to end a loop. Click [here](https://www.geeksforgeeks.org/python-break-statement/) to read about how it is used."
   ]
  },
  {
   "cell_type": "code",
   "execution_count": null,
   "id": "19488651",
   "metadata": {
    "tags": []
   },
   "outputs": [],
   "source": [
    "from scipy import optimize\n",
    "\n",
    "def f(x):\n",
    "    return x**6-x-1\n",
    "\n",
    "def bisection_method(a, b, iterations = 25, tol = 1e-6):\n",
    "    \"\"\"\n",
    "    Parameters\n",
    "    ----------\n",
    "    a, b:            The endpoints of the interval\n",
    "    coefs:           The coefficients of the polynomial as a list to find the true value of the root on the interval\n",
    "    iterations = 25: Set the maximum number of iterations for the loop\n",
    "    tol = 1e-6:      Set the level of tolerance for the distance between x_i and the midpoint\n",
    "    \n",
    "    Returns\n",
    "    -------\n",
    "    The approximation for the root\n",
    "    \"\"\"\n",
    "    x_is = []\n",
    "    alpha = optimize.root_scalar(f, bracket=[-1,-0.5], method = 'brentq').root\n",
    "    print(\"{:<8} {:<20} {:<30} {:<30}\".format('i','alpha','x_i', '|alpha-x_i|'))\n",
    "    \n",
    "    if f(a)*f(b) >= 0:\n",
    "        print(\"A root is not guaranteed in this interval.\")\n",
    "    \n",
    "    for i in range(iterations):\n",
    "        c = (a + b)/2.0\n",
    "        x_is.append(c)\n",
    "        print(\"{:<8} {:<20} {:<30} {:<30}\".format(i, alpha, c, abs(alpha-x_is[i])))\n",
    "                  \n",
    "        if f(a)*f(c) > 0:\n",
    "            a = c\n",
    "        else:\n",
    "            b = c\n",
    "            \n",
    "        if abs(b - a) < tol:\n",
    "            break\n",
    "        elif i == iterations-1:\n",
    "            print(\"\\nLevel of tolerance not reached after 25 iterations.\")\n",
    "            break\n",
    "    \n",
    "    return c \n",
    "\n",
    "print(\"\\nAnswer:\\t\", bisection_method(-1, -0.5))"
   ]
  },
  {
   "cell_type": "markdown",
   "id": "af357b42",
   "metadata": {},
   "source": [
    "<!-- END QUESTION -->\n",
    "\n",
    "#### Examining the Bisection Method"
   ]
  },
  {
   "cell_type": "markdown",
   "id": "f362d16a",
   "metadata": {},
   "source": [
    "<!-- BEGIN QUESTION -->\n",
    "\n",
    "**Question 7.** How many iterations do you think it took to reach the desired level of tolerance? Explain."
   ]
  },
  {
   "cell_type": "markdown",
   "id": "275f4a25",
   "metadata": {},
   "source": [
    "_Type your answer here, replacing this text._"
   ]
  },
  {
   "cell_type": "markdown",
   "id": "bbc816a3",
   "metadata": {},
   "source": [
    "<!-- END QUESTION -->\n",
    "\n",
    "<!-- BEGIN QUESTION -->\n",
    "\n",
    "**Question 8.** Mention the strengths and weaknesses of this approximation technique."
   ]
  },
  {
   "cell_type": "markdown",
   "id": "c5e8162a",
   "metadata": {},
   "source": [
    "_Type your answer here, replacing this text._"
   ]
  },
  {
   "cell_type": "markdown",
   "id": "5f745b95",
   "metadata": {},
   "source": [
    "<!-- END QUESTION -->\n",
    "\n",
    "## 3. Newton's Method\n",
    "\n",
    "Mr. Rash also went over Newton's method. We learned that this approximation technique also has strengths and weaknesses."
   ]
  },
  {
   "cell_type": "markdown",
   "id": "155a0755",
   "metadata": {},
   "source": [
    "<!-- BEGIN QUESTION -->\n",
    "\n",
    "**Question 9.** Explain the how Newton's method works."
   ]
  },
  {
   "cell_type": "markdown",
   "id": "334a15ed",
   "metadata": {},
   "source": [
    "_Type your answer here, replacing this text._"
   ]
  },
  {
   "cell_type": "markdown",
   "id": "5930718d",
   "metadata": {},
   "source": [
    "<!-- END QUESTION -->\n",
    "\n",
    "<!-- BEGIN QUESTION -->\n",
    "\n",
    "**Question 10.** Under what conditions would Newton's method fail to converge to a root."
   ]
  },
  {
   "cell_type": "markdown",
   "id": "7d525f61",
   "metadata": {},
   "source": [
    "_Type your answer here, replacing this text._"
   ]
  },
  {
   "cell_type": "markdown",
   "id": "a1f9beeb",
   "metadata": {},
   "source": [
    "<!-- END QUESTION -->\n",
    "\n",
    "## 4. Optional Programming Challenge"
   ]
  },
  {
   "cell_type": "markdown",
   "id": "c9530e8d",
   "metadata": {},
   "source": [
    "<!-- BEGIN QUESTION -->\n",
    "\n",
    "**Question 11.** Write a python function to implement Newton's method."
   ]
  },
  {
   "cell_type": "code",
   "execution_count": null,
   "id": "b7f4c563",
   "metadata": {
    "tags": []
   },
   "outputs": [],
   "source": [
    "def newtons_method(...):\n",
    "    ..."
   ]
  },
  {
   "cell_type": "markdown",
   "id": "90e781ae",
   "metadata": {},
   "source": [
    "<!-- END QUESTION -->\n",
    "\n"
   ]
  },
  {
   "cell_type": "markdown",
   "id": "fea5671b",
   "metadata": {
    "deletable": false,
    "editable": false
   },
   "source": [
    "---\n",
    "\n",
    "To double-check your work, the cell below will rerun all of the autograder tests."
   ]
  },
  {
   "cell_type": "code",
   "execution_count": null,
   "id": "3d433ca2",
   "metadata": {
    "deletable": false,
    "editable": false
   },
   "outputs": [],
   "source": [
    "grader.check_all()"
   ]
  },
  {
   "cell_type": "markdown",
   "id": "d6b27839",
   "metadata": {
    "deletable": false,
    "editable": false
   },
   "source": [
    "## Submission\n",
    "\n",
    "Make sure you have run all cells in your notebook in order before running the cell below, so that all images/graphs appear in the output. The cell below will generate a zip file for you to submit. **Please save before exporting!**\n",
    "\n",
    "When done exporting, download the .zip file by finding it in the file browswer on the left side of the screen, then right-click and select **Download**. You'll submit this .zip file for the assignment in Canvas to Gradescope for grading."
   ]
  },
  {
   "cell_type": "code",
   "execution_count": null,
   "id": "d4d9dc43",
   "metadata": {
    "deletable": false,
    "editable": false
   },
   "outputs": [],
   "source": [
    "# Save your notebook first, then run this cell to export your submission.\n",
    "grader.export()"
   ]
  },
  {
   "cell_type": "markdown",
   "id": "06577045",
   "metadata": {},
   "source": [
    " "
   ]
  }
 ],
 "metadata": {
  "kernelspec": {
   "display_name": "Python 3 (ipykernel)",
   "language": "python",
   "name": "python3"
  },
  "language_info": {
   "codemirror_mode": {
    "name": "ipython",
    "version": 3
   },
   "file_extension": ".py",
   "mimetype": "text/x-python",
   "name": "python",
   "nbconvert_exporter": "python",
   "pygments_lexer": "ipython3",
   "version": "3.9.6"
  },
  "otter": {
   "tests": {
    "q1": {
     "name": "q1",
     "points": 0,
     "suites": [
      {
       "cases": [
        {
         "code": ">>> twenty_percent\n20.0",
         "hidden": false,
         "locked": false
        }
       ],
       "scored": true,
       "setup": "",
       "teardown": "",
       "type": "doctest"
      }
     ]
    },
    "q2": {
     "name": "q2",
     "points": 0,
     "suites": [
      {
       "cases": [
        {
         "code": ">>> a_percentage\n70.71067811865476",
         "hidden": false,
         "locked": false
        }
       ],
       "scored": true,
       "setup": "",
       "teardown": "",
       "type": "doctest"
      }
     ]
    },
    "q3": {
     "name": "q3",
     "points": null,
     "suites": [
      {
       "cases": [
        {
         "code": ">>> quadratic_roots(1,1,4)\nNo real roots.\n",
         "hidden": false,
         "locked": false
        },
        {
         "code": ">>> quadratic_roots(1,-4,4)\nOne real root.\n2.0",
         "hidden": false,
         "locked": false
        },
        {
         "code": ">>> quadratic_roots(1,10,4)\n Two distinct real roots.\n(-0.41742430504416017, -9.582575694955839)",
         "hidden": false,
         "locked": false
        }
       ],
       "scored": true,
       "setup": "",
       "teardown": "",
       "type": "doctest"
      }
     ]
    }
   }
  }
 },
 "nbformat": 4,
 "nbformat_minor": 5
}
