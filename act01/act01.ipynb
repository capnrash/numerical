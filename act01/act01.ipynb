{
 "cells": [
  {
   "cell_type": "markdown",
   "id": "4dbdac03-a64f-4ae9-b7be-106dc4bed8d5",
   "metadata": {},
   "source": [
    "# Taylor Polynomials in Python\n",
    "\n",
    "## Finding the `c`"
   ]
  },
  {
   "cell_type": "markdown",
   "id": "ddb3607b-13f6-42ec-8887-11254a2f3451",
   "metadata": {},
   "source": [
    "**Taylor’s Formula:** If $f(x)$ has derivatives of all orders in a n open interval $I$ containing $a$, then for each positive integer $n$ and for each \n",
    "$x \\in I$, $$f(x) = f(a)+f'(a)(x-a)+ \\frac{f''(a)}{2!}(x-a)^2 + \\cdots + \\frac{f^{(n)}(a)}{n!}(x-a)^n+R_n(x),$$ where $$R_n(x)=\\frac{f^{(n+1)}(c)}{(n+1)!}(x-a)^{(n+1)}$$ for some $c$ between $a$ and $x$.\n",
    "\n",
    "The function $R_n(x)$ is called the remainder of order $n$ or the error term for the approximation of $f(x)$ by $P_n(x)$ over $I$."
   ]
  },
  {
   "cell_type": "code",
   "execution_count": null,
   "id": "dc53d9b3-6e9e-4857-9098-b87e2a761906",
   "metadata": {},
   "outputs": [],
   "source": [
    "import math\n",
    "\n",
    "e_0 = 1\n",
    "print(math.exp(1))"
   ]
  },
  {
   "cell_type": "code",
   "execution_count": null,
   "id": "9e08d963-6eb3-47d3-b487-44a5914e5f66",
   "metadata": {},
   "outputs": [],
   "source": [
    "error_0_degree = math.exp(1)-e_0\n",
    "error_0_degree"
   ]
  },
  {
   "cell_type": "code",
   "execution_count": null,
   "id": "f0a1d121-71a6-4fe5-88c7-3e388e9533fb",
   "metadata": {
    "tags": []
   },
   "outputs": [],
   "source": [
    "avg_rate_of_change = (math.exp(1)-1)/(1-0)\n",
    "avg_rate_of_change"
   ]
  },
  {
   "cell_type": "code",
   "execution_count": null,
   "id": "76a89440-65c4-48fc-b735-9d91043887c7",
   "metadata": {},
   "outputs": [],
   "source": [
    "interval_width = 1-0\n",
    "print(\"f'(0.1)(1-0) =\", math.exp(0.1)*(interval_width))\n",
    "print(\"f'(0.2)(1-0) =\", math.exp(0.2)*(interval_width))\n",
    "print(\"f'(0.3)(1-0) =\", math.exp(0.3)*(interval_width))\n",
    "print(\"f'(0.4)(1-0) =\", math.exp(0.4)*(interval_width))\n",
    "print(\"f'(0.5)(1-0) =\", math.exp(0.5)*(interval_width))\n",
    "print(\"f'(0.6)(1-0) =\", math.exp(0.6)*(interval_width))\n",
    "print(\"f'(0.7)(1-0) =\", math.exp(0.7)*(interval_width))\n",
    "print(\"f'(0.8)(1-0) =\", math.exp(0.8)*(interval_width))\n",
    "print(\"f'(0.9)(1-0) =\", math.exp(0.9)*(interval_width))"
   ]
  },
  {
   "cell_type": "markdown",
   "id": "e6f0aec4-bc0c-430d-b9c9-3aeff5a23f84",
   "metadata": {},
   "source": [
    "A better way to do this is with a loop. In Python we can do a `for` loop or a `while` loop. For our course we will use the `for` loop. Below is an example of the syntax\n",
    "\n",
    "```\n",
    "for i in range(0,5):\n",
    "    print(i)\n",
    "```\n",
    "\n",
    "The output would be \n",
    "\n",
    "```\n",
    "0\n",
    "1\n",
    "2\n",
    "3\n",
    "4\n",
    "```\n",
    "\n",
    "Run the cell below."
   ]
  },
  {
   "cell_type": "code",
   "execution_count": null,
   "id": "5c30d438-e539-42cf-a54f-3a79c6e9077a",
   "metadata": {},
   "outputs": [],
   "source": [
    "for i in range(0,5):\n",
    "    print(i)"
   ]
  },
  {
   "cell_type": "markdown",
   "id": "45d69afe-898f-4b3e-ba68-e2bb0a1f774c",
   "metadata": {},
   "source": [
    "We can also iterate over a list of values. For example,\n",
    "\n",
    "```\n",
    "for i in [1, 2, 3, 4, 5]:\n",
    "    print(i)\n",
    "```\n",
    "\n",
    "Run the cell below."
   ]
  },
  {
   "cell_type": "code",
   "execution_count": null,
   "id": "a1db0876-1da3-4036-bb2e-049a24977e0d",
   "metadata": {},
   "outputs": [],
   "source": [
    "for i in [1, 2, 3, 4, 5]:\n",
    "    print(i)"
   ]
  },
  {
   "cell_type": "code",
   "execution_count": null,
   "id": "2e011686-e5a6-420a-95fe-35fba0c7985c",
   "metadata": {},
   "outputs": [],
   "source": [
    "Alternatively, "
   ]
  },
  {
   "cell_type": "code",
   "execution_count": null,
   "id": "da80d595-0d3e-423f-bdac-137bde21b538",
   "metadata": {},
   "outputs": [],
   "source": [
    "values = [1, 2, 3, 4, 5]\n",
    "\n",
    "for i in values:\n",
    "    print(i)"
   ]
  },
  {
   "cell_type": "markdown",
   "id": "5e8f39d2-5951-4231-9fe6-e708b4b432ae",
   "metadata": {},
   "source": [
    "**Question 1.** Write a `for` loop to find the value of `c`."
   ]
  },
  {
   "cell_type": "code",
   "execution_count": null,
   "id": "eebef8f5-bf3b-4f95-898e-8b3dc52a3bdc",
   "metadata": {},
   "outputs": [],
   "source": [
    "..."
   ]
  },
  {
   "cell_type": "code",
   "execution_count": null,
   "id": "7de9fc4d-efc2-4dfa-9bde-98ccf07ddfbc",
   "metadata": {},
   "outputs": [],
   "source": [
    "..."
   ]
  },
  {
   "cell_type": "code",
   "execution_count": 1,
   "id": "99a662b8-a582-4a13-bc75-da0559d5f329",
   "metadata": {},
   "outputs": [
    {
     "data": {
      "text/plain": [
       "Ellipsis"
      ]
     },
     "execution_count": 1,
     "metadata": {},
     "output_type": "execute_result"
    }
   ],
   "source": [
    "..."
   ]
  },
  {
   "cell_type": "markdown",
   "id": "1a853607-560c-47d7-8c53-72d3ccaba1ad",
   "metadata": {},
   "source": [
    "Often we can estimate $R_n(x)$ without knowing the value of $c$.\n",
    "\n",
    "**The Remainder Estimation Theorem:** If there is a positive constant $M$ such that \n",
    "\n",
    "$$\\left|f^{(n+1)}(t)\\right| \\le M$$\n",
    "\n",
    "for all $t$ between $x$ and $a$, inclusive, then the remainder term $R_n(x)$ in Taylor’s Theorem satisfies the inequality \n",
    "\n",
    "$$\\left|R_n(x)\\right| \\le M\\frac{|x-a|^{n+1}}{(n +1)!}.$$"
   ]
  },
  {
   "cell_type": "markdown",
   "id": "978f7bb5-62eb-433c-a34f-9c95443ca0c9",
   "metadata": {},
   "source": [
    "**Question 2.** Let's write a third-degree Taylor polynomial for $e^x$ and use it to approximate $e^2$."
   ]
  },
  {
   "cell_type": "code",
   "execution_count": null,
   "id": "834c6bf7-9c2f-4733-bacd-a1d9f6326a14",
   "metadata": {},
   "outputs": [],
   "source": [
    "..."
   ]
  },
  {
   "cell_type": "markdown",
   "id": "9d3b84af-e5f9-4508-805c-2669426a5579",
   "metadata": {},
   "source": [
    "**Question 3.** Repeat **Question 2** using a `for` loop."
   ]
  },
  {
   "cell_type": "code",
   "execution_count": null,
   "id": "9cd70744-8163-4c87-afac-4c7830a63cb1",
   "metadata": {},
   "outputs": [],
   "source": [
    "..."
   ]
  },
  {
   "cell_type": "markdown",
   "id": "4c280db4-d31b-4050-9523-539f728537fc",
   "metadata": {},
   "source": [
    "**Question 4.** Repeat **Question 2** using a user-defined function."
   ]
  },
  {
   "cell_type": "code",
   "execution_count": null,
   "id": "845ffa97-8ce1-43ff-a60e-454e6214f7dc",
   "metadata": {},
   "outputs": [],
   "source": [
    "..."
   ]
  },
  {
   "cell_type": "markdown",
   "id": "a9ec5999-287c-4d55-b372-39cc95d9ae75",
   "metadata": {},
   "source": [
    "**Question 5.** Use a `for` loop to calculate the difference between the Taylor Series expansion and Python's `math.exp()` function"
   ]
  },
  {
   "cell_type": "code",
   "execution_count": null,
   "id": "229fa71e-4ae3-4b3d-b7a9-1a5530ad9a41",
   "metadata": {},
   "outputs": [],
   "source": [
    "..."
   ]
  }
 ],
 "metadata": {
  "kernelspec": {
   "display_name": "Python 3 (ipykernel)",
   "language": "python",
   "name": "python3"
  },
  "language_info": {
   "codemirror_mode": {
    "name": "ipython",
    "version": 3
   },
   "file_extension": ".py",
   "mimetype": "text/x-python",
   "name": "python",
   "nbconvert_exporter": "python",
   "pygments_lexer": "ipython3",
   "version": "3.9.6"
  }
 },
 "nbformat": 4,
 "nbformat_minor": 5
}
