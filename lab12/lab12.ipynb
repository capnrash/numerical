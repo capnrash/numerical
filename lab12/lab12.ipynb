{
 "cells": [
  {
   "cell_type": "code",
   "execution_count": null,
   "id": "90039934",
   "metadata": {
    "deletable": false,
    "editable": false
   },
   "outputs": [],
   "source": [
    "# Initialize Otter\n",
    "import otter\n",
    "grader = otter.Notebook(\"lab12.ipynb\")"
   ]
  },
  {
   "cell_type": "markdown",
   "id": "33fab208",
   "metadata": {
    "tags": []
   },
   "source": [
    "# Lab 12: Differential Equations\n",
    "\n",
    "Welcome to Lab 12! Throughout the course you will complete a lab assignments like this one. You can't learn technical subjects without hands-on practice, so labs are an important part of the course. \n",
    "\n",
    "Collaborating on labs is more than okay -- it's encouraged. You should rarely remain stuck for more than a few minutes on questions in labs, so ask a neighbor or an instructor for help. Explaining things is beneficial, too $-$ the best way to solidify your knowledge of a subject is to explain it. You should not just copy someone else's answers, but rather work together to gain understanding of the task you need to complete.\n",
    "\n",
    "In today's lab, you will be asked to use your python programming skills to write code to approximate solutions to differential equations.\n",
    "\n",
    "To receive credit for a lab, answer all questions correctly and submit before the deadline.\n",
    "\n",
    "**Due Date:** Tuesday, May 17, 2022 at 11:59 pm\n",
    "\n",
    "**Collaboration Policy:** Labs are a collaborative activity. While you may talk with others about the labs, we ask that you **write your solutions individually**. If you do discuss the assignments with others **please include their names below** (it's a good way to learn your classmates' names).\n",
    "\n",
    "**Collaborators:** \n",
    "\n",
    "List collaborators here.\n",
    "\n",
    "Run the cell below to import the required modules."
   ]
  },
  {
   "cell_type": "code",
   "execution_count": null,
   "id": "efa15080",
   "metadata": {},
   "outputs": [],
   "source": [
    "import numpy as np\n",
    "import matplotlib.pyplot as plt\n",
    "plt.style.use('seaborn-whitegrid')\n",
    "%matplotlib inline"
   ]
  },
  {
   "cell_type": "markdown",
   "id": "d7a5acd1",
   "metadata": {},
   "source": [
    "Differential equations are relationships between a function and its derivatives, and they are used to model systems in every engineering and science field. For example, a simple differential equation relates the acceleration of a car with its position. Unlike differentiation where analytic solutions can usually be computed, in general finding exact solutions to differential equations is very hard. Therefore, numerical solutions are critical to making these equations useful for designing and understanding engineering and science systems. [(Numerical Methods with Python)](https://pythonnumericalmethods.berkeley.edu/notebooks/Index.html)"
   ]
  },
  {
   "cell_type": "markdown",
   "id": "dd27f5a8",
   "metadata": {},
   "source": [
    "# 1. Euler's Method\n",
    "\n",
    "Let's write a function to implement Euler's method. Instead of doing it all at one time we will complete it in small sections. Then we will put it all together. For the purpose of this activity, let's suppose that our initial value problem is \n",
    "\n",
    "$$\\frac{dy}{dx}=-y+\\sin(x)\\text{, }y(0)=1$$\n",
    "\n",
    "We will use Euler's method to approximate the value of the function in the interval $[0,10]$ with 100 points."
   ]
  },
  {
   "cell_type": "markdown",
   "id": "b86e78ba",
   "metadata": {},
   "source": [
    "**Question 1.** Assign the values for the endpoints of the interval, the initial value, and the change in $x$."
   ]
  },
  {
   "cell_type": "code",
   "execution_count": null,
   "id": "f843eb35",
   "metadata": {
    "tags": []
   },
   "outputs": [],
   "source": [
    "x0 = ...\n",
    "y0 = ...\n",
    "xn = ...\n",
    "n = ...\n",
    "deltax = ..."
   ]
  },
  {
   "cell_type": "code",
   "execution_count": null,
   "id": "67d9b9bf",
   "metadata": {
    "deletable": false,
    "editable": false
   },
   "outputs": [],
   "source": [
    "grader.check(\"q1\")"
   ]
  },
  {
   "cell_type": "markdown",
   "id": "f60aa9d8",
   "metadata": {},
   "source": [
    "We next want to create a vector of length 101 whose entries are our $x-$values. To do this, we enter the following code"
   ]
  },
  {
   "cell_type": "code",
   "execution_count": null,
   "id": "ff5ed631",
   "metadata": {},
   "outputs": [],
   "source": [
    "x = np.linspace(x0, xn, n+1)\n",
    "x"
   ]
  },
  {
   "cell_type": "markdown",
   "id": "72fef9bb",
   "metadata": {},
   "source": [
    "Now the computer has a vector called `x`, given by \n",
    "\n",
    "```\n",
    "x = [0.0, 0.1, 0.2, ..., 10.]\n",
    "```\n",
    "\n",
    "The next thing we want to do generate the $y-$values. The first thing we do is create an array to store the $y-$values."
   ]
  },
  {
   "cell_type": "code",
   "execution_count": null,
   "id": "4937c328",
   "metadata": {},
   "outputs": [],
   "source": [
    "y = np.zeros ([n+1])\n",
    "y"
   ]
  },
  {
   "cell_type": "markdown",
   "id": "951ece3e",
   "metadata": {},
   "source": [
    "This creates an array `y` with n entries that are all 0.0."
   ]
  },
  {
   "cell_type": "markdown",
   "id": "122a5711",
   "metadata": {},
   "source": [
    "**Question 2.** The next thing we want to do is fix this so that the entries are the estimates given by Euler's method. To do this, we use a `for` loop."
   ]
  },
  {
   "cell_type": "code",
   "execution_count": null,
   "id": "2a9bea03",
   "metadata": {
    "tags": []
   },
   "outputs": [],
   "source": [
    "y[0] = y0 \n",
    "for i in range(1, n+1): \n",
    "    y[i] = ...\n",
    "y"
   ]
  },
  {
   "cell_type": "code",
   "execution_count": null,
   "id": "400829e1",
   "metadata": {
    "deletable": false,
    "editable": false
   },
   "outputs": [],
   "source": [
    "grader.check(\"q2\")"
   ]
  },
  {
   "cell_type": "markdown",
   "id": "5f785848",
   "metadata": {},
   "source": [
    "We can also use a for loop to print out the data that we’ve generated. Let's only print the first 10 ordered pairs."
   ]
  },
  {
   "cell_type": "code",
   "execution_count": null,
   "id": "eee8ae07",
   "metadata": {},
   "outputs": [],
   "source": [
    "for i in range(101): \n",
    "    print (i, \"\\t\", round(x[i], 2), \"\\t\", y[i])"
   ]
  },
  {
   "cell_type": "markdown",
   "id": "54059607",
   "metadata": {},
   "source": [
    "Finally, to make a graph of our data, we can use the plot function from `matplotlib`."
   ]
  },
  {
   "cell_type": "code",
   "execution_count": null,
   "id": "06d65b55",
   "metadata": {},
   "outputs": [],
   "source": [
    "plt.scatter(x, y, color = 'black', s = 3) \n",
    "plt.xlabel(\"x\") \n",
    "plt.ylabel(\"y\")\n",
    "plt.title(\"Approximate Solution with Eulers Method\");"
   ]
  },
  {
   "cell_type": "markdown",
   "id": "d4c32e6f",
   "metadata": {},
   "source": [
    "# 2. Runge-Kutta\n",
    "\n",
    "The Runge-Kutta method is a mathematical algorithm used to solve systems of ordinary differential equations (ODEs) by using a trial step at the midpoint of an interval to cancel out lower-order error terms. The second-order formula (sometimes known as RK2) is\n",
    "\n",
    "$k_1=h\\cdot f(x_n,y_n)$\n",
    "\n",
    "$k_2=h\\cdot f(x_n+\\frac{1}{2}h, y_n+\\frac{1}{2}k_1)$\n",
    "\n",
    "$y_{n+1}=y_n+k_2$\n",
    "\n",
    "and the fourth order formula (sometimes known as RK4) is \n",
    "\n",
    "$k_1=h\\cdot f(x_n,y_n)$\n",
    "\n",
    "$k_2=h\\cdot f(x_n+\\frac{1}{2}h, y_n+\\frac{1}{2}k_1)$\n",
    "\n",
    "$k_3=h\\cdot f(x_n+h, y_n+k_3)$\n",
    "\n",
    "$k_4=h\\cdot f(x_n+h, y_n+k_3)$\n",
    "\n",
    "$y_{n+1}=y_n+\\frac{1}{6}k_1+\\frac{1}{3}k_2+\\frac{1}{3}k_3+\\frac{1}{6}k_4 = \\frac{h}{6}(k_1+2k_2+2k_3+k_4)$"
   ]
  },
  {
   "cell_type": "markdown",
   "id": "99587abb",
   "metadata": {},
   "source": [
    "<!-- BEGIN QUESTION -->\n",
    "\n",
    "**Question 2.** Write a function to implement the fourth order Runge-Kutta method."
   ]
  },
  {
   "cell_type": "code",
   "execution_count": null,
   "id": "91a0989a",
   "metadata": {
    "tags": []
   },
   "outputs": [],
   "source": [
    "    ..."
   ]
  },
  {
   "cell_type": "markdown",
   "id": "a3bf133c",
   "metadata": {},
   "source": [
    "<!-- END QUESTION -->\n",
    "\n",
    "Use your python function from **Question 2** on \n",
    "\n",
    "$$\\frac{dy}{dx}=\\frac{1}{1+x^2}-2y^2$$\n",
    "\n",
    "with initial condition $(0,1)$, $h=0.05$ and 20 steps to estimate $y(1.0)$.\n",
    "\n",
    "Print the $x$, $y$ coordinates at each step. Your output should look like this\n",
    "\n",
    "```\n",
    "0 \t  0      1\n",
    "1 \t  0.05   0.954574885889361\n",
    "2 \t  0.1    0.9168244152086702\n",
    "3 \t  0.15   0.8849543164090213\n",
    "4 \t  0.2    0.8575987608041347\n",
    "5 \t  0.25   0.8337068961117725\n",
    "6 \t  0.3    0.8124658691548322\n",
    "7 \t  0.35   0.7932465576266018\n",
    "8 \t  0.4    0.7755638210856183\n",
    "9 \t  0.45   0.7590463362380451\n",
    "10 \t 0.5    0.7434130154950842\n",
    "11 \t 0.55   0.7284541649529332\n",
    "12 \t 0.6    0.7140162267094241\n",
    "13 \t 0.65   0.6999893545301911\n",
    "14 \t 0.7    0.686297304791557\n",
    "15 \t 0.75   0.6728892575011016\n",
    "16 \t 0.8    0.659733259237782\n",
    "17 \t 0.85   0.6468110276680971\n",
    "18 \t 0.9    0.6341138910327994\n",
    "19 \t 0.95   0.6216396635803484\n",
    "20 \t 1.0    0.6093902829524289\n",
    "```"
   ]
  },
  {
   "cell_type": "code",
   "execution_count": null,
   "id": "771cdf36",
   "metadata": {},
   "outputs": [],
   "source": []
  },
  {
   "cell_type": "markdown",
   "id": "32773c68",
   "metadata": {
    "deletable": false,
    "editable": false
   },
   "source": [
    "---\n",
    "\n",
    "To double-check your work, the cell below will rerun all of the autograder tests."
   ]
  },
  {
   "cell_type": "code",
   "execution_count": null,
   "id": "fb4651d7",
   "metadata": {
    "deletable": false,
    "editable": false
   },
   "outputs": [],
   "source": [
    "grader.check_all()"
   ]
  },
  {
   "cell_type": "markdown",
   "id": "4deb65f7",
   "metadata": {
    "deletable": false,
    "editable": false
   },
   "source": [
    "## Submission\n",
    "\n",
    "Make sure you have run all cells in your notebook in order before running the cell below, so that all images/graphs appear in the output. The cell below will generate a zip file for you to submit. **Please save before exporting!**\n",
    "\n",
    "When done exporting, download the .zip file by finding it in the file browswer on the left side of the screen, then right-click and select **Download**. You'll submit this .zip file for the assignment in Canvas to Gradescope for grading."
   ]
  },
  {
   "cell_type": "code",
   "execution_count": null,
   "id": "12e4a796",
   "metadata": {
    "deletable": false,
    "editable": false
   },
   "outputs": [],
   "source": [
    "# Save your notebook first, then run this cell to export your submission.\n",
    "grader.export()"
   ]
  },
  {
   "cell_type": "markdown",
   "id": "fddb74bf",
   "metadata": {},
   "source": [
    " "
   ]
  }
 ],
 "metadata": {
  "kernelspec": {
   "display_name": "Python 3 (ipykernel)",
   "language": "python",
   "name": "python3"
  },
  "language_info": {
   "codemirror_mode": {
    "name": "ipython",
    "version": 3
   },
   "file_extension": ".py",
   "mimetype": "text/x-python",
   "name": "python",
   "nbconvert_exporter": "python",
   "pygments_lexer": "ipython3",
   "version": "3.9.6"
  },
  "otter": {
   "tests": {
    "q1": {
     "name": "q1",
     "points": null,
     "suites": [
      {
       "cases": [
        {
         "code": ">>> x0 == 0\nTrue",
         "hidden": false,
         "locked": false
        },
        {
         "code": ">>> y0 == 1\nTrue",
         "hidden": false,
         "locked": false
        },
        {
         "code": ">>> xn == 10\nTrue",
         "hidden": false,
         "locked": false
        },
        {
         "code": ">>> deltax == 0.1\nTrue",
         "hidden": false,
         "locked": false
        }
       ],
       "scored": true,
       "setup": "",
       "teardown": "",
       "type": "doctest"
      }
     ]
    },
    "q2": {
     "name": "q2",
     "points": null,
     "suites": [
      {
       "cases": [
        {
         "code": ">>> len(y)\n101",
         "hidden": false,
         "locked": false
        },
        {
         "code": ">>> sum(y)\n27.12670698196994",
         "hidden": false,
         "locked": false
        }
       ],
       "scored": true,
       "setup": "",
       "teardown": "",
       "type": "doctest"
      }
     ]
    }
   }
  }
 },
 "nbformat": 4,
 "nbformat_minor": 5
}
