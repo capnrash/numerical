{
 "cells": [
  {
   "cell_type": "code",
   "execution_count": null,
   "id": "7a118179",
   "metadata": {
    "deletable": false,
    "editable": false
   },
   "outputs": [],
   "source": [
    "# Initialize Otter\n",
    "import otter\n",
    "grader = otter.Notebook(\"lab05.ipynb\")"
   ]
  },
  {
   "cell_type": "markdown",
   "id": "15202faa",
   "metadata": {
    "tags": []
   },
   "source": [
    "# Lab 05: Root Finding\n",
    "\n",
    "Welcome to Lab 05! Throughout the course you will complete a lab assignments like this one. You can't learn technical subjects without hands-on practice, so labs are an important part of the course.\n",
    "\n",
    "Collaborating on labs is more than okay -- it's encouraged. You should rarely remain stuck for more than a few minutes on questions in labs, so ask a neighbor or an instructor for help. Explaining things is beneficial, too -- the best way to solidify your knowledge of a subject is to explain it. You should **not** just copy/paste someone else's code, but rather work together to gain understanding of the task you need to complete. \n",
    "\n",
    "In today's lab, you'll learn more about root finding algorithms. \n",
    "\n",
    "To receive credit for a lab, answer all questions correctly and submit before the deadline.\n",
    "\n",
    "**Due Date:** Tuesday, March 8, 2022 at 11:59 pm\n",
    "\n",
    "**Collaboration Policy:** Labs are a collaborative activity. While you may talk with others about the labs, we ask that you **write your solutions individually**. If you do discuss the assignments with others **please include their names below** (it's a good way to learn your classmates' names).\n",
    "\n",
    "**Collaborators:** \n",
    "\n",
    "List collaborators here."
   ]
  },
  {
   "cell_type": "markdown",
   "id": "99a8c4a4",
   "metadata": {},
   "source": [
    "## 0. Lambda Functions\n",
    "\n",
    "Sometimes we want to write a small function or we want a function that we don't need to keep because we aren't going to use it later. In python we can write functions using a shorthand technique. These small, unnamed (anonymous) functions are called lambda functions. For example, suppose we want to square a number using a lambda function (I know it seems silly but humor me), we could use a lambda function.\n",
    "\n",
    "```\n",
    "square_biz = lambda x : x**2\n",
    "```\n",
    "\n",
    "The `square_biz` lambda function is written in one line of code. The argument is `x` and the `:` separates the argument form the expression. Notice that unlike the functions from the previous lab we don't need the keyword `def`. If we wanted to use our lambda function we would enter\n",
    "\n",
    "```\n",
    "square_biz(5)\n",
    "```\n",
    "\n",
    "and our function will return the value 25 (lambda functions can't use a `return` statement or some other keywords).\n",
    "\n",
    "Let's try it."
   ]
  },
  {
   "cell_type": "markdown",
   "id": "f03044f0",
   "metadata": {},
   "source": [
    "**Question 1.** Write a **lambda** function named `f` that will compute the value of $f(x)=x^6-x-1$."
   ]
  },
  {
   "cell_type": "code",
   "execution_count": null,
   "id": "cc0d4a3a",
   "metadata": {
    "tags": []
   },
   "outputs": [],
   "source": [
    "f = ..."
   ]
  },
  {
   "cell_type": "code",
   "execution_count": null,
   "id": "0c3c1189",
   "metadata": {
    "deletable": false,
    "editable": false
   },
   "outputs": [],
   "source": [
    "grader.check(\"q1\")"
   ]
  },
  {
   "cell_type": "markdown",
   "id": "580d3451",
   "metadata": {},
   "source": [
    "Perhaps we want to find values of the derivative for $f(x)=x^6-x-1$."
   ]
  },
  {
   "cell_type": "markdown",
   "id": "f62603dd",
   "metadata": {},
   "source": [
    "**Question 2.** Write a **lambda** function named `Df` that will compute the value of $f'(x)$, where $f(x)=x^6-x-1$.."
   ]
  },
  {
   "cell_type": "code",
   "execution_count": null,
   "id": "2ab79058",
   "metadata": {
    "tags": []
   },
   "outputs": [],
   "source": [
    "Df = ..."
   ]
  },
  {
   "cell_type": "code",
   "execution_count": null,
   "id": "696ca243",
   "metadata": {
    "deletable": false,
    "editable": false
   },
   "outputs": [],
   "source": [
    "grader.check(\"q2\")"
   ]
  },
  {
   "cell_type": "markdown",
   "id": "af0612fa",
   "metadata": {},
   "source": [
    "We can also plot lambda functions. run the cell below to load the `NumPy` and `matplotlib` modules."
   ]
  },
  {
   "cell_type": "code",
   "execution_count": null,
   "id": "8bbdc872",
   "metadata": {},
   "outputs": [],
   "source": [
    "import numpy as np\n",
    "import matplotlib.pyplot as plt\n",
    "plt.style.use('seaborn-whitegrid')\n",
    "%matplotlib inline"
   ]
  },
  {
   "cell_type": "markdown",
   "id": "79ba7673",
   "metadata": {},
   "source": [
    "Now let's plot $f(x)=x^6-x-1$."
   ]
  },
  {
   "cell_type": "code",
   "execution_count": null,
   "id": "4af68d17",
   "metadata": {},
   "outputs": [],
   "source": [
    "x = np.arange(-1,1.5,0.05)\n",
    "f = lambda x: x**6-x-1\n",
    "plt.plot(x, f(x), color = 'black', ms = 3);"
   ]
  },
  {
   "cell_type": "markdown",
   "id": "abbe60d1",
   "metadata": {},
   "source": [
    "There seems to be a root somewhere on the interval $[-1.0, -0.5]$. Let's see if we can implement our algorithms to approximate its value. "
   ]
  },
  {
   "cell_type": "markdown",
   "id": "157724c6",
   "metadata": {},
   "source": [
    "# 1. Review of the Bisection Method\n",
    "\n",
    "Now that we know how to use lambda functions we can update the way we wrote our `bisection_method` function. We can now pass the function in as a parameter."
   ]
  },
  {
   "cell_type": "code",
   "execution_count": null,
   "id": "2e2ababb",
   "metadata": {},
   "outputs": [],
   "source": [
    "def bisection_method(f, a, b, iterations = 25, tol = 1e-6):\n",
    "    \"\"\"\n",
    "    Parameters\n",
    "    ----------\n",
    "    f               : Function for which we are searching for a solution f(x)=0\n",
    "    a, b            : The endpoints of the interval\n",
    "    iterations = 25 : Set the maximum number of iterations for the loop\n",
    "    tol = 1e-6      : Set the level of tolerance for the distance between x_i and the midpoint\n",
    "    \n",
    "    Returns\n",
    "    -------\n",
    "    The approximation for the root (if found)\n",
    "    \"\"\"\n",
    "    \n",
    "    if f(a)*f(b) >= 0:\n",
    "        print(\"A root is not guaranteed in this interval.\")\n",
    "        return 0\n",
    "    \n",
    "    for n in range(iterations):\n",
    "        c = (a + b)/2.0\n",
    "                          \n",
    "        if f(a)*f(c) > 0:\n",
    "            a = c\n",
    "        else:\n",
    "            b = c\n",
    "            \n",
    "        if abs(b - a) < tol:\n",
    "            break\n",
    "        elif n == iterations - 1:\n",
    "            print(\"\\nLevel of tolerance not reached after 25 iterations.\")\n",
    "            break\n",
    "    print('Found solution after', n, 'iterations.')\n",
    "    return c"
   ]
  },
  {
   "cell_type": "markdown",
   "id": "bf406fac",
   "metadata": {},
   "source": [
    "<!-- BEGIN QUESTION -->\n",
    "\n",
    "**Question 3.** Use the `bisection_method` function to approximate the solution to $f(x)=x^6-x-1$. "
   ]
  },
  {
   "cell_type": "code",
   "execution_count": null,
   "id": "60630b64",
   "metadata": {
    "tags": []
   },
   "outputs": [],
   "source": [
    "p = ...\n",
    "Dp = ...\n",
    "root = bisection_method(..., -1, -0.5)\n",
    "print(root)"
   ]
  },
  {
   "cell_type": "markdown",
   "id": "6cb6dcf6",
   "metadata": {},
   "source": [
    "<!-- END QUESTION -->\n",
    "\n",
    "## 2. Newton's Method\n",
    "\n",
    "[Newton's method](https://en.wikipedia.org/wiki/Newton%27s_method) is a root finding method that uses linear approximation. In particular, we make an initial guess ($x_0$) for the root of an equation ($f(x)=0$), compute the linear approximation of $f(x)$ at $x_0$ and then find the $x-$intercept of the linear approximation. The algorithm we learned in class is \n",
    "\n",
    "$$x_{n+1}=x_n-\\frac{f\\left(x_n\\right)}{f'\\left(x_n\\right)}$$\n",
    "\n",
    "which converges (potentially) to an approximate solution to the equation $f(x)=0$."
   ]
  },
  {
   "cell_type": "markdown",
   "id": "58c12b51",
   "metadata": {},
   "source": [
    "<!-- BEGIN QUESTION -->\n",
    "\n",
    "**Question 4.** In class and in the previous lab we discussed situations in which Newton's method would fail to converge, Compare Newton's method to the bisection method. What are the differences? What are the advantages/disadvantages of Newton's method?"
   ]
  },
  {
   "cell_type": "markdown",
   "id": "30a611e3",
   "metadata": {},
   "source": [
    "_Type your answer here, replacing this text._"
   ]
  },
  {
   "cell_type": "markdown",
   "id": "46ef4854",
   "metadata": {},
   "source": [
    "<!-- END QUESTION -->\n",
    "\n",
    "Below is a function that uses Newton's method to approximate a solution to $f(x)=0$. Read through the description and code. If you have questions you can ask another student in your pod or ask one of your instructors. "
   ]
  },
  {
   "cell_type": "code",
   "execution_count": null,
   "id": "6f890f02",
   "metadata": {},
   "outputs": [],
   "source": [
    "def newtons_method(f, Df, x0, iterations = 25, tol = 1e-6):\n",
    "    \"\"\"\n",
    "    Parameters\n",
    "    ----------\n",
    "    f               : Function for which we are searching for a solution f(x)=0.\n",
    "    Df              : Derivative of f(x)\n",
    "    x0              : Initial guess for a solution f(x)=0\n",
    "    iterations = 25 : Set the aximum number of iterations for the loop\n",
    "    tol = 1e-6      : Set the level of tolerance for a stopping criteria abs(f(x)) < tol\n",
    "\n",
    "    Returns\n",
    "    -------\n",
    "    The approximation of the root (if found)\n",
    "    \"\"\"\n",
    "    xn = x0\n",
    "    for n in range(0, iterations):\n",
    "        fxn = f(xn)\n",
    "        if abs(fxn) < tol:\n",
    "            print('Found solution after', n, 'iterations.')\n",
    "            return xn\n",
    "        \n",
    "        Dfxn = Df(xn)\n",
    "        \n",
    "        if Dfxn == 0:\n",
    "            print('Zero derivative. No solution found.')\n",
    "            return None\n",
    "        \n",
    "        xn = xn - fxn/Dfxn\n",
    "    print('Exceeded maximum iterations. No solution found.')\n",
    "    return None"
   ]
  },
  {
   "cell_type": "markdown",
   "id": "406bbfa8",
   "metadata": {},
   "source": [
    "Now that you've read through the description of the function and the looked over the code, let's use `newtons_method`. Below you will find a use case for the function:\n",
    "\n",
    "**Example 1.** Use the `newtons_method` function to approximate the solution to the function $x^2-x-1$.\n",
    "\n",
    "```\n",
    "p = lambda x : x**2-x-1\n",
    "Dp = lambda x: 2*x-1\n",
    "newtons_method(f, Df, 1)\n",
    "\n",
    "Found solution after 5 iterations.\n",
    "1.618033988749989\n",
    "```"
   ]
  },
  {
   "cell_type": "markdown",
   "id": "e2faca2d",
   "metadata": {},
   "source": [
    "<!-- BEGIN QUESTION -->\n",
    "\n",
    "**Question 5.** Use the `newtons_method` function to approximate the solution to the function $x^2-x-1$."
   ]
  },
  {
   "cell_type": "code",
   "execution_count": null,
   "id": "bc81599b",
   "metadata": {
    "tags": []
   },
   "outputs": [],
   "source": [
    "p = ...\n",
    "Dp = ...\n",
    "root = newtons_method(..., ..., 1)\n",
    "#statement = \"The root is {}.\"\n",
    "#statement.format(root)\n",
    "print(root)"
   ]
  },
  {
   "cell_type": "markdown",
   "id": "0afc4b8c",
   "metadata": {},
   "source": [
    "<!-- END QUESTION -->\n",
    "\n",
    "### Supergolden Ratio\n",
    "\n",
    "In mathematics, two quantities are in the supergolden ratio if the quotient of the larger number divided by the smaller one is equal to\n",
    "\n",
    "$${\\displaystyle \\psi ={\\frac {1+{\\sqrt[{3}]{\\frac {29+3{\\sqrt {93}}}{2}}}+{\\sqrt[{3}]{\\frac {29-3{\\sqrt {93}}}{2}}}}{3}}}$$\n",
    "\n",
    "which is the only real solution to the equation $x^{3}=x^{2}+1$. [(Wikipedia)](https://en.wikipedia.org/wiki/Supergolden_ratio)\n",
    "\n",
    "Let's test our function `newtons_method` on the polynomial $f(x)=x^3-x^2-1$ to approximate the super golden ratio."
   ]
  },
  {
   "cell_type": "markdown",
   "id": "300b3e31",
   "metadata": {},
   "source": [
    "<!-- BEGIN QUESTION -->\n",
    "\n",
    "**Question 6.** Use the `newtons_method` function to approximate the solution to the function $x^3-x^2-1$."
   ]
  },
  {
   "cell_type": "code",
   "execution_count": null,
   "id": "3b94ff4b",
   "metadata": {
    "tags": []
   },
   "outputs": [],
   "source": [
    "p = ...\n",
    "Dp = ...\n",
    "root = newtons_method(..., ..., 1)\n",
    "print(root)"
   ]
  },
  {
   "cell_type": "markdown",
   "id": "4c8b4b3d",
   "metadata": {},
   "source": [
    "<!-- END QUESTION -->\n",
    "\n",
    "Five iterations is really fast! During class Mr. Rash mentioned how the limit as $n \\to \\infty$ (where $n$ is the number of iterations of Newton's method) of the ratio of the most recent error to the square of the previous error approaches a constant. More specifically\n",
    "\n",
    "$$\\lim\\limits_{n \\to \\infty} \\frac{\\left|\\alpha-x_{n+1}\\right|}{\\left|\\alpha-x_n \\right|^2}=\\frac{-f''(\\alpha)}{2f'(\\alpha)}$$\n",
    "\n",
    "Since we know the real solution to $x^3-x^2-1=0$ we can make a table of values for the 5 iterations it took our algorithm to approximate the solution. \n",
    "\n",
    "First lets get the value of the only real solution (i.e. the supergolden ration) stored in a python variable. You may find it useful to use numpy for your calculations."
   ]
  },
  {
   "cell_type": "markdown",
   "id": "a8a039ac",
   "metadata": {},
   "source": [
    "**Question 7.** Write a python expression to calculate the value of the supergolden ratio."
   ]
  },
  {
   "cell_type": "code",
   "execution_count": null,
   "id": "bf1fe520",
   "metadata": {
    "tags": []
   },
   "outputs": [],
   "source": [
    "sg_ratio = ...\n",
    "sg_ratio"
   ]
  },
  {
   "cell_type": "code",
   "execution_count": null,
   "id": "039a08cb",
   "metadata": {
    "deletable": false,
    "editable": false
   },
   "outputs": [],
   "source": [
    "grader.check(\"q7\")"
   ]
  },
  {
   "cell_type": "markdown",
   "id": "b308c4ed",
   "metadata": {},
   "source": [
    "Now we can use our value of alpha ($\\alpha$) to make our table.\n",
    "\n",
    "**Note:** The value for `sg_ratio` is our value of the \"true\" root alpha ($\\alpha$).\n",
    "\n",
    "Run the cell below to generate a list of $x-$values from Newton's method."
   ]
  },
  {
   "cell_type": "code",
   "execution_count": null,
   "id": "de9f8cf4",
   "metadata": {},
   "outputs": [],
   "source": [
    "def newtons_method_values(f, Df, x0, iterations = 25, tol = 1e-6):\n",
    "    \"\"\"\n",
    "    Parameters\n",
    "    ----------\n",
    "    f               : Function for which we are searching for a solution f(x)=0.\n",
    "    Df              : Derivative of f(x)\n",
    "    x0              : Initial guess for a solution f(x)=0\n",
    "    iterations = 25 : Set the aximum number of iterations for the loop\n",
    "    tol = 1e-6      : Set the level of tolerance for a stopping criteria abs(f(x)) < tol\n",
    "\n",
    "    Returns\n",
    "    -------\n",
    "    The approximation of the root (if found)\n",
    "    \"\"\"\n",
    "    xis = []\n",
    "    xn = x0\n",
    "    for n in range(0, iterations):\n",
    "        fxn = f(xn)\n",
    "        if abs(fxn) < tol:\n",
    "            return xis\n",
    "        \n",
    "        Dfxn = Df(xn)\n",
    "        \n",
    "        if Dfxn == 0:\n",
    "            print('Zero derivative. No solution found.')\n",
    "            return None\n",
    "        \n",
    "        xn = xn - fxn/Dfxn\n",
    "        xis.append(xn)\n",
    "    print('Exceeded maximum iterations. No solution found.')\n",
    "    return xis"
   ]
  },
  {
   "cell_type": "markdown",
   "id": "ea39e5ca",
   "metadata": {},
   "source": [
    "Now we can make a table similar to the one in your textbook *Elementary Numerical Analysis* on Page 81.\n",
    "\n",
    "Run the cell below."
   ]
  },
  {
   "cell_type": "code",
   "execution_count": null,
   "id": "b62d9b77",
   "metadata": {},
   "outputs": [],
   "source": [
    "p = lambda x : x**3-x**2-1\n",
    "Dp = lambda x: 3*x**2-2*x\n",
    "xis = newtons_method_values(p, Dp, 1)\n",
    "print(\"{:<8} {:<25} {:<25} {:<30}\".format(\"i\", \"x_i\", \"alpha-x_i\", \"|alpha-x_{n+1}|/|alpha-x_{n}|^2\"))\n",
    "for i in range(len(xis)):\n",
    "    if i == 0:\n",
    "        print(\"{:<8} {:<25} {:<25}\".format(i, xis[i], abs(xis[i]-sg_ratio)))\n",
    "    elif i ==  3:\n",
    "        print(\"{:<8} {:<25} {:<25} {:<30}\".format(i, xis[i], abs(xis[i]-sg_ratio), \"a.\"))\n",
    "    elif i == 4:\n",
    "        print(\"{:<8} {:<25} {:<25}\".format(i, \"b.\", \"c.\"))\n",
    "    else:\n",
    "        print(\"{:<8} {:<25} {:<25} {:<30}\".format(i, xis[i],abs(xis[i]-sg_ratio), abs(xis[i+1]-sg_ratio)/(xis[i]-sg_ratio)**2))"
   ]
  },
  {
   "cell_type": "markdown",
   "id": "f0fcfc7d",
   "metadata": {},
   "source": [
    "<!-- BEGIN QUESTION -->\n",
    "\n",
    "**Question 8.** Calculate by hand the values for **a**, **b**, and **c** (at least 6 decimal places). Then Type them in the cell below.\n",
    "\n",
    "**Note:** You can use python, a spreadsheet or your calculator."
   ]
  },
  {
   "cell_type": "code",
   "execution_count": null,
   "id": "03d57b32",
   "metadata": {
    "tags": []
   },
   "outputs": [],
   "source": [
    "a = ...\n",
    "b = ...\n",
    "c = ..."
   ]
  },
  {
   "cell_type": "code",
   "execution_count": null,
   "id": "2cc0d354",
   "metadata": {
    "deletable": false,
    "editable": false
   },
   "outputs": [],
   "source": [
    "grader.check(\"q8\")"
   ]
  },
  {
   "cell_type": "markdown",
   "id": "de5c8307",
   "metadata": {},
   "source": [
    "<!-- END QUESTION -->\n",
    "\n",
    "**Question 9.** Calculate the value of $\\displaystyle \\frac{-f''(\\alpha)}{2f'(\\alpha)}$. You are allowed to use more than one line of code to compute the value.\n",
    "\n",
    "**Hint:** You may want to define another lambda function. "
   ]
  },
  {
   "cell_type": "code",
   "execution_count": null,
   "id": "6ee64485",
   "metadata": {
    "tags": []
   },
   "outputs": [],
   "source": [
    "lim_as_goes_to_infinity = ...\n",
    "lim_as_n_goes_to_infinity"
   ]
  },
  {
   "cell_type": "code",
   "execution_count": null,
   "id": "670e5d5d",
   "metadata": {
    "deletable": false,
    "editable": false
   },
   "outputs": [],
   "source": [
    "grader.check(\"q9\")"
   ]
  },
  {
   "cell_type": "markdown",
   "id": "d4e9c4b2",
   "metadata": {},
   "source": [
    "<!-- BEGIN QUESTION -->\n",
    "\n",
    "**Question 10.** How close is the value from **Question 9.** to your answer for part **a.**"
   ]
  },
  {
   "cell_type": "code",
   "execution_count": null,
   "id": "9872ad2e",
   "metadata": {
    "tags": []
   },
   "outputs": [],
   "source": [
    "error = ...\n",
    "error"
   ]
  },
  {
   "cell_type": "markdown",
   "id": "5061ab9d",
   "metadata": {},
   "source": [
    "<!-- END QUESTION -->\n",
    "\n",
    "Let's change the level of tolerance for our `newtons_method` function to `1e-10`.\n",
    "\n",
    "Run the cell below."
   ]
  },
  {
   "cell_type": "code",
   "execution_count": null,
   "id": "918285d8",
   "metadata": {},
   "outputs": [],
   "source": [
    "p = lambda x : x**3-x**2-1\n",
    "Dp = lambda x: 3*x**2-2*x\n",
    "root = newtons_method(p, Dp, 1, tol = 1e-10)\n",
    "print(root)\n",
    "print(\"The error between Newtons method and the 'exact value' of the solution to p(x) is\", abs(sg_ratio-root))"
   ]
  },
  {
   "cell_type": "markdown",
   "id": "81e93f60",
   "metadata": {},
   "source": [
    "<!-- BEGIN QUESTION -->\n",
    "\n",
    "**Question 11.** How many iterations of the Bisection method starting with the interval of $[1,2]$ can achieve the same accuracy? Explain how you determined your value."
   ]
  },
  {
   "cell_type": "markdown",
   "id": "300821e5",
   "metadata": {},
   "source": [
    "_Type your answer here, replacing this text._"
   ]
  },
  {
   "cell_type": "markdown",
   "id": "341c4da0",
   "metadata": {},
   "source": [
    "<!-- END QUESTION -->\n",
    "\n",
    "<!-- BEGIN QUESTION -->\n",
    "\n",
    "**Question 12.** We discussed cases in which Newton's method would fail to converge (i.e. diverge). For example, if the tangent line at the root is vertical as is the case for $f(x)=x^{1/3}$. Explain why this would be an issue for Newton's method and not for the Bisection method."
   ]
  },
  {
   "cell_type": "markdown",
   "id": "b5a3f6d3",
   "metadata": {},
   "source": [
    "_Type your answer here, replacing this text._"
   ]
  },
  {
   "cell_type": "markdown",
   "id": "a80d9454",
   "metadata": {},
   "source": [
    "<!-- END QUESTION -->\n",
    "\n",
    "## 3. Secant Method\n",
    "\n",
    "The Secant method is very similar to the bisection method. The bisection method divides each interval by choosing a midpoint while the secant method divides each interval by a secant line. The secant line always converges to a root (provided that $f(x)$ is continuous on $[a,b]$ and $f(a) \\cdot f(b)<0$). The algorithm for the secant method is \n",
    "\n",
    "$$x_{n+1}=x_n-f(x_n) \\cdot \\frac{x_n-x_{n-1}}{f(x_n)-f(x_{n-1})}$$\n",
    "\n",
    "Let's see if we can write a python function to implement the Secant method."
   ]
  },
  {
   "cell_type": "markdown",
   "id": "7f0e79dc",
   "metadata": {},
   "source": [
    "**Question 12.** Fill in the ellipses for the `secant_method` function. Then test your function on the polynomial $f(x)=x^3-x^2-1$."
   ]
  },
  {
   "cell_type": "code",
   "execution_count": null,
   "id": "a54e2763",
   "metadata": {
    "tags": []
   },
   "outputs": [],
   "source": [
    "def secant_method(f, a, b, iterations = 25):\n",
    "    \"\"\"\n",
    "\n",
    "    Parameters\n",
    "    ----------\n",
    "    f               : Function for which we are searching for a solution f(x)=0.\n",
    "    a, b            : Endpoints of the interval\n",
    "    iterations = 25 : Set the aximum number of iterations for the loop\n",
    "\n",
    "    Returns\n",
    "    -------\n",
    "    The approximation of the root (if found)\n",
    "    \"\"\"\n",
    " if f(a)*f(b) >= 0:\n",
    "        print(\"Secant method fails.\")\n",
    "        return None\n",
    "    a_n = a\n",
    "    b_n = b\n",
    "    for n in range(1, iterations + 1):\n",
    "        m_n = a_n - f(...)*(... - ...)/(f(...) - f(...))\n",
    "        f_m_n = f(m_n)\n",
    "        \n",
    "        if f(a_n)*f_m_n < 0:\n",
    "            a_n = ...\n",
    "            b_n = ...\n",
    "        elif f(b_n)*f_m_n < 0:\n",
    "            a_n = ...\n",
    "            b_n = ...\n",
    "        elif f_m_n == 0:\n",
    "            print(\"Found a solution\")\n",
    "            return m_n\n",
    "        else:\n",
    "            print(\"Secant method fails.\")\n",
    "            return None\n",
    "    return ... - f(...)*(... - ...)/(f(...) - f(...))\n",
    "    \n",
    " = \n",
    "f = lambda x: x**3-x**2-1\n",
    "root = secant_method(f, 1, 2)\n",
    "print(root)"
   ]
  },
  {
   "cell_type": "code",
   "execution_count": null,
   "id": "ecc685c8",
   "metadata": {
    "deletable": false,
    "editable": false
   },
   "outputs": [],
   "source": [
    "grader.check(\"q12\")"
   ]
  },
  {
   "cell_type": "markdown",
   "id": "82e7122d",
   "metadata": {},
   "source": [
    "<!-- BEGIN QUESTION -->\n",
    "\n",
    "**Question 13.** How close is the value from **Question 12.** to your the value of the supergolden ratio (`sg_ratio`)?"
   ]
  },
  {
   "cell_type": "code",
   "execution_count": null,
   "id": "9465af68",
   "metadata": {
    "tags": []
   },
   "outputs": [],
   "source": [
    "f = lambda x: x**3-x**2-1\n",
    "root = ...\n",
    "error = ...\n",
    "error"
   ]
  },
  {
   "cell_type": "markdown",
   "id": "e1e357e2",
   "metadata": {},
   "source": [
    "<!-- END QUESTION -->\n",
    "\n",
    "# 4. Comparing Methods"
   ]
  },
  {
   "cell_type": "markdown",
   "id": "87210898",
   "metadata": {},
   "source": [
    "<!-- BEGIN QUESTION -->\n",
    "\n",
    "**Question 13.** Consider the function $$f_1(x)=x^4-7.5x^3+10.56x^2+31.744x-68.8128$$, which has a root at $x=3.2$.\n",
    "\n",
    "**a.** Use all three root finding methods to find the root at $x=3.2$. Use the following specifications:\n",
    "\n",
    "- Tolerance for each method: $10^{-7}$\n",
    "- Maximum number of iterations for each method: 25\n",
    "- Initial interval/points for the Bisection and Secant methods: $[3.0, 3.5]$\n",
    "- Initial point for Newton's method: 3.0\n",
    "\n",
    "**b.** Now consider $$f_2(x)=x^2-1.1x-6.72$$, which also has a root at $x=3.2$. Using the same specifications as above, find the root at $x=3.2$ using all three root finding methods.\n",
    "\n",
    "**Note:** You are allowed to use python, a spreadsheet or your calculator."
   ]
  },
  {
   "cell_type": "code",
   "execution_count": null,
   "id": "a0a7bb58",
   "metadata": {
    "tags": []
   },
   "outputs": [],
   "source": [
    "..."
   ]
  },
  {
   "cell_type": "markdown",
   "id": "a46a9cbe",
   "metadata": {},
   "source": [
    "<!-- END QUESTION -->\n",
    "\n",
    "<!-- BEGIN QUESTION -->\n",
    "\n",
    "**Question 14.** Compare and contrast our various root-finding methods. What did you learn about their  strengths and weaknesses? Which seem to work “best”? Support your statements with evidence. Be clear and concise in your comparisons."
   ]
  },
  {
   "cell_type": "markdown",
   "id": "2a52d751",
   "metadata": {},
   "source": [
    "_Type your answer here, replacing this text._"
   ]
  },
  {
   "cell_type": "markdown",
   "id": "a1546cea",
   "metadata": {},
   "source": [
    "<!-- END QUESTION -->\n",
    "\n"
   ]
  },
  {
   "cell_type": "markdown",
   "id": "eb0de890",
   "metadata": {
    "deletable": false,
    "editable": false
   },
   "source": [
    "---\n",
    "\n",
    "To double-check your work, the cell below will rerun all of the autograder tests."
   ]
  },
  {
   "cell_type": "code",
   "execution_count": null,
   "id": "cbf45feb",
   "metadata": {
    "deletable": false,
    "editable": false
   },
   "outputs": [],
   "source": [
    "grader.check_all()"
   ]
  },
  {
   "cell_type": "markdown",
   "id": "4db937bf",
   "metadata": {
    "deletable": false,
    "editable": false
   },
   "source": [
    "## Submission\n",
    "\n",
    "Make sure you have run all cells in your notebook in order before running the cell below, so that all images/graphs appear in the output. The cell below will generate a zip file for you to submit. **Please save before exporting!**\n",
    "\n",
    "When done exporting, download the .zip file by finding it in the file browswer on the left side of the screen, then right-click and select **Download**. You'll submit this .zip file for the assignment in Canvas to Gradescope for grading."
   ]
  },
  {
   "cell_type": "code",
   "execution_count": null,
   "id": "4a94fe92",
   "metadata": {
    "deletable": false,
    "editable": false
   },
   "outputs": [],
   "source": [
    "# Save your notebook first, then run this cell to export your submission.\n",
    "grader.export()"
   ]
  },
  {
   "cell_type": "markdown",
   "id": "b84f1ab2",
   "metadata": {},
   "source": [
    " "
   ]
  }
 ],
 "metadata": {
  "kernelspec": {
   "display_name": "Python 3 (ipykernel)",
   "language": "python",
   "name": "python3"
  },
  "language_info": {
   "codemirror_mode": {
    "name": "ipython",
    "version": 3
   },
   "file_extension": ".py",
   "mimetype": "text/x-python",
   "name": "python",
   "nbconvert_exporter": "python",
   "pygments_lexer": "ipython3",
   "version": "3.9.6"
  },
  "otter": {
   "tests": {
    "q1": {
     "name": "q1",
     "points": null,
     "suites": [
      {
       "cases": [
        {
         "code": ">>> f(1)\n-1",
         "hidden": false,
         "locked": false
        },
        {
         "code": ">>> f(0)\n-1",
         "hidden": false,
         "locked": false
        },
        {
         "code": ">>> f(10)\n999989",
         "hidden": false,
         "locked": false
        }
       ],
       "scored": true,
       "setup": "",
       "teardown": "",
       "type": "doctest"
      }
     ]
    },
    "q12": {
     "name": "q12",
     "points": null,
     "suites": [
      {
       "cases": [
        {
         "code": ">>> np.isclose(1.4655712318713536, root)\nTrue",
         "hidden": false,
         "locked": false
        }
       ],
       "scored": true,
       "setup": "",
       "teardown": "",
       "type": "doctest"
      }
     ]
    },
    "q2": {
     "name": "q2",
     "points": null,
     "suites": [
      {
       "cases": [
        {
         "code": ">>> Df(1)\n5",
         "hidden": false,
         "locked": false
        },
        {
         "code": ">>> Df(0)\n-1",
         "hidden": false,
         "locked": false
        },
        {
         "code": ">>> Df(10)\n599999",
         "hidden": false,
         "locked": false
        }
       ],
       "scored": true,
       "setup": "",
       "teardown": "",
       "type": "doctest"
      }
     ]
    },
    "q7": {
     "name": "q7",
     "points": null,
     "suites": [
      {
       "cases": [
        {
         "code": ">>> np.isclose(1.4655712318767682, sg_ratio)\nTrue",
         "hidden": false,
         "locked": false
        }
       ],
       "scored": true,
       "setup": "",
       "teardown": "",
       "type": "doctest"
      }
     ]
    },
    "q8": {
     "name": "q8",
     "points": null,
     "suites": [
      {
       "cases": [
        {
         "code": ">>> np.isclose(0.9665207024404882, a)\nTrue",
         "hidden": false,
         "locked": false
        },
        {
         "code": ">>> np.isclose(1.4655713749070918, b)\nTrue",
         "hidden": false,
         "locked": false
        },
        {
         "code": ">>> np.isclose(1.4303032358498058e-07, c)\nTrue",
         "hidden": false,
         "locked": false
        }
       ],
       "scored": true,
       "setup": "",
       "teardown": "",
       "type": "doctest"
      }
     ]
    },
    "q9": {
     "name": "q9",
     "points": null,
     "suites": [
      {
       "cases": [
        {
         "code": ">>> np.isclose(0.9670208838033376, lim_as_n_goes_to_infinity)\nTrue",
         "hidden": false,
         "locked": false
        }
       ],
       "scored": true,
       "setup": "",
       "teardown": "",
       "type": "doctest"
      }
     ]
    }
   }
  }
 },
 "nbformat": 4,
 "nbformat_minor": 5
}
