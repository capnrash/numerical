{
 "cells": [
  {
   "cell_type": "code",
   "execution_count": null,
   "id": "c57fe764",
   "metadata": {
    "deletable": false,
    "editable": false
   },
   "outputs": [],
   "source": [
    "# Initialize Otter\n",
    "import otter\n",
    "grader = otter.Notebook(\"lab05.ipynb\")"
   ]
  },
  {
   "cell_type": "markdown",
   "id": "d66e2d57",
   "metadata": {
    "tags": []
   },
   "source": [
    "# Lab 05: Root Finding\n",
    "\n",
    "Welcome to Lab 05! Throughout the course you will complete a lab assignments like this one. You can't learn technical subjects without hands-on practice, so labs are an important part of the course.\n",
    "\n",
    "Collaborating on labs is more than okay -- it's encouraged. You should rarely remain stuck for more than a few minutes on questions in labs, so ask a neighbor or an instructor for help. Explaining things is beneficial, too -- the best way to solidify your knowledge of a subject is to explain it. You should **not** just copy/paste someone else's code, but rather work together to gain understanding of the task you need to complete. \n",
    "\n",
    "In today's lab, you'll learn more about root finding algorithms. \n",
    "\n",
    "To receive credit for a lab, answer all questions correctly and submit before the deadline.\n",
    "\n",
    "**Due Date:** Tuesday, March 8, 2022 at 11:59 pm\n",
    "\n",
    "**Collaboration Policy:** Labs are a collaborative activity. While you may talk with others about the labs, we ask that you **write your solutions individually**. If you do discuss the assignments with others **please include their names below** (it's a good way to learn your classmates' names).\n",
    "\n",
    "**Collaborators:** \n",
    "\n",
    "List collaborators here."
   ]
  },
  {
   "cell_type": "markdown",
   "id": "4762051b",
   "metadata": {},
   "source": [
    "## 0. Lambda Functions\n",
    "\n",
    "Sometimes we want to write a small function or we want a function that we don't need to keep because we aren't going to use it later. In python we can write functions using a shorthand technique. These small, unnamed (anonymous) functions are called lambda functions. For example, suppose we want to square a number using a lambda function (I know it seems silly but humor me), we could use a lambda function.\n",
    "\n",
    "```\n",
    "square_biz = lambda x : x**2\n",
    "```\n",
    "\n",
    "The `square_biz` lambda function is written in one line of code. The argument is `x` and the `:` separates the argument form the expression. Notice that unlike the functions from the previous lab we don't need the keyword `def`. If we wanted to use our lambda function we would enter\n",
    "\n",
    "```\n",
    "square_biz(5)\n",
    "```\n",
    "\n",
    "and our function will return the value 25 (lambda functions can't use a `return` statement or some other keywords).\n",
    "\n",
    "Let's try it."
   ]
  },
  {
   "cell_type": "markdown",
   "id": "36b34820",
   "metadata": {},
   "source": [
    "**Question 1.** Write a **lambda** function named `f` that will compute the value of $f(x)=x^6-x-1$."
   ]
  },
  {
   "cell_type": "code",
   "execution_count": null,
   "id": "ca6bd76e",
   "metadata": {
    "tags": []
   },
   "outputs": [],
   "source": [
    "f = ..."
   ]
  },
  {
   "cell_type": "code",
   "execution_count": null,
   "id": "f1b385a8",
   "metadata": {
    "deletable": false,
    "editable": false
   },
   "outputs": [],
   "source": [
    "grader.check(\"q1\")"
   ]
  },
  {
   "cell_type": "markdown",
   "id": "57fe5725",
   "metadata": {},
   "source": [
    "Perhaps we want to find values of the derivative for $f(x)=x^6-x-1$."
   ]
  },
  {
   "cell_type": "markdown",
   "id": "91bec9af",
   "metadata": {},
   "source": [
    "**Question 2.** Write a **lambda** function named `Df` that will compute the value of $f'(x)$, where $f(x)=x^6-x-1$.."
   ]
  },
  {
   "cell_type": "code",
   "execution_count": null,
   "id": "4700f709",
   "metadata": {
    "tags": []
   },
   "outputs": [],
   "source": [
    "Df = ..."
   ]
  },
  {
   "cell_type": "code",
   "execution_count": null,
   "id": "1e0128ac",
   "metadata": {
    "deletable": false,
    "editable": false
   },
   "outputs": [],
   "source": [
    "grader.check(\"q2\")"
   ]
  },
  {
   "cell_type": "markdown",
   "id": "11746e3e",
   "metadata": {},
   "source": [
    "We can also plot lambda functions. run the cell below to load the `NumPy` and `matplotlib` modules."
   ]
  },
  {
   "cell_type": "code",
   "execution_count": null,
   "id": "8f399103",
   "metadata": {},
   "outputs": [],
   "source": [
    "import numpy as np\n",
    "import matplotlib.pyplot as plt\n",
    "plt.style.use('seaborn-whitegrid')\n",
    "%matplotlib inline"
   ]
  },
  {
   "cell_type": "markdown",
   "id": "0f802d29",
   "metadata": {},
   "source": [
    "Now let's plot $f(x)=x^6-x-1$."
   ]
  },
  {
   "cell_type": "code",
   "execution_count": null,
   "id": "0d3f99cc",
   "metadata": {},
   "outputs": [],
   "source": [
    "x = np.arange(-1,1.5,0.05)\n",
    "f = lambda x: x**6-x-1\n",
    "plt.plot(x, f(x), color = 'black', ms = 3);"
   ]
  },
  {
   "cell_type": "markdown",
   "id": "c6db8f4c",
   "metadata": {},
   "source": [
    "There seems to be a root somewhere on the interval $[-1.0, -0.5]$. Let's see if we can implement our algorithms to approximate its value. "
   ]
  },
  {
   "cell_type": "markdown",
   "id": "0abb049a",
   "metadata": {},
   "source": [
    "# 1. Review of the Bisection Method\n",
    "\n",
    "Now that we know how to use lambda functions we can update the way we wrote our `bisection_method` function. We can now pass the function in as a parameter."
   ]
  },
  {
   "cell_type": "code",
   "execution_count": null,
   "id": "f84f3c9c",
   "metadata": {},
   "outputs": [],
   "source": [
    "def bisection_method(f, a, b, iterations = 25, tol = 1e-6):\n",
    "    \"\"\"\n",
    "    Parameters\n",
    "    ----------\n",
    "    f               : Function for which we are searching for a solution f(x)=0\n",
    "    a, b            : The endpoints of the interval\n",
    "    iterations = 25 : Set the maximum number of iterations for the loop\n",
    "    tol = 1e-6      : Set the level of tolerance for the distance between x_i and the midpoint\n",
    "    \n",
    "    Returns\n",
    "    -------\n",
    "    The approximation for the root (if found)\n",
    "    \"\"\"\n",
    "    \n",
    "    if f(a)*f(b) >= 0:\n",
    "        print(\"A root is not guaranteed in this interval.\")\n",
    "        return 0\n",
    "    \n",
    "    for n in range(iterations):\n",
    "        c = (a + b)/2.0\n",
    "                          \n",
    "        if f(a)*f(c) > 0:\n",
    "            a = c\n",
    "        else:\n",
    "            b = c\n",
    "            \n",
    "        if abs(b - a) < tol:\n",
    "            break\n",
    "        elif n == iterations - 1:\n",
    "            print(\"\\nLevel of tolerance not reached after 25 iterations.\")\n",
    "            break\n",
    "    print('Found solution after', n, 'iterations.')\n",
    "    return c"
   ]
  },
  {
   "cell_type": "markdown",
   "id": "1707730b",
   "metadata": {},
   "source": [
    "<!-- BEGIN QUESTION -->\n",
    "\n",
    "**Question 3.** Use the `bisection_method` function to approximate the solution to $f(x)=x^6-x-1$. "
   ]
  },
  {
   "cell_type": "code",
   "execution_count": null,
   "id": "1ceb3099",
   "metadata": {
    "tags": []
   },
   "outputs": [],
   "source": [
    "p = ...\n",
    "Dp = ...\n",
    "root = bisection_method(..., -1, -0.5)\n",
    "print(root)"
   ]
  },
  {
   "cell_type": "markdown",
   "id": "192cc289",
   "metadata": {},
   "source": [
    "<!-- END QUESTION -->\n",
    "\n",
    "## 2. Newton's Method\n",
    "\n",
    "[Newton's method](https://en.wikipedia.org/wiki/Newton%27s_method) is a root finding method that uses linear approximation. In particular, we make an initial guess ($x_0$) for the root of an equation ($f(x)=0$), compute the linear approximation of $f(x)$ at $x_0$ and then find the $x-$intercept of the linear approximation. The algorithm we learned in class is \n",
    "\n",
    "$$x_{n+1}=x_n-\\frac{f\\left(x_n\\right)}{f'\\left(x_n\\right)}$$\n",
    "\n",
    "which converges (potentially) to an approximate solution to the equation $f(x)=0$."
   ]
  },
  {
   "cell_type": "markdown",
   "id": "c16c7607",
   "metadata": {},
   "source": [
    "<!-- BEGIN QUESTION -->\n",
    "\n",
    "**Question 4.** In class and in the previous lab we discussed situations in which Newton's method would fail to converge, Compare Newton's method to the bisection method. What are the differences? What are the advantages/disadvantages of Newton's method?"
   ]
  },
  {
   "cell_type": "markdown",
   "id": "1c909591",
   "metadata": {},
   "source": [
    "_Type your answer here, replacing this text._"
   ]
  },
  {
   "cell_type": "markdown",
   "id": "b1d95b76",
   "metadata": {},
   "source": [
    "<!-- END QUESTION -->\n",
    "\n",
    "Below is a function that uses Newton's method to approximate a solution to $f(x)=0$. Read through the description and code. If you have questions you can ask another student in your pod or ask one of your instructors. "
   ]
  },
  {
   "cell_type": "code",
   "execution_count": null,
   "id": "3b0dd0af",
   "metadata": {},
   "outputs": [],
   "source": [
    "def newtons_method(f, Df, x0, iterations = 25, tol = 1e-6):\n",
    "    \"\"\"\n",
    "    Parameters\n",
    "    ----------\n",
    "    f               : Function for which we are searching for a solution f(x)=0.\n",
    "    Df              : Derivative of f(x)\n",
    "    x0              : Initial guess for a solution f(x)=0\n",
    "    iterations = 25 : Set the aximum number of iterations for the loop\n",
    "    tol = 1e-6      : Set the level of tolerance for a stopping criteria abs(f(x)) < tol\n",
    "\n",
    "    Returns\n",
    "    -------\n",
    "    The approximation of the root (if found)\n",
    "    \"\"\"\n",
    "    xn = x0\n",
    "    for n in range(0, iterations):\n",
    "        fxn = f(xn)\n",
    "        if abs(fxn) < tol:\n",
    "            print('Found solution after', n, 'iterations.')\n",
    "            return xn\n",
    "        \n",
    "        Dfxn = Df(xn)\n",
    "        \n",
    "        if Dfxn == 0:\n",
    "            print('Zero derivative. No solution found.')\n",
    "            return None\n",
    "        \n",
    "        xn = xn - fxn/Dfxn\n",
    "    print('Exceeded maximum iterations. No solution found.')\n",
    "    return None"
   ]
  },
  {
   "cell_type": "markdown",
   "id": "74eca3a3",
   "metadata": {},
   "source": [
    "Now that you've read through the description of the function and the looked over the code, let's use `newtons_method`. Below you will find a use case for the function:\n",
    "\n",
    "**Example 1.** Use the `newtons_method` function to approximate the solution to the function $x^2-x-1$.\n",
    "\n",
    "```\n",
    "p = lambda x : x**2-x-1\n",
    "Dp = lambda x: 2*x-1\n",
    "newtons_method(f, Df, 1)\n",
    "\n",
    "Found solution after 5 iterations.\n",
    "1.618033988749989\n",
    "```"
   ]
  },
  {
   "cell_type": "markdown",
   "id": "63f1176e",
   "metadata": {},
   "source": [
    "<!-- BEGIN QUESTION -->\n",
    "\n",
    "**Question 5.** Use the `newtons_method` function to approximate the solution to the function $x^2-x-1$."
   ]
  },
  {
   "cell_type": "code",
   "execution_count": null,
   "id": "09ecbd21",
   "metadata": {
    "tags": []
   },
   "outputs": [],
   "source": [
    "p = ...\n",
    "Dp = ...\n",
    "root = newtons_method(..., ..., 1)\n",
    "print(root)"
   ]
  },
  {
   "cell_type": "markdown",
   "id": "7a89f364",
   "metadata": {},
   "source": [
    "<!-- END QUESTION -->\n",
    "\n",
    "### Supergolden Ratio\n",
    "\n",
    "In mathematics, two quantities are in the supergolden ratio if the quotient of the larger number divided by the smaller one is equal to\n",
    "\n",
    "$${\\displaystyle \\psi ={\\frac {1+{\\sqrt[{3}]{\\frac {29+3{\\sqrt {93}}}{2}}}+{\\sqrt[{3}]{\\frac {29-3{\\sqrt {93}}}{2}}}}{3}}}$$\n",
    "\n",
    "which is the only real solution to the equation $x^{3}=x^{2}+1$. [(Wikipedia)](https://en.wikipedia.org/wiki/Supergolden_ratio)\n",
    "\n",
    "Let's test our function `newtons_method` on the polynomial $f(x)=x^3-x^2-1$ to approximate the super golden ratio."
   ]
  },
  {
   "cell_type": "markdown",
   "id": "00efe012",
   "metadata": {},
   "source": [
    "<!-- BEGIN QUESTION -->\n",
    "\n",
    "**Question 6.** Use the `newtons_method` function to approximate the solution to the function $x^3-x^2-1$."
   ]
  },
  {
   "cell_type": "code",
   "execution_count": null,
   "id": "45d6ecc1",
   "metadata": {
    "tags": []
   },
   "outputs": [],
   "source": [
    "p = ...\n",
    "Dp = ...\n",
    "root = newtons_method(..., ..., 1)\n",
    "print(root)"
   ]
  },
  {
   "cell_type": "markdown",
   "id": "1ed565d6",
   "metadata": {},
   "source": [
    "<!-- END QUESTION -->\n",
    "\n",
    "Five iterations is really fast! During class Mr. Rash mentioned how the limit as $n \\to \\infty$ (where $n$ is the number of iterations of Newton's method) of the ratio of the most recent error to the square of the previous error approaches a constant. More specifically\n",
    "\n",
    "$$\\lim\\limits_{n \\to \\infty} \\frac{\\left|\\alpha-x_{n+1}\\right|}{\\left|\\alpha-x_n \\right|^2}=\\left|\\frac{-f''(\\alpha)}{2f'(\\alpha)}\\right|$$\n",
    "\n",
    "Since we know the real solution to $x^3-x^2-1=0$ we can make a table of values for the 5 iterations it took our algorithm to approximate the solution. \n",
    "\n",
    "First lets get the value of the only real solution (i.e. the supergolden ration) stored in a python variable. You may find it useful to use numpy for your calculations."
   ]
  },
  {
   "cell_type": "markdown",
   "id": "d12d3619",
   "metadata": {},
   "source": [
    "**Question 7.** Write a python expression to calculate the value of the supergolden ratio."
   ]
  },
  {
   "cell_type": "code",
   "execution_count": null,
   "id": "3569100d",
   "metadata": {
    "tags": []
   },
   "outputs": [],
   "source": [
    "sg_ratio = ...\n",
    "sg_ratio"
   ]
  },
  {
   "cell_type": "code",
   "execution_count": null,
   "id": "617f7184",
   "metadata": {
    "deletable": false,
    "editable": false
   },
   "outputs": [],
   "source": [
    "grader.check(\"q7\")"
   ]
  },
  {
   "cell_type": "markdown",
   "id": "b2a9af5b",
   "metadata": {},
   "source": [
    "Now we can use our value of alpha ($\\alpha$) to make our table.\n",
    "\n",
    "**Note:** The value for `sg_ratio` is our value of the \"true\" root alpha ($\\alpha$).\n",
    "\n",
    "Run the cell below to generate a list of $x-$values from Newton's method."
   ]
  },
  {
   "cell_type": "code",
   "execution_count": null,
   "id": "26ddde3c",
   "metadata": {},
   "outputs": [],
   "source": [
    "def newtons_method_values(f, Df, x0, iterations = 25, tol = 1e-6):\n",
    "    \"\"\"\n",
    "    Parameters\n",
    "    ----------\n",
    "    f               : Function for which we are searching for a solution f(x)=0.\n",
    "    Df              : Derivative of f(x)\n",
    "    x0              : Initial guess for a solution f(x)=0\n",
    "    iterations = 25 : Set the aximum number of iterations for the loop\n",
    "    tol = 1e-6      : Set the level of tolerance for a stopping criteria abs(f(x)) < tol\n",
    "\n",
    "    Returns\n",
    "    -------\n",
    "    The approximation of the root (if found)\n",
    "    \"\"\"\n",
    "    xis = []\n",
    "    xn = x0\n",
    "    for n in range(0, iterations):\n",
    "        fxn = f(xn)\n",
    "        if abs(fxn) < tol:\n",
    "            return xis\n",
    "        \n",
    "        Dfxn = Df(xn)\n",
    "        \n",
    "        if Dfxn == 0:\n",
    "            print('Zero derivative. No solution found.')\n",
    "            return None\n",
    "        \n",
    "        xn = xn - fxn/Dfxn\n",
    "        xis.append(xn)\n",
    "    print('Exceeded maximum iterations. No solution found.')\n",
    "    return xis"
   ]
  },
  {
   "cell_type": "markdown",
   "id": "c5c14d5b",
   "metadata": {},
   "source": [
    "Now we can make a table similar to the one in your textbook *Elementary Numerical Analysis* on Page 81.\n",
    "\n",
    "Run the cell below."
   ]
  },
  {
   "cell_type": "code",
   "execution_count": null,
   "id": "b2cfe071",
   "metadata": {},
   "outputs": [],
   "source": [
    "p = lambda x : x**3-x**2-1\n",
    "Dp = lambda x: 3*x**2-2*x\n",
    "xis = newtons_method_values(p, Dp, 1)\n",
    "print(\"{:<8} {:<25} {:<25} {:<30}\".format(\"n\", \"x_n\", \"alpha-x_n\", \"|alpha-x_{n+1}|/|alpha-x_{n}|^2\"))\n",
    "for i in range(len(xis)):\n",
    "    if i == 0:\n",
    "        print(\"{:<8} {:<25} {:<25}\".format(i, xis[i], abs(sg_ratio-xis[i])))\n",
    "    elif i ==  3:\n",
    "        print(\"{:<8} {:<25} {:<25} {:<30}\".format(i, xis[i], abs(sg_ratio-xis[i]), \"a.\"))\n",
    "    elif i == 4:\n",
    "        print(\"{:<8} {:<25} {:<25}\".format(i, \"b.\", \"c.\"))\n",
    "    else:\n",
    "        print(\"{:<8} {:<25} {:<25} {:<30}\".format(i, xis[i],abs(sg_ratio-xis[i]), abs(sg_ratio-xis[i+1])/(sg_ratio-xis[i])**2))"
   ]
  },
  {
   "cell_type": "markdown",
   "id": "d39bb6c3",
   "metadata": {},
   "source": [
    "<!-- BEGIN QUESTION -->\n",
    "\n",
    "**Question 8.** Calculate by hand the values for **a**, **b**, and **c** (at least 6 decimal places). Then Type them in the cell below.\n",
    "\n",
    "**Note:** You can use python, a spreadsheet or your calculator."
   ]
  },
  {
   "cell_type": "code",
   "execution_count": null,
   "id": "a220c3e3",
   "metadata": {
    "tags": []
   },
   "outputs": [],
   "source": [
    "a = ...\n",
    "b = ...\n",
    "c = ...\n",
    "a,b,c"
   ]
  },
  {
   "cell_type": "markdown",
   "id": "8958e249",
   "metadata": {},
   "source": [
    "<!-- END QUESTION -->\n",
    "\n",
    "**Question 9.** Calculate the value of $\\displaystyle \\left|\\frac{-f''(\\alpha)}{2f'(\\alpha)}\\right|$. You are allowed to use more than one line of code to compute the value.\n",
    "\n",
    "**Hint:** You may want to define another lambda function. "
   ]
  },
  {
   "cell_type": "code",
   "execution_count": null,
   "id": "d2dcb875",
   "metadata": {
    "tags": []
   },
   "outputs": [],
   "source": [
    "lim_as_goes_to_infinity = ...\n",
    "lim_as_n_goes_to_infinity"
   ]
  },
  {
   "cell_type": "code",
   "execution_count": null,
   "id": "8c01e82a",
   "metadata": {
    "deletable": false,
    "editable": false
   },
   "outputs": [],
   "source": [
    "grader.check(\"q9\")"
   ]
  },
  {
   "cell_type": "markdown",
   "id": "9316ce48",
   "metadata": {},
   "source": [
    "<!-- BEGIN QUESTION -->\n",
    "\n",
    "**Question 10.** How close is the value from **Question 9.** to your answer for **Question 8.** part **a.**"
   ]
  },
  {
   "cell_type": "code",
   "execution_count": null,
   "id": "3c379bf0",
   "metadata": {
    "tags": []
   },
   "outputs": [],
   "source": [
    "error = ...\n",
    "error"
   ]
  },
  {
   "cell_type": "markdown",
   "id": "0f2cc9c1",
   "metadata": {},
   "source": [
    "<!-- END QUESTION -->\n",
    "\n",
    "Let's change the level of tolerance for our `newtons_method` function to `1e-10`.\n",
    "\n",
    "Run the cell below."
   ]
  },
  {
   "cell_type": "code",
   "execution_count": null,
   "id": "7e94cd10",
   "metadata": {},
   "outputs": [],
   "source": [
    "p = lambda x : x**3-x**2-1\n",
    "Dp = lambda x: 3*x**2-2*x\n",
    "root = newtons_method(p, Dp, 1, tol = 1e-10)\n",
    "print(root)\n",
    "print(\"The error between Newtons method and the 'exact value' of the solution to p(x) is\", abs(sg_ratio-root))"
   ]
  },
  {
   "cell_type": "markdown",
   "id": "bafe0430",
   "metadata": {},
   "source": [
    "<!-- BEGIN QUESTION -->\n",
    "\n",
    "**Question 11.** How many iterations of the Bisection method starting with the interval of $[1,2]$ can achieve the same accuracy (i.e. `tol=1e-10`)? Explain how you determined your value."
   ]
  },
  {
   "cell_type": "markdown",
   "id": "46ba15a5",
   "metadata": {},
   "source": [
    "_Type your answer here, replacing this text._"
   ]
  },
  {
   "cell_type": "markdown",
   "id": "f24c91f2",
   "metadata": {},
   "source": [
    "<!-- END QUESTION -->\n",
    "\n",
    "<!-- BEGIN QUESTION -->\n",
    "\n",
    "**Question 12.** We discussed cases in which Newton's method would fail to converge (i.e. diverge). For example, if the tangent line at the root is vertical as is the case for $f(x)=x^{1/3}$. Explain why this would be an issue for Newton's method and not for the Bisection method."
   ]
  },
  {
   "cell_type": "markdown",
   "id": "2b648864",
   "metadata": {},
   "source": [
    "_Type your answer here, replacing this text._"
   ]
  },
  {
   "cell_type": "markdown",
   "id": "879c16d9",
   "metadata": {},
   "source": [
    "<!-- END QUESTION -->\n",
    "\n",
    "## 3. Secant Method\n",
    "\n",
    "The Secant method is very similar to the bisection method. The bisection method divides each interval by choosing a midpoint while the secant method divides each interval by a secant line. The secant line always converges to a root (provided that $f(x)$ is continuous on $[a,b]$ and $f(a) \\cdot f(b)<0$). The algorithm for the secant method is \n",
    "\n",
    "$$x_{n+1}=x_n-f(x_n) \\cdot \\frac{x_n-x_{n-1}}{f(x_n)-f(x_{n-1})}$$\n",
    "\n",
    "Let's see if we can write a python function to implement the Secant method."
   ]
  },
  {
   "cell_type": "markdown",
   "id": "4a05ceb3",
   "metadata": {},
   "source": [
    "**Question 13.** Fill in the ellipses for the `secant_method` function. Then test your function on the polynomial $f(x)=x^3-x^2-1$."
   ]
  },
  {
   "cell_type": "code",
   "execution_count": null,
   "id": "37d28597",
   "metadata": {
    "tags": []
   },
   "outputs": [],
   "source": [
    "def secant_method(f, a, b, iterations = 25):\n",
    "    \"\"\"\n",
    "\n",
    "    Parameters\n",
    "    ----------\n",
    "    f               : Function for which we are searching for a solution f(x)=0.\n",
    "    a, b            : Endpoints of the interval\n",
    "    iterations = 25 : Set the aximum number of iterations for the loop\n",
    "\n",
    "    Returns\n",
    "    -------\n",
    "    The approximation of the root (if found)\n",
    "    \"\"\"\n",
    "    if f(a)*f(b) >= 0:\n",
    "        print(\"Secant method fails.\")\n",
    "        return None\n",
    "    a_n = a\n",
    "    b_n = b\n",
    "    for n in range(1, iterations + 1):\n",
    "        m_n = a_n - f(a_n)*(b_n - a_n)/(f(b_n) - f(a_n))\n",
    "        f_m_n = f(m_n)\n",
    "        \n",
    "        if f(a_n)*f_m_n < 0:\n",
    "            a_n = a_n\n",
    "            b_n = m_n\n",
    "        elif f(b_n)*f_m_n < 0:\n",
    "            a_n = m_n\n",
    "            b_n = b_n\n",
    "        elif f_m_n == 0:\n",
    "            print(\"Found a solution.\")\n",
    "            return m_n\n",
    "        else:\n",
    "            print(\"Secant method fails.\")\n",
    "            return None\n",
    "    return a_n - f(a_n)*(b_n - a_n)/(f(b_n) - f(a_n))\n",
    "f = lambda x: x**3-x**2-1\n",
    "root = secant_method(f, 1, 2)\n",
    "print(root)"
   ]
  },
  {
   "cell_type": "code",
   "execution_count": null,
   "id": "0d06e16e",
   "metadata": {
    "deletable": false,
    "editable": false
   },
   "outputs": [],
   "source": [
    "grader.check(\"q13\")"
   ]
  },
  {
   "cell_type": "markdown",
   "id": "0929e807",
   "metadata": {},
   "source": [
    "<!-- BEGIN QUESTION -->\n",
    "\n",
    "**Question 14.** How close is the value from **Question 13.** to your the value of the supergolden ratio (`sg_ratio`)?"
   ]
  },
  {
   "cell_type": "code",
   "execution_count": null,
   "id": "a94a4229",
   "metadata": {
    "tags": []
   },
   "outputs": [],
   "source": [
    "f = lambda x: x**3-x**2-1\n",
    "root = ...\n",
    "error = ...\n",
    "error"
   ]
  },
  {
   "cell_type": "markdown",
   "id": "9215b284",
   "metadata": {},
   "source": [
    "<!-- END QUESTION -->\n",
    "\n",
    "# 4. Comparing Methods"
   ]
  },
  {
   "cell_type": "markdown",
   "id": "0c06a61b",
   "metadata": {},
   "source": [
    "<!-- BEGIN QUESTION -->\n",
    "\n",
    "**Question 15.** Consider the function $$f_1(x)=x^4-7.5x^3+10.56x^2+31.744x-68.8128$$, which has a root at $x=3.2$.\n",
    "\n",
    "**a.** Use all three root finding methods to find the root at $x=3.2$. Use the following specifications:\n",
    "\n",
    "- Tolerance for each method: $10^{-7}$\n",
    "- Maximum number of iterations for each method: 25\n",
    "- Initial interval/points for the Bisection and Secant methods: $[3.0, 3.5]$\n",
    "- Initial point for Newton's method: 3.0\n",
    "\n",
    "**b.** Now consider $$f_2(x)=x^2-1.1x-6.72$$, which also has a root at $x=3.2$. Using the same specifications as above, find the root at $x=3.2$ using all three root finding methods.\n",
    "\n",
    "**Note:** You are allowed to use python, a spreadsheet or your calculator."
   ]
  },
  {
   "cell_type": "code",
   "execution_count": null,
   "id": "642f823f",
   "metadata": {
    "tags": []
   },
   "outputs": [],
   "source": [
    "..."
   ]
  },
  {
   "cell_type": "markdown",
   "id": "6ae00e0a",
   "metadata": {},
   "source": [
    "<!-- END QUESTION -->\n",
    "\n",
    "<!-- BEGIN QUESTION -->\n",
    "\n",
    "**Question 16.** Compare and contrast our various root-finding methods. What did you learn about their  strengths and weaknesses? Which seem to work “best”? Support your statements with evidence. Be clear and concise in your comparisons."
   ]
  },
  {
   "cell_type": "markdown",
   "id": "77b84242",
   "metadata": {},
   "source": [
    "_Type your answer here, replacing this text._"
   ]
  },
  {
   "cell_type": "markdown",
   "id": "f9e6d827",
   "metadata": {},
   "source": [
    "<!-- END QUESTION -->\n",
    "\n"
   ]
  },
  {
   "cell_type": "markdown",
   "id": "4f1762d7",
   "metadata": {
    "deletable": false,
    "editable": false
   },
   "source": [
    "---\n",
    "\n",
    "To double-check your work, the cell below will rerun all of the autograder tests."
   ]
  },
  {
   "cell_type": "code",
   "execution_count": null,
   "id": "a3d0910e",
   "metadata": {
    "deletable": false,
    "editable": false
   },
   "outputs": [],
   "source": [
    "grader.check_all()"
   ]
  },
  {
   "cell_type": "markdown",
   "id": "6c9512dc",
   "metadata": {
    "deletable": false,
    "editable": false
   },
   "source": [
    "## Submission\n",
    "\n",
    "Make sure you have run all cells in your notebook in order before running the cell below, so that all images/graphs appear in the output. The cell below will generate a zip file for you to submit. **Please save before exporting!**\n",
    "\n",
    "When done exporting, download the .zip file by finding it in the file browswer on the left side of the screen, then right-click and select **Download**. You'll submit this .zip file for the assignment in Canvas to Gradescope for grading."
   ]
  },
  {
   "cell_type": "code",
   "execution_count": null,
   "id": "8e1a083c",
   "metadata": {
    "deletable": false,
    "editable": false
   },
   "outputs": [],
   "source": [
    "# Save your notebook first, then run this cell to export your submission.\n",
    "grader.export()"
   ]
  },
  {
   "cell_type": "markdown",
   "id": "c77bbbd7",
   "metadata": {},
   "source": [
    " "
   ]
  }
 ],
 "metadata": {
  "kernelspec": {
   "display_name": "Python 3 (ipykernel)",
   "language": "python",
   "name": "python3"
  },
  "language_info": {
   "codemirror_mode": {
    "name": "ipython",
    "version": 3
   },
   "file_extension": ".py",
   "mimetype": "text/x-python",
   "name": "python",
   "nbconvert_exporter": "python",
   "pygments_lexer": "ipython3",
   "version": "3.9.6"
  },
  "otter": {
   "tests": {
    "q1": {
     "name": "q1",
     "points": null,
     "suites": [
      {
       "cases": [
        {
         "code": ">>> f(1)\n-1",
         "hidden": false,
         "locked": false
        },
        {
         "code": ">>> f(0)\n-1",
         "hidden": false,
         "locked": false
        },
        {
         "code": ">>> f(10)\n999989",
         "hidden": false,
         "locked": false
        }
       ],
       "scored": true,
       "setup": "",
       "teardown": "",
       "type": "doctest"
      }
     ]
    },
    "q13": {
     "name": "q13",
     "points": null,
     "suites": [
      {
       "cases": [
        {
         "code": ">>> np.isclose(1.4655712318713536, root)\nTrue",
         "hidden": false,
         "locked": false
        }
       ],
       "scored": true,
       "setup": "",
       "teardown": "",
       "type": "doctest"
      }
     ]
    },
    "q2": {
     "name": "q2",
     "points": null,
     "suites": [
      {
       "cases": [
        {
         "code": ">>> Df(1)\n5",
         "hidden": false,
         "locked": false
        },
        {
         "code": ">>> Df(0)\n-1",
         "hidden": false,
         "locked": false
        },
        {
         "code": ">>> Df(10)\n599999",
         "hidden": false,
         "locked": false
        }
       ],
       "scored": true,
       "setup": "",
       "teardown": "",
       "type": "doctest"
      }
     ]
    },
    "q7": {
     "name": "q7",
     "points": null,
     "suites": [
      {
       "cases": [
        {
         "code": ">>> np.isclose(1.4655712318767682, sg_ratio)\nTrue",
         "hidden": false,
         "locked": false
        }
       ],
       "scored": true,
       "setup": "",
       "teardown": "",
       "type": "doctest"
      }
     ]
    },
    "q9": {
     "name": "q9",
     "points": null,
     "suites": [
      {
       "cases": [
        {
         "code": ">>> np.isclose(np.round(lim_as_n_goes_to_infinity, 3), lim_as_n_goes_to_infinity, atol = 1e-3)\nTrue",
         "hidden": false,
         "locked": false
        }
       ],
       "scored": true,
       "setup": "",
       "teardown": "",
       "type": "doctest"
      }
     ]
    }
   }
  }
 },
 "nbformat": 4,
 "nbformat_minor": 5
}
