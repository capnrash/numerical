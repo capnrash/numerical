{
 "cells": [
  {
   "cell_type": "code",
   "execution_count": null,
   "id": "07380385",
   "metadata": {
    "deletable": false,
    "editable": false
   },
   "outputs": [],
   "source": [
    "# Initialize Otter\n",
    "import otter\n",
    "grader = otter.Notebook(\"lab02.ipynb\")"
   ]
  },
  {
   "cell_type": "markdown",
   "id": "12fc0e60",
   "metadata": {},
   "source": [
    "# Lab 02: Numbers in Python\n",
    "\n",
    "Welcome to Lab 02! Throughout the course you will complete a lab assignments like this one. You can't learn technical subjects without hands-on practice, so labs are an important part of the course.\n",
    "\n",
    "Collaborating on labs is more than okay -- it's encouraged. You should rarely remain stuck for more than a few minutes on questions in labs, so ask a neighbor or an instructor for help. Explaining things is beneficial, too -- the best way to solidify your knowledge of a subject is to explain it. You should **not** just copy/paste someone else's code, but rather work together to gain understanding of the task you need to complete. \n",
    "\n",
    "In today's lab, you'll learn about:\n",
    "\n",
    "- Python integers and decimal numbers\n",
    "\n",
    "- how Python stores integers and decimal numbers in memory.\n",
    "\n",
    "To receive credit for a lab, answer all questions correctly and submit before the deadline.\n",
    "\n",
    "**Due Date:** Friday, February 11, 2022 at 11:59 pm\n",
    "\n",
    "**Collaboration Policy:** Labs are a collaborative activity. While you may talk with others about the labs, we ask that you **write your solutions individually**. If you do discuss the assignments with others **please include their names below** (it's a good way to learn your classmates' names).\n",
    "\n",
    "**Collaborators:** \n",
    "\n",
    "List collaborators here."
   ]
  },
  {
   "cell_type": "markdown",
   "id": "f86c92b1",
   "metadata": {},
   "source": [
    "## 1. Integers\n",
    "\n",
    "Python uses the class `int` to represent all integer numbers. All integers are objects. In general, classes and objects are basic building blocks in object-oriented programming languages. A class is written by a programmer to create an object. The class defines a set of properties and methods that are common to all objects of one type.\n",
    "\n",
    "To store integers, a computer needs to represent the value using a base 2 number. For example, the number 5 is \n",
    "\n",
    "$$5=1 \\times 2^2 + 0 \\times 2^1 + 1 \\times 2^0$$\n",
    "\n",
    "As you can see it takes 3 bits to store the number 5 in memory:\n",
    "\n",
    "$$(101)_2=(5)_{10}$$\n",
    "\n",
    "Python doesn’t use a fixed number of bit to store integers. Instead, Python uses a variable number of bits to store integers. For example, 8 bits, 16 bits, 32 bits, 64 bits, 128 bits, and so on.\n",
    "\n",
    "The maximum integer number that Python can represent depends on the memory available.\n",
    "\n",
    "The following cell defines a variable that references an integer and uses the `type()` function to get the class name of the integer:"
   ]
  },
  {
   "cell_type": "code",
   "execution_count": null,
   "id": "330db75b",
   "metadata": {},
   "outputs": [],
   "source": [
    "three = 3\n",
    "print(type(number))"
   ]
  },
  {
   "cell_type": "markdown",
   "id": "9a127b35",
   "metadata": {},
   "source": [
    "### Getting the Size of an Integer\n",
    "\n",
    "The `getsizeof()` function returns the number of bytes that Python uses to represent an integer. For example:"
   ]
  },
  {
   "cell_type": "code",
   "execution_count": null,
   "id": "9ad7ea58",
   "metadata": {},
   "outputs": [],
   "source": [
    "from sys import getsizeof\n",
    "\n",
    "size_of_2 = getsizeof(three)\n",
    "print('To store the number', three, 'Python uses', size_of_2, 'bytes.')"
   ]
  },
  {
   "cell_type": "markdown",
   "id": "9273db45",
   "metadata": {},
   "source": [
    "**Question 1.** If Python uses 28 bytes to store a number, then how many bits are being used. Store this in the variable `bits_28`.\n",
    "\n",
    "**Note:** 1 byte equals 8 bits."
   ]
  },
  {
   "cell_type": "code",
   "execution_count": null,
   "id": "9a3c2014",
   "metadata": {
    "tags": []
   },
   "outputs": [],
   "source": [
    "bits_28 = ...\n",
    "bits_28"
   ]
  },
  {
   "cell_type": "code",
   "execution_count": null,
   "id": "ce1a8219",
   "metadata": {
    "deletable": false,
    "editable": false
   },
   "outputs": [],
   "source": [
    "grader.check(\"q1\")"
   ]
  },
  {
   "cell_type": "markdown",
   "id": "be5cc24d",
   "metadata": {},
   "source": [
    "Let's take a look at the number 0."
   ]
  },
  {
   "cell_type": "code",
   "execution_count": null,
   "id": "f77d7660",
   "metadata": {},
   "outputs": [],
   "source": [
    "zero = 0\n",
    "\n",
    "size_of_0 = getsizeof(zero)\n",
    "print('To store the number', zero, 'Python uses', size_of_0, 'bytes.')"
   ]
  },
  {
   "cell_type": "markdown",
   "id": "d99f1a0a",
   "metadata": {},
   "source": [
    "To store the number 0 Python only needs 1 bit, $\\left(2^0 \\right)$. Therefore, you can think that Python uses 24 bytes as an overhead for storing an integer object. The following cell returns the size of the integer 100:"
   ]
  },
  {
   "cell_type": "code",
   "execution_count": null,
   "id": "8dff7d71",
   "metadata": {},
   "outputs": [],
   "source": [
    "one_hundred = 100\n",
    "\n",
    "size_of_100 = getsizeof(three)\n",
    "print('To store the number', one_hundred, 'Python uses', size_of_100, 'bytes.')"
   ]
  },
  {
   "cell_type": "markdown",
   "id": "76730de7",
   "metadata": {},
   "source": [
    "**Question 2.** If we think of 24 bytes as overhead, how many bytes is Python really using to represent the number 100. Store this value in `overhead`."
   ]
  },
  {
   "cell_type": "code",
   "execution_count": null,
   "id": "0169b505",
   "metadata": {
    "tags": []
   },
   "outputs": [],
   "source": [
    "overhead = ...\n",
    "overhead"
   ]
  },
  {
   "cell_type": "code",
   "execution_count": null,
   "id": "40c59501",
   "metadata": {
    "deletable": false,
    "editable": false
   },
   "outputs": [],
   "source": [
    "grader.check(\"q2\")"
   ]
  },
  {
   "cell_type": "markdown",
   "id": "7d134e98",
   "metadata": {
    "id": "H8VoDsycgXss"
   },
   "source": [
    "Let's look at an larger integer, say $2^{10240}$. How many bytes do you think Python will use to store this value. Enter your choice in the next cell."
   ]
  },
  {
   "cell_type": "markdown",
   "id": "3d334279",
   "metadata": {},
   "source": [
    "**Question 3.** Choose one of the following and enter your choice in the code cell below.\n",
    "\n",
    "1. More than or equal 28 but less than or equal to 32\n",
    "\n",
    "2. More than 32 but less than or equal to 36 \n",
    "\n",
    "3. More than 36 but less than or equal to 48"
   ]
  },
  {
   "cell_type": "code",
   "execution_count": null,
   "id": "b5e385fe",
   "metadata": {
    "tags": []
   },
   "outputs": [],
   "source": [
    "q3 = ..."
   ]
  },
  {
   "cell_type": "code",
   "execution_count": null,
   "id": "2c249d53",
   "metadata": {
    "deletable": false,
    "editable": false
   },
   "outputs": [],
   "source": [
    "grader.check(\"q3\")"
   ]
  },
  {
   "cell_type": "markdown",
   "id": "18cfb893",
   "metadata": {},
   "source": [
    "Let's check."
   ]
  },
  {
   "cell_type": "code",
   "execution_count": null,
   "id": "890aa8fc",
   "metadata": {},
   "outputs": [],
   "source": [
    "two_to_the_power_of_10240 = 2**10240\n",
    "\n",
    "size_of_2_to_the_power_of_10240 = getsizeof(three)\n",
    "print('To store the number', two_to_the_power_of_10240, 'Python uses', size_of_2_to_the_power_of_10240, 'bytes.')"
   ]
  },
  {
   "cell_type": "markdown",
   "id": "2df21608",
   "metadata": {},
   "source": [
    "Python integers support all standard operations including:\n",
    "\n",
    " * Addition `+`\n",
    "\n",
    "* Subtraction `–`\n",
    "\n",
    "* Multiplication `*`\n",
    "\n",
    "* Division `/\n",
    "\n",
    "* Exponents `**`\n",
    "\n",
    "The result of addition, subtraction, multiplication, and exponents of integers is an integer. For example:"
   ]
  },
  {
   "cell_type": "code",
   "execution_count": null,
   "id": "2cf15462",
   "metadata": {},
   "outputs": [],
   "source": [
    "a = 10\n",
    "b = 20\n",
    "\n",
    "c = a + b\n",
    "print(c)\n",
    "print(type(c))\n",
    "\n",
    "\n",
    "c = a - b\n",
    "print(c)\n",
    "print(type(c))\n",
    "\n",
    "\n",
    "c = a * b\n",
    "print(c)\n",
    "print(type(c))\n",
    "\n",
    "c = a ** b\n",
    "print(c)\n",
    "print(type(c))"
   ]
  },
  {
   "cell_type": "markdown",
   "id": "1f53f4aa",
   "metadata": {},
   "source": [
    "However, the division of two integers always returns a floating-point number. For example:"
   ]
  },
  {
   "cell_type": "code",
   "execution_count": null,
   "id": "2a4bb873",
   "metadata": {},
   "outputs": [],
   "source": [
    "a = 10\n",
    "b = 5\n",
    "c = a / b\n",
    "\n",
    "print(c)\n",
    "print(type(c))"
   ]
  },
  {
   "cell_type": "markdown",
   "id": "585af4fd",
   "metadata": {},
   "source": [
    "## 2. Floats\n",
    "\n",
    "Python uses the `float` class to represent the real numbers."
   ]
  },
  {
   "cell_type": "code",
   "execution_count": null,
   "id": "608789ce",
   "metadata": {},
   "outputs": [],
   "source": [
    "point_1 = 0.1\n",
    "\n",
    "print(point_1)\n",
    "print(type(point_1))"
   ]
  },
  {
   "cell_type": "markdown",
   "id": "5c7b6e34",
   "metadata": {},
   "source": [
    "For the sake of simplicity, significant digits are all digits except leading and trailing zeros. For example, 0.25 has two significant digits, 0.125 has three significant digits, and 12.25 has four significant digits.\n",
    "\n",
    "$$(1.25)_{10} = \\left(1 \\times 2^0 + 0 \\times 2^{-1} + 1 \\times 2^{-2} \\right)_{10} = (1.01)_2$$\n",
    "\n",
    "Some numbers have a finite binary representation, but some don’t, e.g., $0.1$. It’s \n",
    "\n",
    "$$01.0001100110011 \\ldots$$ in binary.\n",
    "\n",
    "Because of this, Python can only use approximate float representations for those numbers.\n",
    "\n",
    "Internally, Python can only represent 0.1 approximately.\n",
    "\n",
    "To see how Python represents the 0.1 internally, you can use the `format()` function.\n",
    "\n",
    "The following shows how Python represents the number 0.1 using 20 digits:"
   ]
  },
  {
   "cell_type": "code",
   "execution_count": null,
   "id": "5c498e88",
   "metadata": {
    "tags": []
   },
   "outputs": [],
   "source": [
    "format(0.1, '.20f')"
   ]
  },
  {
   "cell_type": "markdown",
   "id": "9f207689",
   "metadata": {},
   "source": [
    "Because Python can represent some floats approximately, it will cause many problems when you compare two floating-point numbers. As you can see, 0.1 is not exactly 0.1 but \n",
    "\n",
    "$$0.10000000000000000555...$$\n"
   ]
  },
  {
   "cell_type": "markdown",
   "id": "7c6717b0",
   "metadata": {},
   "source": [
    "**Question 4.** Will the following python code evaluate to True or False.\n",
    "\n",
    "```\n",
    "x = 0.1 + 0.1 + 0.1\n",
    "y = 0.3\n",
    "\n",
    "print(x == y)\n",
    "```\n",
    "\n",
    "Assign the boolean value of `True` or `False` to `q4`."
   ]
  },
  {
   "cell_type": "code",
   "execution_count": null,
   "id": "b9b4702a",
   "metadata": {
    "tags": []
   },
   "outputs": [],
   "source": [
    "q4 = ..."
   ]
  },
  {
   "cell_type": "code",
   "execution_count": null,
   "id": "55599a2e",
   "metadata": {
    "deletable": false,
    "editable": false
   },
   "outputs": [],
   "source": [
    "grader.check(\"q4\")"
   ]
  },
  {
   "cell_type": "markdown",
   "id": "c3c8363d",
   "metadata": {},
   "source": [
    "Internally, Python cannot use a finite number of digits to represent the numbers `x` and `y`:"
   ]
  },
  {
   "cell_type": "code",
   "execution_count": null,
   "id": "081772e5",
   "metadata": {},
   "outputs": [],
   "source": [
    "x = 0.1 + 0.1 + 0.1\n",
    "y = 0.3\n",
    "\n",
    "print(format(x, '.20f'))\n",
    "print(format(y, '.20f'))"
   ]
  },
  {
   "cell_type": "markdown",
   "id": "1e7b8699",
   "metadata": {},
   "source": [
    "Note that the number of digits is infinite. We just show the first 20 digits.\n",
    "\n",
    "One way to work around this problem is to round both sides of the equality expression to a number of significant digits. For example:"
   ]
  },
  {
   "cell_type": "code",
   "execution_count": null,
   "id": "074e3045",
   "metadata": {},
   "outputs": [],
   "source": [
    "print(round(x, 3))\n",
    "print(round(y, 3))\n",
    "\n",
    "print(round(x, 3) == round(y, 3))"
   ]
  },
  {
   "cell_type": "markdown",
   "id": "75e33f9b",
   "metadata": {
    "tags": []
   },
   "source": [
    "This workaround doesn’t work in all cases.\n",
    "\n",
    "[PEP485](https://www.python.org/dev/peps/pep-0485/) provides a solution that fixes this problem by using relative and absolute tolerances.\n",
    "\n",
    "It provides the `isclose()` function from the math module returns True if two numbers are relatively close to each other.\n",
    "\n",
    "The following shows the `isclose()` function signature:\n",
    "\n",
    "```\n",
    "isclose(a, b, rel_tol=1e-9, abs_tol=0.0)\n",
    "```"
   ]
  },
  {
   "cell_type": "code",
   "execution_count": null,
   "id": "060fc85d",
   "metadata": {},
   "outputs": [],
   "source": [
    "from math import isclose\n",
    "\n",
    "print(isclose(x,y))"
   ]
  },
  {
   "cell_type": "markdown",
   "id": "2b1ab563",
   "metadata": {},
   "source": [
    "<!-- BEGIN QUESTION -->\n",
    "\n",
    "**Question 5.** Write a short summary of the difference between `int` and `float` in Python. Include a description of possible things to consider when performing computations using each class."
   ]
  },
  {
   "cell_type": "markdown",
   "id": "93d4533a",
   "metadata": {},
   "source": [
    "_Type your answer here, replacing this text._"
   ]
  },
  {
   "cell_type": "markdown",
   "id": "429269a1",
   "metadata": {},
   "source": [
    "<!-- END QUESTION -->\n",
    "\n"
   ]
  },
  {
   "cell_type": "markdown",
   "id": "ac029d67",
   "metadata": {
    "deletable": false,
    "editable": false
   },
   "source": [
    "---\n",
    "\n",
    "To double-check your work, the cell below will rerun all of the autograder tests."
   ]
  },
  {
   "cell_type": "code",
   "execution_count": null,
   "id": "df441d2d",
   "metadata": {
    "deletable": false,
    "editable": false
   },
   "outputs": [],
   "source": [
    "grader.check_all()"
   ]
  },
  {
   "cell_type": "markdown",
   "id": "d7eff90c",
   "metadata": {
    "deletable": false,
    "editable": false
   },
   "source": [
    "## Submission\n",
    "\n",
    "Make sure you have run all cells in your notebook in order before running the cell below, so that all images/graphs appear in the output. The cell below will generate a zip file for you to submit. **Please save before exporting!**\n",
    "\n",
    "When done exporting, download the .zip file by finding it in the file browswer on the left side of the screen, then right-click and select **Download**. You'll submit this .zip file for the assignment in Canvas to Gradescope for grading."
   ]
  },
  {
   "cell_type": "code",
   "execution_count": null,
   "id": "000770be",
   "metadata": {
    "deletable": false,
    "editable": false
   },
   "outputs": [],
   "source": [
    "# Save your notebook first, then run this cell to export your submission.\n",
    "grader.export()"
   ]
  },
  {
   "cell_type": "markdown",
   "id": "2846772d",
   "metadata": {},
   "source": [
    " "
   ]
  }
 ],
 "metadata": {
  "kernelspec": {
   "display_name": "Python 3 (ipykernel)",
   "language": "python",
   "name": "python3"
  },
  "language_info": {
   "codemirror_mode": {
    "name": "ipython",
    "version": 3
   },
   "file_extension": ".py",
   "mimetype": "text/x-python",
   "name": "python",
   "nbconvert_exporter": "python",
   "pygments_lexer": "ipython3",
   "version": "3.9.6"
  },
  "otter": {
   "tests": {
    "q1": {
     "name": "q1",
     "points": null,
     "suites": [
      {
       "cases": [
        {
         "code": ">>> bits_28\n224",
         "hidden": false,
         "locked": false
        }
       ],
       "scored": true,
       "setup": "",
       "teardown": "",
       "type": "doctest"
      }
     ]
    },
    "q2": {
     "name": "q2",
     "points": null,
     "suites": [
      {
       "cases": [
        {
         "code": ">>> overhead\n4",
         "hidden": false,
         "locked": false
        }
       ],
       "scored": true,
       "setup": "",
       "teardown": "",
       "type": "doctest"
      }
     ]
    },
    "q3": {
     "name": "q3",
     "points": null,
     "suites": [
      {
       "cases": [
        {
         "code": ">>> isinstance(q3, int)\nTrue",
         "hidden": false,
         "locked": false
        },
        {
         "code": ">>> q3 in [1, 2, 3]\nTrue",
         "hidden": false,
         "locked": false
        }
       ],
       "scored": true,
       "setup": "",
       "teardown": "",
       "type": "doctest"
      }
     ]
    },
    "q4": {
     "name": "q4",
     "points": null,
     "suites": [
      {
       "cases": [
        {
         "code": ">>> isinstance(q4, bool)\nTrue",
         "hidden": false,
         "locked": false
        },
        {
         "code": ">>> q4\nFalse",
         "hidden": false,
         "locked": false
        }
       ],
       "scored": true,
       "setup": "",
       "teardown": "",
       "type": "doctest"
      }
     ]
    }
   }
  }
 },
 "nbformat": 4,
 "nbformat_minor": 5
}
