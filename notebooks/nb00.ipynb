{
 "cells": [
  {
   "cell_type": "markdown",
   "id": "360e5b47-bb23-4e96-8506-58efeee2e997",
   "metadata": {},
   "source": [
    "```\n",
    "BEGIN ASSIGNMENT\n",
    "export_cell:\n",
    "  instructions: \"When done exporting, download the .zip file by `SHIFT` and right-clicking on the file name and selecting **Save Link As**. Or, find the .zip file in the left side of the screen and right-click and select **Download**. You'll submit this .zip file for the assignment in Canvas to Gradescope for grading.\"\n",
    "  pdf: false\n",
    "generate:\n",
    "  points_possible: 15\n",
    "files: \n",
    "  - images/error.jpg\n",
    "  - images/map.jpg\n",
    "  - images/numberline_0.png\n",
    "  - images/numberline_1.png\n",
    "```"
   ]
  },
  {
   "cell_type": "markdown",
   "id": "45336e76-70a8-4017-a133-8a61ff90e69e",
   "metadata": {},
   "source": [
    "# 00: An Introduction to Jupyter Notebooks and Python\n",
    "\n",
    "Welcome to MA420: Numerical Analysis.\n",
    "\n",
    "Collaborating on this activity is more than okay -- it's encouraged! You shouldn't remain stuck for more than a few minutes on the questions in this assignment, so ask a neighbor or an instructor for help. Explaining things is beneficial, too -- the best way to solidify your knowledge of a subject is to explain it. You should **not** just copy/paste someone else's code, but rather work together to gain understanding of the task you need to complete.  If you do discuss the assignments with others **please include their names below** (it's a good way to learn your classmates' names).\n",
    "\n",
    "**List collaborators here.**\n",
    "\n",
    "\n",
    "**Due Date:** \n",
    "\n",
    "To receive credit for this assignment, answer all questions correctly and submit before the deadline.\n",
    "\n",
    "## Today's Assignment\n",
    "\n",
    "In today's assignment, you'll learn how to:\n",
    "\n",
    "- navigate Jupyter notebooks (like this one);\n",
    "\n",
    "- write and evaluate some basic *expressions* in Python, the computer language of the course;\n",
    "\n",
    "- call **functions** to use code other people have written; and\n",
    "\n",
    "- break down Python code into smaller parts to understand it."
   ]
  },
  {
   "cell_type": "markdown",
   "id": "6593e64d-8992-420d-a3c7-2cd8228c09d2",
   "metadata": {},
   "source": [
    "# 1. Jupyter notebooks\n",
    "This webpage is called a Jupyter notebook. A notebook is a place to write programs and view their results, and also to write text.\n",
    "\n",
    "## Text cells\n",
    "In a notebook, each rectangle containing text or code is called a *cell*.\n",
    "\n",
    "Text cells (like this one) can be edited by double-clicking on them. They're written in a simple format called [Markdown](http://daringfireball.net/projects/markdown/syntax) to add formatting and section headings.  You don't need to learn Markdown, but it may be beneficial for you to do so.\n",
    "\n",
    "After you edit a text cell, click the \"run cell\" button at the top that looks like ▶| or hold down `shift` + `return` to confirm any changes. \n",
    "\n",
    "**Warning:** Try not to delete the instructions of the assignment."
   ]
  },
  {
   "cell_type": "markdown",
   "id": "4ead20cc-310c-4661-82dd-32106a03e734",
   "metadata": {},
   "source": [
    "**Question 1.** This paragraph is in its own text cell.  Try editing the cell below so that this sentence is the last sentence in the paragraph. Then, click the \"run cell\" ▶| button or hold down `shift` + `return`.  This sentence, for example, should be deleted. So should this one.\n",
    "\n",
    "```\n",
    "BEGIN QUESTION\n",
    "name: q1\n",
    "manual: true\n",
    "```"
   ]
  },
  {
   "cell_type": "markdown",
   "id": "8aa4f4b4-9930-482e-a480-05c5c0e0fb88",
   "metadata": {},
   "source": [
    "This paragraph is in its own text cell.  Try editing this cell so that this sentence is the last sentence in the paragraph. Then, click the \"run cell\" ▶| button or hold down `shift` + `return`.  This sentence, for example, should be deleted. So should this one."
   ]
  },
  {
   "cell_type": "markdown",
   "id": "aaf09b4e-a05b-4496-a4b2-5033bb118957",
   "metadata": {},
   "source": [
    "## Code cells\n",
    "Other cells contain code in the Python 3 language. Running a code cell will execute all of the code it contains.\n",
    "\n",
    "To run the code in a code cell, first click on that cell to activate it. It'll be highlighted with a little green or blue rectangle.  Next, either press ▶| or hold down `shift` + `return`.\n",
    "\n",
    "Try running the cell below:"
   ]
  },
  {
   "cell_type": "code",
   "execution_count": 1,
   "id": "ba2a6410-7c47-4868-9cf8-0e93dcb4d091",
   "metadata": {},
   "outputs": [
    {
     "name": "stdout",
     "output_type": "stream",
     "text": [
      "Hello, World!\n"
     ]
    }
   ],
   "source": [
    "print(\"Hello, World!\")"
   ]
  },
  {
   "cell_type": "markdown",
   "id": "6745e9e2-aad8-46bf-b5bd-8f344c672487",
   "metadata": {},
   "source": [
    "And this one:"
   ]
  },
  {
   "cell_type": "code",
   "execution_count": 2,
   "id": "40433b22-29c9-4eaa-9153-862935330436",
   "metadata": {},
   "outputs": [
    {
     "name": "stdout",
     "output_type": "stream",
     "text": [
      "👋, 🌏!\n"
     ]
    }
   ],
   "source": [
    "print(\"\\N{WAVING HAND SIGN}, \\N{EARTH GLOBE ASIA-AUSTRALIA}!\")"
   ]
  },
  {
   "cell_type": "markdown",
   "id": "b10590c8-beab-43c1-8739-cee912dea3a0",
   "metadata": {
    "colab_type": "text",
    "id": "Z2CgrnEnlK3m"
   },
   "source": [
    "The fundamental building block of Python code is an expression. Cells can contain multiple lines with multiple expressions. When you run a cell, the lines of code are executed in the order in which they appear. Every `print` expression prints a line. \n",
    "\n",
    "Run the next cell and notice the order of the output."
   ]
  },
  {
   "cell_type": "code",
   "execution_count": 3,
   "id": "9943051d-4b0f-4ca8-9bef-976eb5afb949",
   "metadata": {
    "colab": {
     "base_uri": "https://localhost:8080/",
     "height": 52
    },
    "colab_type": "code",
    "id": "O61iJwP-laL9",
    "outputId": "3b810e91-964e-4a4f-e59a-ba9089fa3e18"
   },
   "outputs": [
    {
     "name": "stdout",
     "output_type": "stream",
     "text": [
      "This is line one\n",
      "and this is line two.\n"
     ]
    }
   ],
   "source": [
    "print('This is line one')\n",
    "print('and this is line two.')"
   ]
  },
  {
   "cell_type": "markdown",
   "id": "9cb1e3f4-81c9-4aa7-9fbf-d82ae6c84ed4",
   "metadata": {},
   "source": [
    "**Question 2.** Change the contents of the cell below so that it prints out:\n",
    "\n",
    "First this line,\n",
    "\n",
    "then the whole 🌏,\n",
    "\n",
    "and then this one.\n",
    "\n",
    "**Hint:** If you're stuck on the Earth symbol for more than a few minutes, try talking to a neighbor or your instructor.\n",
    "\n",
    "```\n",
    "BEGIN QUESTION\n",
    "name: q2\n",
    "manual: true\n",
    "```"
   ]
  },
  {
   "cell_type": "markdown",
   "id": "aac0c552-f41a-47d3-a455-d694d38a8457",
   "metadata": {},
   "source": [
    "Then this one\n",
    "\n",
    "last this line."
   ]
  },
  {
   "cell_type": "markdown",
   "id": "8f2f4c54-e9e4-4d1c-9db5-791552977779",
   "metadata": {},
   "source": [
    "## Writing in Jupyter notebooks\n",
    "You can use Jupyter notebooks for your own projects or documents.  When you make your own notebook, you'll need to create your own cells for text and code.\n",
    "\n",
    "To add a cell, click the + button in the menu bar.  It'll start out as a text cell.  You can change it to a code cell by clicking inside it so it's highlighted, clicking the drop-down box next to the restart (⟳) button in the menu bar, and choosing \"Code\"."
   ]
  },
  {
   "cell_type": "markdown",
   "id": "e7b06719-28ef-4c34-b69d-23561aa83378",
   "metadata": {},
   "source": [
    "**Question 3.** Add a code cell below this one.  Write code using a `print` statement in it that prints out:\n",
    "   \n",
    "    A whole new cell! ♪🌏♪\n",
    "\n",
    "**Hint:** That musical note symbol is like the Earth symbol.  Its long-form name is `\\N{EIGHTH NOTE}`.\n",
    "\n",
    "Run your cell to verify that it works.\n",
    "\n",
    "```\n",
    "BEGIN QUESTION\n",
    "name: q3\n",
    "manual: true\n",
    "```"
   ]
  },
  {
   "cell_type": "markdown",
   "id": "18e0bc04-2922-485c-9ac3-45d78f9492eb",
   "metadata": {},
   "source": [
    "## Errors\n",
    "\n",
    "Python is a language, and like natural human languages, it has rules.  It differs from natural language in two important ways:\n",
    "\n",
    "1. The rules are *simple*.  You can learn most of them in a few weeks and gain reasonable proficiency with the language in a semester.\n",
    "\n",
    "2. The rules are *rigid*.  If you're proficient in a natural language, you can understand a non-proficient speaker, glossing over small mistakes.  A computer running Python code is not smart enough to do that.\n",
    "\n",
    "Whenever you write code, you'll make mistakes.  When you run a code cell that has errors, Python will sometimes produce error messages to tell you what you did wrong.\n",
    "\n",
    "Errors are okay; even experienced programmers make many errors.  When you make an error, you just have to find the source of the problem, fix it, and move on.\n",
    "\n",
    "We have made an error in the next cell.  Run it and see what happens."
   ]
  },
  {
   "cell_type": "code",
   "execution_count": 4,
   "id": "2a249297-c9a2-4e62-b493-7d6ee2e3ee4d",
   "metadata": {},
   "outputs": [
    {
     "ename": "SyntaxError",
     "evalue": "unexpected EOF while parsing (1867411798.py, line 1)",
     "output_type": "error",
     "traceback": [
      "\u001b[0;36m  File \u001b[0;32m\"/tmp/ipykernel_116/1867411798.py\"\u001b[0;36m, line \u001b[0;32m1\u001b[0m\n\u001b[0;31m    print(\"This line is missing something.\"\u001b[0m\n\u001b[0m                                           ^\u001b[0m\n\u001b[0;31mSyntaxError\u001b[0m\u001b[0;31m:\u001b[0m unexpected EOF while parsing\n"
     ]
    }
   ],
   "source": [
    "print(\"This line is missing something.\""
   ]
  },
  {
   "cell_type": "markdown",
   "id": "48b4411e-09c4-4e2f-adde-d2f90feda98b",
   "metadata": {},
   "source": [
    "**Note:** In the toolbar, there is the option to click `Run > Run All Cells`, which will run all the code cells in this notebook in order. However, the notebook stops running code cells if it hits an error, like the one in the cell above."
   ]
  },
  {
   "cell_type": "markdown",
   "id": "20230ddf-948f-43dc-8cd5-204e6095c374",
   "metadata": {},
   "source": [
    "You should see something like this (minus our annotations):\n",
    "\n",
    "<img src=\"images/error.jpg\" />\n",
    "\n",
    "The last line of the error output attempts to tell you what went wrong.  The *syntax* of a language is its structure, and this `SyntaxError` tells you that you have created an illegal structure.  \"`EOF`\" means \"end of file,\" so the message is saying Python expected you to write something more (in this case, a right parenthesis) before finishing the cell.\n",
    "\n",
    "There's a lot of terminology in programming languages, but you don't need to know it all in order to program effectively. If you see a cryptic message like this, you can often get by without deciphering it. Of course, if you're frustrated, ask a neighbor, or your instructor for help.\n",
    "\n",
    "Try to fix the code above so that you can run the cell and see the intended message instead of an error."
   ]
  },
  {
   "cell_type": "markdown",
   "id": "5a1b6b0e-d8de-4da2-9079-c2d7c705063b",
   "metadata": {},
   "source": [
    "## The Kernel\n",
    "\n",
    "The kernel is a program that executes the code inside your notebook and outputs the results. In the top right of your window, you can see a circle that indicates the status of your kernel. If the circle is empty (⚪), the kernel is idle and ready to execute code. If the circle is filled in (⚫), the kernel is busy running some code. \n",
    "\n",
    "Next to every code cell, you'll see some text that says `In [...]`. Before you run the cell, you'll see `In [ ]`. When the cell is running, you'll see `In [*]`. If you see an asterisk (\\*) next to a cell that doesn't go away, it's likely that the code inside the cell is taking too long to run, and it might be a good time to interrupt the kernel (discussed below). When a cell is finished running, you'll see a number inside the brackets, like so: `In [1]`. The number corresponds to the order in which you run the cells; so, the first cell you run will show a 1 when it's finished running, the second will show a 2, and so on. \n",
    "\n",
    "You may run into problems where your kernel is stuck for an excessive amount of time, your notebook is very slow and unresponsive, or your kernel loses its connection. If this happens, try the following steps:\n",
    "\n",
    "1. At the top of your screen, click **Kernel**, then **Interrupt Kernel**. Trying running your code again.\n",
    "\n",
    "2. If that doesn't help, click **Kernel**, then **Restart Kernel**. If you do this, you will have to run your code cells from the start of your notebook up until where you paused your work.\n",
    "\n",
    "3. If that doesn't help, restart your server. This is very rarely needed, but it's good to know how to do just in case. First, save your work by clicking **File** at the top left of your screen, then **Save Notebook**. Next, click **File** again and choose **Hub Control Panel** and select **Stop My Server** to shut it down. Then, after a few moments select **Start My Server** to start it back up. Then, navigate back to the notebook you were working on. You'll still have to run your code cells again."
   ]
  },
  {
   "cell_type": "markdown",
   "id": "13f12f84-257e-4884-b76f-41ee9084baa4",
   "metadata": {},
   "source": [
    "# 2. Numbers\n",
    "\n",
    "We will mainly use Jupyter notebooks to present our numerical analysis assignments. Since this is not a programming course we won't get into many of details about programming, data types, object types, etc. That being said, we will need to learn how to write simple programs that evaluate mathematical formulas and make plots. \n",
    "\n",
    "In the previous section of this notebook we learned how print out lines. In addition to representing commands to print out lines, expressions can represent numbers and methods of combining numbers. The expression `3.14159` evaluates to the number 3.14159. \n",
    "\n",
    "Run the cell and see."
   ]
  },
  {
   "cell_type": "code",
   "execution_count": 6,
   "id": "8dcfc963-2973-4d41-a83d-ee97e1bfb9a4",
   "metadata": {},
   "outputs": [
    {
     "data": {
      "text/plain": [
       "3.14159"
      ]
     },
     "execution_count": 6,
     "metadata": {},
     "output_type": "execute_result"
    }
   ],
   "source": [
    "3.14159"
   ]
  },
  {
   "cell_type": "markdown",
   "id": "75245947-635d-4b70-a1c3-a3d1c2f189da",
   "metadata": {},
   "source": [
    "Notice that we didn't have to `print`. When you run a notebook cell, if the last line has a value, then Jupyter helpfully prints out that value for you. However, it won't print out prior lines automatically."
   ]
  },
  {
   "cell_type": "code",
   "execution_count": 7,
   "id": "3f13c229-45df-4a29-89d7-1cf2e73df4a7",
   "metadata": {},
   "outputs": [
    {
     "name": "stdout",
     "output_type": "stream",
     "text": [
      "2\n"
     ]
    },
    {
     "data": {
      "text/plain": [
       "4"
      ]
     },
     "execution_count": 7,
     "metadata": {},
     "output_type": "execute_result"
    }
   ],
   "source": [
    "print(2)\n",
    "3\n",
    "4"
   ]
  },
  {
   "cell_type": "markdown",
   "id": "03261fd9-ffa9-4d4c-b25c-37af69430f98",
   "metadata": {},
   "source": [
    "Above, you should see that 4 is the value of the last expression, 2 is printed, but 3 is lost forever because it was neither printed nor last.\n",
    "\n",
    "You don't want to print everything all the time anyway.  But if you feel sorry for 3, change the cell above to print it."
   ]
  },
  {
   "cell_type": "markdown",
   "id": "64924766-92b3-410c-a53c-02cce594ceca",
   "metadata": {},
   "source": [
    "## Arithmetic\n",
    "The line in the next cell subtracts.  Its value is what you'd expect. Run it."
   ]
  },
  {
   "cell_type": "code",
   "execution_count": 8,
   "id": "4544a55e-7c20-4846-baf5-83fee2878b9e",
   "metadata": {},
   "outputs": [
    {
     "data": {
      "text/plain": [
       "1.75"
      ]
     },
     "execution_count": 8,
     "metadata": {},
     "output_type": "execute_result"
    }
   ],
   "source": [
    "3.25-1.5"
   ]
  },
  {
   "cell_type": "markdown",
   "id": "4278c069-4409-4694-bace-3ec134d2bd13",
   "metadata": {},
   "source": [
    "Many basic arithmetic operations are built into Python. The textbook *Computational and Inferential Thinking: The Foundations of Data Science* has section entitled [Expressions](https://inferentialthinking.com/chapters/03/1/Expressions.html?highlight=expressions) that describes all the arithmetic operators used in the course.  The common operator that differs from typical math notation is `**`, which raises one number to the power of the other. So, `2**3` stands for $2^3$ and evaluates to 8. \n",
    "\n",
    "The order of operations is the same as what you learned in elementary school, and Python also has parentheses.  For example, compare the outputs of the cells below. The second cell uses parentheses for a happy new year."
   ]
  },
  {
   "cell_type": "code",
   "execution_count": null,
   "id": "5bdfef6e-689e-48bb-8156-c3608eae1b06",
   "metadata": {},
   "outputs": [],
   "source": [
    "5+6*5-6*3**2*2**3/4*7"
   ]
  },
  {
   "cell_type": "code",
   "execution_count": null,
   "id": "30a65295-5aba-4001-8938-30f34235ff6b",
   "metadata": {},
   "outputs": [],
   "source": [
    "5+(6*5-(6*3))**2*((2**3)/4*7)"
   ]
  },
  {
   "cell_type": "markdown",
   "id": "e49ed7a0-39f9-414a-b94b-73cf472431fa",
   "metadata": {},
   "source": [
    "In standard math notation, the first expression is\n",
    "\n",
    "$$5 + 6 \\times 5 - 6 \\times 3^2 \\times \\frac{2^3}{4} \\times 7,$$\n",
    "\n",
    "while the second expression is\n",
    "\n",
    "$$5 + (6 \\times 5 - \\left(6 \\times 3)\\right)^2 \\times \\left(\\frac{2^3}{4} \\times 7\\right).$$"
   ]
  },
  {
   "cell_type": "markdown",
   "id": "4b13a8d4-6032-4f2e-b219-8a0f986e8d5d",
   "metadata": {},
   "source": [
    "**Question 4.** Write a Python expression in this next cell that's equal to \n",
    "\n",
    "$$5 \\times \\left(3 \\frac{10}{11}\\right) - 50 \\frac{1}{3} + 2^{.5 \\times 22} - \\frac{7}{33} + 5$$\n",
    "\n",
    "That's five times three and ten elevenths, minus fifty and a third, plus two to the power of half twenty-two, minus seven thirty-thirds plus four.  By \"$3 \\frac{10}{11}$\" we mean $3+\\frac{10}{11}$, not $3 \\times \\frac{10}{11}$.\n",
    "\n",
    "Replace the ellipses (`...`) with your expression.  Try to use parentheses only when necessary.\n",
    "\n",
    "**Hint:** The correct output should start with a familiar number.\n",
    "\n",
    "```\n",
    "BEGIN QUESTION\n",
    "name: q4\n",
    "manual: true\n",
    "```"
   ]
  },
  {
   "cell_type": "code",
   "execution_count": 12,
   "id": "29eb9be0-5691-4489-962e-19e5f4f2091e",
   "metadata": {},
   "outputs": [
    {
     "data": {
      "text/plain": [
       "2022.0"
      ]
     },
     "execution_count": 12,
     "metadata": {},
     "output_type": "execute_result"
    }
   ],
   "source": [
    "# BEGIN SOLUTION\n",
    "5*(3+10/11)-(50+1/3)+2**(0.5*22)-7/33+5\n",
    "# END SOLUTION"
   ]
  },
  {
   "cell_type": "markdown",
   "id": "0a327270-87f9-4452-aa66-11ea85cc0f09",
   "metadata": {},
   "source": [
    "# 3. Names\n",
    "\n",
    "In natural language, we have terminology that lets us quickly reference very complicated concepts.  We don't say, \"That's a large mammal with brown fur and sharp teeth!\"  Instead, we just say, \"Bear!\"\n",
    "\n",
    "In Python, we do this with *assignment statements*. An assignment statement has a name on the left side of an `=` sign and an expression to be evaluated on the right."
   ]
  },
  {
   "cell_type": "code",
   "execution_count": 13,
   "id": "64d272f9-9a90-422d-b902-b0a6c714e3fc",
   "metadata": {},
   "outputs": [],
   "source": [
    "ten=3*2+4"
   ]
  },
  {
   "cell_type": "markdown",
   "id": "d02f7a1d-c768-4a61-9480-8cbb42adee42",
   "metadata": {},
   "source": [
    "When you run that cell, Python first computes the value of the expression on the right-hand side, `3*2+4`, which is the number 10.  Then it assigns that value to the name `ten`.  At that point, the code in the cell is done running.\n",
    "\n",
    "After you run that cell, the value 10 is bound to the name `ten`:"
   ]
  },
  {
   "cell_type": "code",
   "execution_count": 9,
   "id": "5fafc9b1-e6cc-4a8a-bffe-dffd68fb68fe",
   "metadata": {},
   "outputs": [
    {
     "data": {
      "text/plain": [
       "10"
      ]
     },
     "execution_count": 9,
     "metadata": {},
     "output_type": "execute_result"
    }
   ],
   "source": [
    "ten"
   ]
  },
  {
   "cell_type": "markdown",
   "id": "61570105-71c6-43d8-8a0f-920457b27344",
   "metadata": {},
   "source": [
    "The statement `ten=3*2+4` is not asserting that `ten` is already equal to `3*2+4`, as we might expect by analogy with math notation.  Rather, that line of code changes what `ten` means; it now refers to the value 10, whereas before it meant nothing at all (at least to Python).\n",
    "\n",
    "If the designers of Python had been ruthlessly [pedantic](https://www.merriam-webster.com/dictionary/pedantic#:~:text=Pedantic%20is%20an%20insulting%20word,narrow%20or%20boring%20subject%20matter.), they might have made us write\n",
    "\n",
    "$$\\text{define the name ten to hereafter have the value of }3*2+4.$$ \n",
    "\n",
    "You will probably appreciate the brevity of \"`=`\". But keep in mind that this is the real meaning."
   ]
  },
  {
   "cell_type": "markdown",
   "id": "32a4e802-f073-4302-afea-77cec9b4fa04",
   "metadata": {},
   "source": [
    "**Question 5.** Try writing code that uses a name (e.g. `eleven`) that hasn't been assigned to anything.  You should see an error.\n",
    "\n",
    "```\n",
    "BEGIN QUESTION\n",
    "name: q5\n",
    "manual: true\n",
    "```"
   ]
  },
  {
   "cell_type": "code",
   "execution_count": 1,
   "id": "584b7401-1943-4d29-9283-0e496e62abcf",
   "metadata": {},
   "outputs": [
    {
     "data": {
      "text/plain": [
       "Ellipsis"
      ]
     },
     "execution_count": 1,
     "metadata": {},
     "output_type": "execute_result"
    }
   ],
   "source": [
    "# Replace the ellipsis below with code that uses a name that hasn't been assigned to a value.\n",
    "# Note the error message you get.\n",
    "..."
   ]
  },
  {
   "cell_type": "markdown",
   "id": "46b3b64a-3e1c-4f19-9cef-e4d4cb07ba19",
   "metadata": {},
   "source": [
    "A common pattern in Jupyter notebooks is to assign a value to a name and then immediately evaluate the name in the last line in the cell so that the value is displayed as output. "
   ]
  },
  {
   "cell_type": "code",
   "execution_count": 11,
   "id": "893fe183-beae-4d44-a178-f62cdcf11fa8",
   "metadata": {},
   "outputs": [
    {
     "data": {
      "text/plain": [
       "3.1415929203539825"
      ]
     },
     "execution_count": 11,
     "metadata": {},
     "output_type": "execute_result"
    }
   ],
   "source": [
    "close_to_pi=355/113\n",
    "close_to_pi"
   ]
  },
  {
   "cell_type": "markdown",
   "id": "a4dc5629-6b45-434a-b7da-ea7c2a56bcbf",
   "metadata": {},
   "source": [
    "Another common pattern is that a series of lines in a single cell will build up a complex computation in stages, naming the intermediate results."
   ]
  },
  {
   "cell_type": "code",
   "execution_count": 12,
   "id": "1bf7a4e8-741d-414a-9bd7-024564889523",
   "metadata": {},
   "outputs": [
    {
     "data": {
      "text/plain": [
       "20190.0"
      ]
     },
     "execution_count": 12,
     "metadata": {},
     "output_type": "execute_result"
    }
   ],
   "source": [
    "semimonthly_salary=841.25\n",
    "monthly_salary=2*semimonthly_salary\n",
    "number_of_months_in_a_year=12\n",
    "yearly_salary=number_of_months_in_a_year*monthly_salary\n",
    "yearly_salary"
   ]
  },
  {
   "cell_type": "markdown",
   "id": "3f65069a-92f4-4492-aa8c-392986df0833",
   "metadata": {},
   "source": [
    "Names in Python can have letters (upper- and lower-case letters are both okay and count as different letters), underscores, and numbers.  The first character can't be a number (otherwise a name might look like a number).  And names can't contain spaces, since spaces are used to separate pieces of code from each other.\n",
    "\n",
    "Other than those rules, what you name something doesn't matter to Python. For example, this cell does the same thing as the above cell, except everything has a different name:"
   ]
  },
  {
   "cell_type": "code",
   "execution_count": 13,
   "id": "7c6a4ea4-0518-4fb5-937f-02bdc55e65d7",
   "metadata": {},
   "outputs": [
    {
     "data": {
      "text/plain": [
       "20190.0"
      ]
     },
     "execution_count": 13,
     "metadata": {},
     "output_type": "execute_result"
    }
   ],
   "source": [
    "a=841.25\n",
    "b=2*a\n",
    "c=12\n",
    "d=c*b\n",
    "d"
   ]
  },
  {
   "cell_type": "markdown",
   "id": "35b3351a-4c8a-4452-aff4-a09e99348bf8",
   "metadata": {},
   "source": [
    "**However**, names are very important for making your code readable to yourself and others.  The cell above is shorter, but it's totally useless without an explanation of what it does."
   ]
  },
  {
   "cell_type": "markdown",
   "id": "0c8055b4-31fd-4d0a-a0f1-b83931094bd4",
   "metadata": {},
   "source": [
    "## Checking your code\n",
    "Now that you know how to name things, you can start using the built-in tests to check whether your work is correct. Sometimes, there are multiple tests for a single question, and passing all of them is required to receive credit for the question. A test cell will always look like:\n",
    "\n",
    "```\n",
    "grader.check(\"q1\")\n",
    "```\n",
    "\n",
    "Go ahead and attempt **Question 6.** Running the test cell directly after it will test whether you have assigned `seconds_in_a_decade` correctly in **Question 6.** If you haven't, this particular test will tell you the correct answer. Resist the urge to just copy it, and instead try to adjust your expression. Additionally, if you make a common error sometimes the tests will give hints about what went wrong."
   ]
  },
  {
   "cell_type": "markdown",
   "id": "047abcdf-fa7a-49ca-85c9-78854a3f7f48",
   "metadata": {},
   "source": [
    "**Question 6.** Assign the name `seconds_in_a_decade` to the number of seconds between midnight January 1, 2010 and midnight January 1, 2020. Note that there are two leap years in this span of a decade. A non-leap year has 365 days and a leap year has 366 days.\n",
    "\n",
    "```\n",
    "BEGIN QUESTION\n",
    "name: q6\n",
    "```"
   ]
  },
  {
   "cell_type": "code",
   "execution_count": 14,
   "id": "e00bf458-550b-4a6c-8e55-6e73c2ca9a2b",
   "metadata": {},
   "outputs": [
    {
     "data": {
      "text/plain": [
       "315532800"
      ]
     },
     "execution_count": 14,
     "metadata": {},
     "output_type": "execute_result"
    }
   ],
   "source": [
    "# Change the next line \n",
    "# so that it computes the number of seconds in a decade \n",
    "# and assigns that number the name, seconds_in_a_decade.\n",
    "\n",
    "seconds_in_a_decade=24*60*60*(8*365+2*366) # SOLUTION\n",
    "\n",
    "# We've put this line in this cell \n",
    "# so that it will print the value you've given to seconds_in_a_decade when you run it.  \n",
    "# You don't need to change this.\n",
    "seconds_in_a_decade"
   ]
  },
  {
   "cell_type": "code",
   "execution_count": 15,
   "id": "0dec7ce1-1f9c-493b-94c9-8e51456038a6",
   "metadata": {
    "tags": []
   },
   "outputs": [
    {
     "data": {
      "text/plain": [
       "True"
      ]
     },
     "execution_count": 15,
     "metadata": {},
     "output_type": "execute_result"
    }
   ],
   "source": [
    "# TEST\n",
    "seconds_in_a_decade == 315532800"
   ]
  },
  {
   "cell_type": "markdown",
   "id": "5ee44a3a-2671-4214-ade2-0c9b95f76d19",
   "metadata": {},
   "source": [
    "# 4. Comments\n",
    "You may have noticed these lines in the cell in which you answered Question 3.2:\n",
    "\n",
    "    # Change the next line \n",
    "    # so that it computes the number of seconds in a decade \n",
    "    # and assigns that number the name, seconds_in_a_decade.\n",
    "    \n",
    "This is called a *comment*. It doesn't make anything happen in Python; Python ignores anything on a line after a `#`.  Instead, it's there to communicate something about the code to you, the human reader. Comments are extremely useful. Make sure to put comments in your programs to help remind yourself of your thought process as you are working. "
   ]
  },
  {
   "cell_type": "markdown",
   "id": "43bbd6ec-e33d-4dd6-8b08-aa03aab15bc5",
   "metadata": {},
   "source": [
    "# 5. Writing a Program for a Formula\n",
    "\n",
    "The first formula we shall consider concerns the vertical motion of a ball thrown up in the air. From Newton’s second law of motion one can set up a mathematical model for the motion of the ball and find that the vertical position of the ball, called $h$, varies with time t according to the following formula \n",
    "\n",
    "$$h(t)=v_0t-\\frac{1}{2}gt^2$$\n",
    "\n",
    "where $v_0$ is the initial velocity of the ball, $g$ is the acceleration of gravity (in meters per second squared), and $t$ is time. To get an overview of the time it takes for the ball to move upwards from an initial height of 0 and return to $h=0$ again, we can look for solutions to the equation $h(t)=0$.\n",
    "\n",
    "**Question 7.** Find the solutions to the equation $v_0t-\\frac{1}{2}gt^2=0$ and enter them in the cell below. If you don't know how to format mathematical expressions in markdown click [here](https://www.overleaf.com/learn/latex/Mathematical_expressions).\n",
    "\n",
    "```\n",
    "BEGIN QUESTION\n",
    "name: q7\n",
    "```"
   ]
  },
  {
   "cell_type": "code",
   "execution_count": 14,
   "id": "a4150cdc-2dc7-40f3-8a6e-f35137654695",
   "metadata": {},
   "outputs": [
    {
     "name": "stdout",
     "output_type": "stream",
     "text": [
      "The height of a ball after 1 second with an initial velocity of 10 m/s is  5.095  meters.\n"
     ]
    }
   ],
   "source": [
    "# BEGIN SOLUTION NO PROMPT\n",
    "v_0=10\n",
    "t=1\n",
    "g=9.81\n",
    "h=v_0*t-0.5*g*t**2\n",
    "# END SOLUTION\n",
    "\"\"\" # BEGIN PROMPT\n",
    "# v_0: Initial velocity meters per second\n",
    "# t: Time in seconds\n",
    "# g: Acceleration due to gravity in meters per second squared\n",
    "# h: Height in meters\n",
    "\n",
    "v_0=10\n",
    "t=1\n",
    "g=9.81\n",
    "h=...\n",
    "\"\"\"; # END PROMPT\n",
    "print('The height of a ball after 1 second with an initial velocity of 10 m/s is ', h,' meters.')"
   ]
  },
  {
   "cell_type": "code",
   "execution_count": 13,
   "id": "00b0d5bf-0b28-485f-809f-7ffc81fe387a",
   "metadata": {
    "tags": []
   },
   "outputs": [
    {
     "data": {
      "text/plain": [
       "True"
      ]
     },
     "execution_count": 13,
     "metadata": {},
     "output_type": "execute_result"
    }
   ],
   "source": [
    "# TEST\n",
    "h==5.095"
   ]
  },
  {
   "cell_type": "markdown",
   "id": "dbe697c2-2278-4281-ab7b-a58a7616cf6e",
   "metadata": {
    "tags": []
   },
   "source": [
    "# 6. Importing code\n",
    "\n",
    "> What has been will be again,  \n",
    "> what has been done will be done again;  \n",
    "> there is nothing new under the sun.\n",
    "\n",
    "Most programming involves work that is very similar to work that has been done before.  Since writing code is time-consuming, it's good to rely on others' published code when you can.  Rather than copy-pasting, Python allows us to **import modules**. A module is a file with Python code that has defined variables and functions. By importing a module, we are able to use its code in our own notebook.\n",
    "\n",
    "Python includes many useful modules that are just an `import` away.  We'll look at the `math` module as a first example. The `math` module is extremely useful in computing mathematical expressions in Python. \n",
    "\n",
    "Suppose we want to very accurately compute the area of a circle with a radius of 5 meters.  For that, we need the constant $\\pi$, which is roughly 3.14.  Conveniently, the `math` module has `pi` defined for us.\n",
    "\n",
    "Run the cell below."
   ]
  },
  {
   "cell_type": "code",
   "execution_count": 15,
   "id": "c5317eec-b1df-4890-9765-fc3c648d25c2",
   "metadata": {},
   "outputs": [
    {
     "data": {
      "text/plain": [
       "78.53981633974483"
      ]
     },
     "execution_count": 15,
     "metadata": {},
     "output_type": "execute_result"
    }
   ],
   "source": [
    "import math\n",
    "\n",
    "radius=5\n",
    "area_of_circle=radius**2*math.pi\n",
    "area_of_circle"
   ]
  },
  {
   "cell_type": "markdown",
   "id": "79b5de8d-5921-4e76-a283-df705b388e8d",
   "metadata": {},
   "source": [
    "In the code above, the line `import math` imports the math module. This statement creates a module and then assigns the name `math` to that module. We are now able to access any variables or functions defined within `math` by typing the name of the module followed by a dot, then followed by the name of the variable or function we want.\n",
    "\n",
    "<module name>.<name>"
   ]
  },
  {
   "cell_type": "markdown",
   "id": "082ef654-3375-47e6-91d9-e3552f06af62",
   "metadata": {},
   "source": [
    "**Question 8.** The module `math` also provides the name `e` for the base of the natural logarithm, which is roughly 2.71.  Compute $e^{\\pi}-\\pi$, giving it the name `near_twenty`.\n",
    "\n",
    "```\n",
    "BEGIN QUESTION\n",
    "name: q8\n",
    "```"
   ]
  },
  {
   "cell_type": "code",
   "execution_count": 7,
   "id": "50bf589f-d346-4287-b80c-3f463e03ff87",
   "metadata": {},
   "outputs": [
    {
     "data": {
      "text/plain": [
       "19.99909997918947"
      ]
     },
     "execution_count": 7,
     "metadata": {},
     "output_type": "execute_result"
    }
   ],
   "source": [
    "near_twenty = math.e**math.pi-math.pi # SOLUTION\n",
    "near_twenty"
   ]
  },
  {
   "cell_type": "code",
   "execution_count": 8,
   "id": "d3688ca8-5117-42f9-b850-d6b637f88058",
   "metadata": {},
   "outputs": [
    {
     "data": {
      "text/plain": [
       "True"
      ]
     },
     "execution_count": 8,
     "metadata": {},
     "output_type": "execute_result"
    }
   ],
   "source": [
    "# TEST \n",
    "near_twenty != math.e**math.pi"
   ]
  },
  {
   "cell_type": "code",
   "execution_count": 9,
   "id": "23ef03c3-9627-403e-838f-53c18458503c",
   "metadata": {},
   "outputs": [
    {
     "data": {
      "text/plain": [
       "True"
      ]
     },
     "execution_count": 9,
     "metadata": {},
     "output_type": "execute_result"
    }
   ],
   "source": [
    "# TEST\n",
    "near_twenty == math.e**math.pi-math.pi"
   ]
  },
  {
   "cell_type": "markdown",
   "id": "4a372260-3004-4322-a87d-0e80fa9dda61",
   "metadata": {},
   "source": [
    "## Accessing Functions\n",
    "\n",
    "In the question above, you accessed variables within the `math` module. \n",
    "\n",
    "**Modules** also define **functions**.  For example, `math` provides the name `sin` for the sine function.  Having imported `math` already, we can write `math.sin(3)` to compute the sine of 3.  (Note that this sine function considers its argument to be in [radians](https://en.wikipedia.org/wiki/Radian), not degrees.  180 degrees are equivalent to $\\pi$ radians.)\n",
    "\n",
    "**Question 9.** A $\\frac{\\pi}{4}$ radian (45-degree) angle forms a right triangle with equal base and height, pictured below.  If the hypotenuse (the radius of the circle in the picture) is 1, then the height is $\\sin\\left(\\frac{\\pi}{4}\\right)$.  Compute that value using `sin` and `pi` from the `math` module.  Give the result the name `sine_of_pi_over_four`.\n",
    "\n",
    "<center><img src=\"http://mathworld.wolfram.com/images/eps-gif/TrigonometryAnglesPi4_1000.gif\"></center>\n",
    "\n",
    "Source: [Wolfram MathWorld](http://mathworld.wolfram.com/images/eps-gif/TrigonometryAnglesPi4_1000.gif)\n",
    "\n",
    "\n",
    "```\n",
    "BEGIN QUESTION\n",
    "name: q9\n",
    "```"
   ]
  },
  {
   "cell_type": "code",
   "execution_count": 10,
   "id": "293081a1-739c-4fd5-89b2-79ee23367b49",
   "metadata": {},
   "outputs": [
    {
     "data": {
      "text/plain": [
       "0.7071067811865475"
      ]
     },
     "execution_count": 10,
     "metadata": {},
     "output_type": "execute_result"
    }
   ],
   "source": [
    "sine_of_pi_over_four = math.sin(math.pi/4) # SOLUTION\n",
    "sine_of_pi_over_four"
   ]
  },
  {
   "cell_type": "code",
   "execution_count": 11,
   "id": "52cba511-3a39-4a22-823f-e3e743ae1216",
   "metadata": {},
   "outputs": [
    {
     "data": {
      "text/plain": [
       "True"
      ]
     },
     "execution_count": 11,
     "metadata": {},
     "output_type": "execute_result"
    }
   ],
   "source": [
    "# TEST\n",
    "sine_of_pi_over_four == math.sin(math.pi/4)"
   ]
  },
  {
   "cell_type": "markdown",
   "id": "d39fbbda-010e-473e-a4a3-802f37d4d271",
   "metadata": {},
   "source": [
    "For your reference, below are some more examples of functions from the `math` module.\n",
    "\n",
    "Notice how different functions take in different numbers of arguments. Often, the [documentation](https://docs.python.org/3/library/math.html) of the module will provide information on how many arguments are required for each function.\n",
    "\n",
    "Run the cell below."
   ]
  },
  {
   "cell_type": "code",
   "execution_count": 12,
   "id": "9fc13d83-8287-4fc7-9279-953ebee9d99b",
   "metadata": {},
   "outputs": [
    {
     "data": {
      "text/plain": [
       "3.0"
      ]
     },
     "execution_count": 12,
     "metadata": {},
     "output_type": "execute_result"
    }
   ],
   "source": [
    "# Calculating logarithms (the logarithm of 8 in base 2)\n",
    "# The result is 3 because 2 to the power of 3 is 8\n",
    "math.log(8, 2)"
   ]
  },
  {
   "cell_type": "markdown",
   "id": "262305e7-adc7-4fce-8b8d-e0d58d466bd1",
   "metadata": {},
   "source": [
    "Run the cell below."
   ]
  },
  {
   "cell_type": "code",
   "execution_count": 13,
   "id": "c2694757-8c36-4d38-b594-4b393a8cec9f",
   "metadata": {},
   "outputs": [
    {
     "data": {
      "text/plain": [
       "2.23606797749979"
      ]
     },
     "execution_count": 13,
     "metadata": {},
     "output_type": "execute_result"
    }
   ],
   "source": [
    "# Calculating square roots\n",
    "math.sqrt(5)"
   ]
  },
  {
   "cell_type": "markdown",
   "id": "13cc85dd-d4a3-440f-8af4-8619fd79979b",
   "metadata": {},
   "source": [
    "There are various ways to import and access code from outside sources. The method we used above — `import <module_name>` — imports the entire module and requires that we use `<module_name>.<name>` to access its code. \n",
    "\n",
    "We can also import a specific constant or function instead of the entire module. Notice that you don't have to use the module name beforehand to reference that particular value. However, you do have to be careful about reassigning the names of the constants or functions to other values.\n",
    "\n",
    "Run the cell below."
   ]
  },
  {
   "cell_type": "code",
   "execution_count": 14,
   "id": "ca594181-37b5-4209-9852-07daacc951d4",
   "metadata": {},
   "outputs": [
    {
     "name": "stdout",
     "output_type": "stream",
     "text": [
      "-1.0\n"
     ]
    },
    {
     "data": {
      "text/plain": [
       "1.1447298858494002"
      ]
     },
     "execution_count": 14,
     "metadata": {},
     "output_type": "execute_result"
    }
   ],
   "source": [
    "# Importing just cos and pi from math\n",
    "# We don't have to use `math.` in front of cos or pi\n",
    "\n",
    "from math import cos, pi\n",
    "print(cos(pi))\n",
    "\n",
    "# We do have to use it in front of other functions from math, though\n",
    "math.log(pi)"
   ]
  },
  {
   "cell_type": "markdown",
   "id": "7a1d6826-659f-4d65-b4fd-93780e9a07e2",
   "metadata": {},
   "source": [
    "Or we can import every function and value from the entire module.\n",
    "\n",
    "Run the cell below."
   ]
  },
  {
   "cell_type": "code",
   "execution_count": 15,
   "id": "7366af70-3fc7-4534-b592-263f1e60cefa",
   "metadata": {},
   "outputs": [
    {
     "data": {
      "text/plain": [
       "1.1447298858494002"
      ]
     },
     "execution_count": 15,
     "metadata": {},
     "output_type": "execute_result"
    }
   ],
   "source": [
    "# Lastly, we can import everything from math using the *\n",
    "# Once again, we don't have to use 'math.' beforehand \n",
    "\n",
    "from math import *\n",
    "log(pi)"
   ]
  },
  {
   "cell_type": "markdown",
   "id": "70dbb712-d0f0-4110-b48c-8737df9e6e1f",
   "metadata": {},
   "source": [
    "Don't worry too much about which type of import to use. It's often a coding style choice left up to each programmer. In this course, you'll always import the necessary modules when you run the setup cell (like the first code cell in this lab)."
   ]
  },
  {
   "cell_type": "markdown",
   "id": "6d8f6dc4-741e-4e5b-92f8-8aab1820a127",
   "metadata": {
    "tags": []
   },
   "source": [
    "## Calling functions\n",
    "\n",
    "The most common way to combine or manipulate values in Python is by calling *functions*. Python comes with many built-in functions that perform common operations.\n",
    "\n",
    "For example, the `abs` function takes a single number as its argument and returns the absolute value of that number. Run the next two cells and see if you understand the output."
   ]
  },
  {
   "cell_type": "code",
   "execution_count": 23,
   "id": "b7bd63e7-eea9-4d23-bdb8-df0a5e157aba",
   "metadata": {},
   "outputs": [
    {
     "data": {
      "text/plain": [
       "5"
      ]
     },
     "execution_count": 23,
     "metadata": {},
     "output_type": "execute_result"
    }
   ],
   "source": [
    "abs(5)"
   ]
  },
  {
   "cell_type": "code",
   "execution_count": 24,
   "id": "64dcc537-0703-4c6d-8083-a7ed24b7d26f",
   "metadata": {},
   "outputs": [
    {
     "data": {
      "text/plain": [
       "5"
      ]
     },
     "execution_count": 24,
     "metadata": {},
     "output_type": "execute_result"
    }
   ],
   "source": [
    "abs(-5)"
   ]
  },
  {
   "cell_type": "markdown",
   "id": "8b0eb4ee-2633-44a0-b580-3d75730d02a1",
   "metadata": {},
   "source": [
    "## Computing walking distances\n",
    "\n",
    "Hannah is on the corner of 7th Avenue and 42nd Street in Midtown Manhattan, and she wants to know far she'd have to walk to get to Gramercy School on the corner of 10th Avenue and 34th Street.\n",
    "\n",
    "She can't cut across blocks diagonally, since there are buildings in the way.  She has to walk along the sidewalks.  Using the map below, she sees she'd have to walk 3 avenues (long blocks) and 8 streets (short blocks).  In terms of the given numbers, she computed 3 as the difference between 7 and 10, **in absolute value**, and 8 similarly.  \n",
    "\n",
    "Hannah also knows that blocks in Manhattan are all about 80m by 274m (avenues are farther apart than streets).  So in total, she'd have to walk \n",
    "\n",
    "$$80 \\times |42 - 34| + 274 \\times |7 - 10|$$ \n",
    "\n",
    "meters to get to the park.\n",
    "\n",
    "<img src=\"images/map.jpg\"/>"
   ]
  },
  {
   "cell_type": "markdown",
   "id": "a7921a25-f66c-4f14-ad84-a4a2d9ed468b",
   "metadata": {},
   "source": [
    "**Question 10.** Fill in the line `num_avenues_away = ...` in the next cell so that the cell calculates the distance Hannah must walk and gives it the name `manhattan_distance`.  Everything else has been filled in for you.  \n",
    "\n",
    "**Use the** `abs` **function.** Also, be sure to run the test cell afterward to test your code.\n",
    "\n",
    "```\n",
    "BEGIN QUESTION\n",
    "name: q10\n",
    "```"
   ]
  },
  {
   "cell_type": "code",
   "execution_count": 27,
   "id": "751a09ec-6ce4-4f22-8546-f5713e355fb2",
   "metadata": {},
   "outputs": [
    {
     "data": {
      "text/plain": [
       "1462"
      ]
     },
     "execution_count": 27,
     "metadata": {},
     "output_type": "execute_result"
    }
   ],
   "source": [
    "# Here's the number of streets away:\n",
    "num_streets_away = abs(42-34)\n",
    "\n",
    "# Compute the number of avenues away in a similar way:\n",
    "num_avenues_away = abs(7-10) # SOLUTION\n",
    "\n",
    "street_length_m = 80\n",
    "avenue_length_m = 274\n",
    "\n",
    "# Now we compute the total distance Chunhua must walk.\n",
    "manhattan_distance = street_length_m*num_streets_away + avenue_length_m*num_avenues_away\n",
    "\n",
    "# We've included this line so that you see the \n",
    "# distance you've computed when you run this cell.  \n",
    "# You don't need to change it, but you can if you want.\n",
    "manhattan_distance"
   ]
  },
  {
   "cell_type": "code",
   "execution_count": 28,
   "id": "6ed8f4df-abf3-4476-8e57-409858a66ad7",
   "metadata": {},
   "outputs": [
    {
     "data": {
      "text/plain": [
       "True"
      ]
     },
     "execution_count": 28,
     "metadata": {},
     "output_type": "execute_result"
    }
   ],
   "source": [
    "# TEST\n",
    "num_avenues_away == 3"
   ]
  },
  {
   "cell_type": "markdown",
   "id": "d2034725-e20e-40be-8499-6f37a5bc7d36",
   "metadata": {},
   "source": [
    "## Multiple arguments\n",
    "\n",
    "Some functions take multiple arguments, separated by commas. For example, the built-in `max` function returns the maximum argument passed to it."
   ]
  },
  {
   "cell_type": "code",
   "execution_count": 29,
   "id": "8d5b9b8d-c2f6-427d-add9-9ac97dfd814a",
   "metadata": {},
   "outputs": [
    {
     "data": {
      "text/plain": [
       "4"
      ]
     },
     "execution_count": 29,
     "metadata": {},
     "output_type": "execute_result"
    }
   ],
   "source": [
    "max(2, -3, 4, -5)"
   ]
  },
  {
   "cell_type": "markdown",
   "id": "0fdb7b1f-3f9a-451d-9536-cb30f7dcf6ee",
   "metadata": {},
   "source": [
    "# 7. Understanding nested expressions\n",
    "Function calls and arithmetic expressions can themselves contain expressions.  You saw an example in the last question `abs(42-34)` has 2 number expressions in a subtraction expression in a function call expression.  And you probably wrote something like `abs(7-10)` to compute `num_avenues_away`.\n",
    "\n",
    "Nested expressions can turn into complicated-looking code. However, the way in which complicated expressions break down is very regular.\n",
    "\n",
    "Suppose we are interested in heights that are very unusual.  We'll say that a height is unusual to the extent that it's far away on the number line from the average human height.  [An estimate](http://www.wecare4eyes.com/averageemployeeheights.htm) of the average adult human height (averaging, we hope, over all humans on Earth today) is 1.688 meters.\n",
    "\n",
    "So if Kayla is 1.21 meters tall, then her height is $|1.21 - 1.688|$, or $.478$, meters away from the average.  Here's a picture of that:\n",
    "\n",
    "<img src=\"images/numberline_0.png\">\n",
    "\n",
    "And here's how we'd write that in one line of Python code:"
   ]
  },
  {
   "cell_type": "code",
   "execution_count": 30,
   "id": "23c34ba5-a1c2-418a-93fc-0353831939ee",
   "metadata": {},
   "outputs": [
    {
     "data": {
      "text/plain": [
       "0.478"
      ]
     },
     "execution_count": 30,
     "metadata": {},
     "output_type": "execute_result"
    }
   ],
   "source": [
    "abs(1.21 - 1.688)"
   ]
  },
  {
   "cell_type": "markdown",
   "id": "32d96336-c7de-4e9d-afdc-d7169be7a607",
   "metadata": {},
   "source": [
    "What's going on here?  `abs` takes just one argument, so the stuff inside the parentheses is all part of that *single argument*.  Specifically, the argument is the value of the expression `1.21 - 1.688`.  The value of that expression is `-.478`.  That value is the argument to `abs`.  The absolute value of that is `.478`, so `.478` is the value of the full expression `abs(1.21 - 1.688)`.\n",
    "\n",
    "Picture simplifying the expression in several steps:\n",
    "\n",
    "1. `abs(1.21 - 1.688)`\n",
    "2. `abs(-.478)`\n",
    "3. `.478`\n",
    "\n",
    "In fact, that's basically what Python does to compute the value of the expression."
   ]
  },
  {
   "cell_type": "markdown",
   "id": "7626f23d-1132-47b9-844f-e4adee7386bb",
   "metadata": {},
   "source": [
    "**Question 11.** Say that Paola's height is 1.76 meters.  In the next cell, use `abs` to compute the absolute value of the difference between Paola's height and the average human height.  Give that value the name `paola_distance_from_average_m`.\n",
    "\n",
    "<img src=\"images/numberline_1.png\">\n",
    "\n",
    "```\n",
    "BEGIN QUESTION\n",
    "name: q11\n",
    "```"
   ]
  },
  {
   "cell_type": "code",
   "execution_count": 31,
   "id": "273ec2e5-42f8-4966-8a28-ffc11e916b24",
   "metadata": {},
   "outputs": [
    {
     "data": {
      "text/plain": [
       "0.07200000000000006"
      ]
     },
     "execution_count": 31,
     "metadata": {},
     "output_type": "execute_result"
    }
   ],
   "source": [
    "# Replace the ... with an expression \n",
    "# to compute the absolute value \n",
    "# of the difference between \n",
    "# Paola's height (1.76m) and the average human height.\n",
    "paola_distance_from_average_m = abs(1.688-1.76) # SOLUTION\n",
    "\n",
    "# Again, we've written this here \n",
    "# so that the distance you compute will get printed \n",
    "# when you run this cell.\n",
    "paola_distance_from_average_m"
   ]
  },
  {
   "cell_type": "code",
   "execution_count": 32,
   "id": "b6b7ffef-36f1-4808-a8bc-65f0c87e1736",
   "metadata": {},
   "outputs": [
    {
     "data": {
      "text/plain": [
       "True"
      ]
     },
     "execution_count": 32,
     "metadata": {},
     "output_type": "execute_result"
    }
   ],
   "source": [
    "# TEST \n",
    "round(paola_distance_from_average_m, 3) == 0.072"
   ]
  },
  {
   "cell_type": "markdown",
   "id": "1df84730-c7f1-4713-8407-6d4b05dba2aa",
   "metadata": {},
   "source": [
    "## More nesting\n",
    "\n",
    "Now say that we want to compute the more unusual of the two heights.  We'll use the function `max`, which (again) takes two numbers as arguments and returns the larger of the two arguments.  Combining that with the `abs` function, we can compute the larger distance from average among the two heights:"
   ]
  },
  {
   "cell_type": "code",
   "execution_count": 33,
   "id": "61c8689b-679d-4fe0-b0ca-8ad84d6b340e",
   "metadata": {},
   "outputs": [
    {
     "name": "stdout",
     "output_type": "stream",
     "text": [
      "The larger distance from the average height among these two people is 0.478 meters.\n"
     ]
    }
   ],
   "source": [
    "# Just read and run this cell.\n",
    "kayla_height_m = 1.21\n",
    "paola_height_m = 1.76\n",
    "average_adult_height_m = 1.688\n",
    "\n",
    "# The larger distance from the average human height, among the two heights.\n",
    "larger_distance_m = max(abs(kayla_height_m - average_adult_height_m), abs(paola_height_m - average_adult_height_m))\n",
    "\n",
    "# Print out our results in a nice readable format.\n",
    "print(\"The larger distance from the average height among these two people is\", larger_distance_m, \"meters.\")"
   ]
  },
  {
   "cell_type": "markdown",
   "id": "0fabce58-f04f-4412-8415-fd643048e4c2",
   "metadata": {},
   "source": [
    "The line where `larger_distance_m` is computed looks complicated, but we can break it down into simpler components just like we did before.\n",
    "\n",
    "The basic recipe is to repeatedly simplify small parts of the expression:\n",
    "* **Basic expressions:** Start with expressions whose values we know, like names or numbers.\n",
    "    - Examples: `paola_height_m` or `5`.\n",
    "* **Find the next simplest group of expressions:** Look for basic expressions that are directly connected to each other. This can be by arithmetic or as arguments to a function call. \n",
    "    - Example: `kayla_height_m - average_adult_height_m`.\n",
    "    \n",
    "* **Evaluate that group:** Evaluate the arithmetic expression or function call. Use the value computed to replace the group of expressions.  \n",
    "    - Example: `kayla_height_m - average_adult_height_m` becomes `-.478`.\n",
    "    \n",
    "* **Repeat:** Continue this process, using the value of the previously-evaluated expression as a new basic expression. Stop when we've evaluated the entire expression.\n",
    "    - Example: `abs(-.478)` becomes `.478`, and `max(.478, .072)` becomes `.478`.\n",
    "\n",
    "You can run the next cell to see a slideshow of that process."
   ]
  },
  {
   "cell_type": "code",
   "execution_count": 16,
   "id": "297db7e4-1047-4ae9-b2d2-9095a40d52fe",
   "metadata": {},
   "outputs": [
    {
     "data": {
      "text/html": [
       "\n",
       "        <iframe\n",
       "            width=\"800\"\n",
       "            height=\"600\"\n",
       "            src=\"https://docs.google.com/presentation/d/e/2PACX-1vTiIUOa9tP4pHPesrI8p2TCp8WCOJtTb3usOacQFPfkEfvQMmX-JYEW3OnBoTmQEJWAHdBP6Mvp053G/embed?start=false&loop=false&delayms=3000\"\n",
       "            frameborder=\"0\"\n",
       "            allowfullscreen\n",
       "        ></iframe>\n",
       "        "
      ],
      "text/plain": [
       "<IPython.lib.display.IFrame at 0x7f65682978b0>"
      ]
     },
     "execution_count": 16,
     "metadata": {},
     "output_type": "execute_result"
    }
   ],
   "source": [
    "from IPython.display import IFrame\n",
    "IFrame('https://docs.google.com/presentation/d/e/2PACX-1vTiIUOa9tP4pHPesrI8p2TCp8WCOJtTb3usOacQFPfkEfvQMmX-JYEW3OnBoTmQEJWAHdBP6Mvp053G/embed?start=false&loop=false&delayms=3000', 800, 600)"
   ]
  },
  {
   "cell_type": "markdown",
   "id": "481942cb-12d3-41f1-9573-84c5cb1fbe0c",
   "metadata": {},
   "source": [
    "Ok, your turn. "
   ]
  },
  {
   "cell_type": "markdown",
   "id": "3ebebaea-c8a0-4cea-9d27-221bdf2389fd",
   "metadata": {},
   "source": [
    "**Question 12.** Given the heights of players from the Charolotte Hornets, write an expression that computes the smallest difference between any of the three heights. Your expression shouldn't have any numbers in it, only function calls and the names `lamelo`, `hayward`, and `bridges`. Give the value of your expression the name `min_height_difference`.\n",
    "\n",
    "```\n",
    "BEGIN QUESTION\n",
    "name: q12\n",
    "```"
   ]
  },
  {
   "cell_type": "code",
   "execution_count": 17,
   "id": "c807e69f-c64d-4415-8e85-3f3d8b0d31cd",
   "metadata": {},
   "outputs": [
    {
     "data": {
      "text/plain": [
       "0.029999999999999805"
      ]
     },
     "execution_count": 17,
     "metadata": {},
     "output_type": "execute_result"
    }
   ],
   "source": [
    "# The three players' heights, in meters:\n",
    "lamelo = 1.98  # LaMelo Ball is 6'6\"\n",
    "hayward = 2.01  # Gordon Hayward is 6'7\"\n",
    "plumlee = 2.11 # Mason Plumlee is 6'11\n",
    "             \n",
    "# We'd like to look at all 3 pairs of heights, \n",
    "# compute the absolute difference between each pair, \n",
    "# and then find the smallest of those 3 absolute differences.  \n",
    "\n",
    "# This is left to you. \n",
    "# If you're stuck, try computing the value for each step of the process \n",
    "# (like the difference between LaMelo's heigh and Hayward's height) \n",
    "# on a separate line and giving it a name (like lamelo_hayward_height_diff)\n",
    "min_height_difference = min(abs(lamelo-hayward), abs(lamelo-plumlee), abs(hayward-plumlee)) # SOLUTION\n",
    "\n",
    "# Again, we've written this here \n",
    "# so that the distance you compute will get printed \n",
    "# when you run this cell.\n",
    "min_height_difference"
   ]
  },
  {
   "cell_type": "code",
   "execution_count": 18,
   "id": "771044b0-190d-4f31-9967-f8522a725ec4",
   "metadata": {},
   "outputs": [
    {
     "data": {
      "text/plain": [
       "True"
      ]
     },
     "execution_count": 18,
     "metadata": {},
     "output_type": "execute_result"
    }
   ],
   "source": [
    "# TEST \n",
    "min_height_difference == 0.029999999999999805"
   ]
  },
  {
   "cell_type": "markdown",
   "id": "303bd85c-b5b3-4b37-9518-fc2a0f5f6bc4",
   "metadata": {},
   "source": [
    "# 8. Submitting your work\n",
    "You're done with Lab 01! All assignments in the course will be distributed as notebooks like this one, and you will submit your work by doing the following:\n",
    "\n",
    "* Save your notebook\n",
    "\n",
    "* Restart the kernel and run up to this cell.\n",
    "\n",
    "* Run all the tests by running the cell containing `grader.check_all()`. Make sure they pass the way you expect them to.\n",
    "\n",
    "* Run the cell below with the code `grader.export(\"lab01.ipynb\")`.\n",
    "\n",
    "* Download the file named `<notebook name>.zip`, found in the explorer pane on the left side of the screen.\n",
    "\n",
    "* Upload `<notebook name>.zip` to the Lab 01 assignment to Gradescope for Grading."
   ]
  },
  {
   "cell_type": "code",
   "execution_count": null,
   "id": "f6cac39f-0eff-42ed-b640-328f7a35eb4b",
   "metadata": {},
   "outputs": [],
   "source": []
  }
 ],
 "metadata": {
  "kernelspec": {
   "display_name": "Python 3 (ipykernel)",
   "language": "python",
   "name": "python3"
  },
  "language_info": {
   "codemirror_mode": {
    "name": "ipython",
    "version": 3
   },
   "file_extension": ".py",
   "mimetype": "text/x-python",
   "name": "python",
   "nbconvert_exporter": "python",
   "pygments_lexer": "ipython3",
   "version": "3.9.6"
  }
 },
 "nbformat": 4,
 "nbformat_minor": 5
}
