{
 "cells": [
  {
   "cell_type": "code",
   "execution_count": null,
   "id": "0bca02ae",
   "metadata": {
    "deletable": false,
    "editable": false
   },
   "outputs": [],
   "source": [
    "# Initialize Otter\n",
    "import otter\n",
    "grader = otter.Notebook(\"lab10.ipynb\")"
   ]
  },
  {
   "cell_type": "markdown",
   "id": "cd313ffd",
   "metadata": {
    "tags": []
   },
   "source": [
    "# Lab 10: Numerical Integration\n",
    "\n",
    "Welcome to Lab 10! Throughout the course you will complete a lab assignments like this one. You can't learn technical subjects without hands-on practice, so labs are an important part of the course. \n",
    "\n",
    "Collaborating on labs is more than okay -- it's encouraged. You should rarely remain stuck for more than a few minutes on questions in labs, so ask a neighbor or an instructor for help. Explaining things is beneficial, too $-$ the best way to solidify your knowledge of a subject is to explain it. You should not just copy someone else's answers, but rather work together to gain understanding of the task you need to complete.\n",
    "\n",
    "Yesterday, n the first part of this lab, you performed integration. In the problems where an antiderivative existed, you were able to find an exact value. In other cases where there was no antiderivative, you used numerical methods (e.g., right/left-hand Riemann sums, midpoint/trapezoid rule) to approximate the value. \n",
    "\n",
    "In today's lab, you will be asked to use your python programming skills to write code to approximate definite integrals.\n",
    "\n",
    "To receive credit for a lab, answer all questions correctly and submit before the deadline.\n",
    "\n",
    "**Due Date:** Tuesday, April 26, 2022 at 11:59 pm\n",
    "\n",
    "**Collaboration Policy:** Labs are a collaborative activity. While you may talk with others about the labs, we ask that you **write your solutions individually**. If you do discuss the assignments with others **please include their names below** (it's a good way to learn your classmates' names).\n",
    "\n",
    "**Collaborators:** \n",
    "\n",
    "List collaborators here.\n",
    "\n",
    "Run the cell below to import the required modules."
   ]
  },
  {
   "cell_type": "code",
   "execution_count": null,
   "id": "97d67fd4",
   "metadata": {},
   "outputs": [],
   "source": [
    "import numpy as np\n",
    "import matplotlib.pyplot as plt\n",
    "plt.style.use('seaborn-whitegrid')\n",
    "%matplotlib inline"
   ]
  },
  {
   "cell_type": "markdown",
   "id": "da839625",
   "metadata": {},
   "source": [
    "In yesterday's lab you evaluate each of the following definite integrals by finding the antiderivative and using the Fundamental Theorem of Calculus.\n",
    "\n",
    "a. $\\displaystyle \\int_0^{\\frac{\\pi}{2}} \\cos x \\ dx$\n",
    "\n",
    "b. $\\displaystyle \\int_0^{\\frac{\\pi}{2}} \\sin^2 x \\cos x \\ dx$\n",
    "\n",
    "c. $\\displaystyle \\int_0^1 x \\cdot e^x \\ dx$\n",
    "\n",
    "Now we want to use numerical integration techniques to approximate the solutions. Since we know the exact value of each definite integral, we can find the error in our numerical approximations. \n",
    "\n",
    "Before we get started let's review two things:\n",
    "\n",
    "- `np.linspace()`\n",
    "\n",
    "- `lambda` functions\n",
    "\n",
    "# 0. Review\n",
    "\n",
    "The `np.linspace()` function returns evenly spaced numbers over a specified interval. For example, \n",
    "\n",
    "`np.linspace(2, 3, 5)` \n",
    "\n",
    "would return \n",
    "\n",
    "`array([2., 2.25, 2.5 , 2.75, 3.])`. \n",
    "\n",
    "Since this is an array object we can iterate over each element. Remember, Python gives the index value 0 for the first element. For example, if we saved our array to `x`\n",
    "\n",
    "`x = np.linspace(2, 3, 5)` \n",
    "\n",
    "then ran the command \n",
    "\n",
    "`x[1]`\n",
    "\n",
    "we would get 2.25. If instead we wanted the first element, then we would need to run `x[0]`.\n",
    "\n",
    "Try it for yourself."
   ]
  },
  {
   "cell_type": "code",
   "execution_count": null,
   "id": "24ae0d05",
   "metadata": {},
   "outputs": [],
   "source": [
    "x = np.linspace(..., ..., ...)\n",
    "x[1]"
   ]
  },
  {
   "cell_type": "code",
   "execution_count": null,
   "id": "c8ce0b6d",
   "metadata": {},
   "outputs": [],
   "source": [
    "x[0]"
   ]
  },
  {
   "cell_type": "markdown",
   "id": "d7af59eb",
   "metadata": {},
   "source": [
    "If we wanted to iterate over all the items we can run\n",
    "\n",
    "```\n",
    "for i in x:\n",
    "    print(i)\n",
    "    \n",
    "2.0\n",
    "2.25\n",
    "2.5\n",
    "2.75\n",
    "3.0\n",
    "```\n",
    "\n",
    "or, to iterate over a subset of the items we can run\n",
    "\n",
    "```\n",
    "for i in x[1:3]:\n",
    "    print(i)\n",
    "    \n",
    "2.25\n",
    "2.5\n",
    "```\n",
    "\n",
    "notice that item 3 (i.e., the fourth item in the array 2.75) is not included.\n",
    "\n",
    "Try it for yourself."
   ]
  },
  {
   "cell_type": "code",
   "execution_count": null,
   "id": "5ccb5dd1",
   "metadata": {},
   "outputs": [],
   "source": [
    "for i in x:\n",
    "    print(i)"
   ]
  },
  {
   "cell_type": "code",
   "execution_count": null,
   "id": "5efbbc86",
   "metadata": {},
   "outputs": [],
   "source": [
    "for i in x[1:3]:\n",
    "    print(i)"
   ]
  },
  {
   "cell_type": "markdown",
   "id": "239814f3",
   "metadata": {},
   "source": [
    "We can use an array to provide the inputs for a `lambda` function. Remember the syntax for a `lambda` function is \n",
    "\n",
    "```\n",
    "f = lambda x: x**2\n",
    "```\n",
    "\n",
    "If we define `f` we input the values from our array into `f`\n",
    "\n",
    "\n",
    "```\n",
    "for i in x:\n",
    "    print(f(i))\n",
    "\n",
    "4.0\n",
    "5.0625\n",
    "6.25\n",
    "7.5625\n",
    "9.0\n",
    "```\n",
    "\n",
    "Try it and see."
   ]
  },
  {
   "cell_type": "code",
   "execution_count": null,
   "id": "c6da8fbd",
   "metadata": {},
   "outputs": [],
   "source": [
    "f = lambda x: x**2\n",
    "\n",
    "for i in x:\n",
    "    print(f(i))"
   ]
  },
  {
   "cell_type": "markdown",
   "id": "b3695c3e",
   "metadata": {},
   "source": [
    "Throughout this notebook you can use `np.linspace` and `lambda` functions to help you complete the exercises. \n",
    "\n",
    "**Note:** There are other methods that can be used to accomplish the same task. Feel free to use other methods, if you have experience using Python. "
   ]
  },
  {
   "cell_type": "markdown",
   "id": "9314ce31",
   "metadata": {},
   "source": [
    "# 1. Graphing \n",
    "\n",
    "Let's write a lambda functions that we can use to graph each function over its interval of integration."
   ]
  },
  {
   "cell_type": "markdown",
   "id": "5c8d398a",
   "metadata": {},
   "source": [
    "<!-- BEGIN QUESTION -->\n",
    "\n",
    "**Question 1.** Write a lambda function to sketch the graph of $f_1(x)=\\sin^2 x \\cos x$.\n",
    "\n",
    "**Hint:** Use cosine from numpy (e.g., `np.cos`)"
   ]
  },
  {
   "cell_type": "code",
   "execution_count": null,
   "id": "8d84f184",
   "metadata": {
    "tags": []
   },
   "outputs": [],
   "source": [
    "x  = np.linspace(0, np.pi/2, 100)\n",
    "f1 = ...\n",
    "plt.plot(x, f1(x), color = 'black', ms = 3)\n",
    "plt.title(\"cos(x)\");"
   ]
  },
  {
   "cell_type": "markdown",
   "id": "af2b3f8a",
   "metadata": {},
   "source": [
    "<!-- END QUESTION -->\n",
    "\n",
    "<!-- BEGIN QUESTION -->\n",
    "\n",
    "**Question 2.** Write a lambda function to sketch the graph of $f_2(x)=\\sin^2 x \\cos x$.\n",
    "\n",
    "**Hint:** Use sine and cosine from numpy (e.g., `np.sin` and `np.cos`)"
   ]
  },
  {
   "cell_type": "code",
   "execution_count": null,
   "id": "01dcafda",
   "metadata": {
    "tags": []
   },
   "outputs": [],
   "source": [
    "x  = np.linspace(0, np.pi/2, 100)\n",
    "f2 = ...\n",
    "plt.plot(x, f2(x), color = 'black', ms = 3)\n",
    "plt.title(\"sin^2(x) cos(x)\");"
   ]
  },
  {
   "cell_type": "markdown",
   "id": "642b2a87",
   "metadata": {},
   "source": [
    "<!-- END QUESTION -->\n",
    "\n",
    "<!-- BEGIN QUESTION -->\n",
    "\n",
    "**Question 3.**  Write a lambda function to sketch the graph of $f_3(x)=x \\cdot e^x$.\n",
    "\n",
    "**Hint:** Use $e$ from numpy (e.g., `np.exp`)"
   ]
  },
  {
   "cell_type": "code",
   "execution_count": null,
   "id": "14ee7d66",
   "metadata": {
    "tags": []
   },
   "outputs": [],
   "source": [
    "x = np.linspace(0, np.pi/2, 100)\n",
    "f3 = lambda x : x*np.exp(x)\n",
    "plt.plot(x, f3(x), color = 'black', ms = 3)\n",
    "plt.title(\"x e^x\");"
   ]
  },
  {
   "cell_type": "markdown",
   "id": "0844d4d8",
   "metadata": {},
   "source": [
    "<!-- END QUESTION -->\n",
    "\n",
    "# 2. Numerical Integration\n",
    "\n",
    "Let's write functions to compute left/right-hand, midpoint, trapezoid sums. "
   ]
  },
  {
   "cell_type": "markdown",
   "id": "d99c07b1",
   "metadata": {},
   "source": [
    "<!-- BEGIN QUESTION -->\n",
    "\n",
    "**Question 4.** Write a function to approximate a definite integral using the left-hand sum."
   ]
  },
  {
   "cell_type": "code",
   "execution_count": null,
   "id": "64e5be5c",
   "metadata": {
    "tags": []
   },
   "outputs": [],
   "source": [
    "def left_sum(a, b, n, f):\n",
    "    \"\"\"\n",
    "    Purpose\n",
    "    -------\n",
    "    Compute the left-hand sum\n",
    "    \n",
    "    Parameters\n",
    "    ----------\n",
    "    a: Start x-value\n",
    "    b: End x-value\n",
    "    n: Number of subintervals\n",
    "    f: Lambda function for f\n",
    "    \n",
    "    Returns\n",
    "    -------\n",
    "    Numerical approximation of the definite integral\n",
    "    \"\"\"\n",
    "    sum = 0\n",
    "    deltax = ...\n",
    "    x = np.linspace(a, b, n+1)\n",
    "    for i in ...:\n",
    "        sum = ...\n",
    "    return ...\n",
    "f = lambda x : x*np.exp(x)\n",
    "print(left_sum(0, 1, 2, f))"
   ]
  },
  {
   "cell_type": "markdown",
   "id": "4d32be09",
   "metadata": {},
   "source": [
    "<!-- END QUESTION -->\n",
    "\n",
    "<!-- BEGIN QUESTION -->\n",
    "\n",
    "**Question 5.** Write a function to approximate a definite integral using the right-hand sum."
   ]
  },
  {
   "cell_type": "code",
   "execution_count": null,
   "id": "c846dbbb",
   "metadata": {
    "tags": []
   },
   "outputs": [],
   "source": [
    "def right_sum(a, b, n, f):\n",
    "    \"\"\"\n",
    "    Purpose\n",
    "    -------\n",
    "    Compute the right-hand sum\n",
    "    \n",
    "    Parameters\n",
    "    ----------\n",
    "    a: Start x-value\n",
    "    b: End x-value\n",
    "    n: Number of subintervals\n",
    "    f: Lambda function for f\n",
    "    \n",
    "    Returns\n",
    "    -------\n",
    "    Numerical approximation of the definite integral\n",
    "    \"\"\"\n",
    "    sum = 0\n",
    "    deltax = ...\n",
    "    x = np.linspace(a, b, n+1)\n",
    "    for i in ...:\n",
    "        sum = ...\n",
    "    return ...\n",
    "f = lambda x : x*np.exp(x)\n",
    "print(right_sum(0, 1, 2, f))"
   ]
  },
  {
   "cell_type": "markdown",
   "id": "0b56679c",
   "metadata": {},
   "source": [
    "<!-- END QUESTION -->\n",
    "\n",
    "<!-- BEGIN QUESTION -->\n",
    "\n",
    "**Question 6.** Write a function to approximate a definite integral using the trapezoid rule."
   ]
  },
  {
   "cell_type": "code",
   "execution_count": null,
   "id": "d3841ac0",
   "metadata": {
    "tags": []
   },
   "outputs": [],
   "source": [
    "def trap_sum(a, b, n, f):\n",
    "    \"\"\"\n",
    "    Purpose\n",
    "    -------\n",
    "    Compute the trapezoid rule\n",
    "    \n",
    "    Parameters\n",
    "    ----------\n",
    "    a: Start x-value\n",
    "    b: End x-value\n",
    "    n: Number of subintervals\n",
    "    f: Lambda function for f\n",
    "    \n",
    "    Returns\n",
    "    -------\n",
    "    Numerical approximation of the definite integral\n",
    "    \"\"\"\n",
    "    sum = 0\n",
    "    deltax = ...\n",
    "    x = np.linspace(a, b, n+1)\n",
    "    for i in ...:\n",
    "        sum = ...\n",
    "    return ...\n",
    "f = lambda x : x*np.exp(x)\n",
    "print(trap_sum(0, 1, 2, f))"
   ]
  },
  {
   "cell_type": "markdown",
   "id": "f0af3a22",
   "metadata": {},
   "source": [
    "<!-- END QUESTION -->\n",
    "\n",
    "# 3. Error\n",
    "\n",
    "Now that we have python functions it is easy for use perform our calculations using more subintervals. Let's investigate what happens to the errors when we increase the number of subintervals. Use the code cells to find the absolute error for the given definite integral, for each of the given subintervals. Ideally, you should make a table that contains the number of subintervals, the approximation, and the absolute error. For example,\n",
    "\n",
    "|**n**|**Approximation for n**|**\\|Exact value - Approximation for n\\|**|\n",
    "|-----|-----------------------|---------------------------------------|\n",
    "|2 |1.340758530667244 |0.34075853066724404 |\n",
    "|4 |1.1834653418221375|0.18346534182213747 |\n",
    "|8 |1.0949599423108507|0.0949599423108507  |\n",
    "|16|1.048284065697413 |0.04828406569741306 |\n",
    "|32|1.024342886926189 |0.024342886926189022|\n",
    "\n",
    "**Note:** Feel free to use a spreadsheet or a calculator, if you prefer. Just make sure you enter your results in the notebook. If you write code a print the output, you do not need to put a table in the markdown cells."
   ]
  },
  {
   "cell_type": "markdown",
   "id": "26f5f8e8",
   "metadata": {},
   "source": [
    "<!-- BEGIN QUESTION -->\n",
    "\n",
    "**Question 8.** $\\displaystyle \\int_0^{\\frac{\\pi}{2}} \\cos x \\ dx$, for $n=2,4,8,16,32$ using the left-hand sum."
   ]
  },
  {
   "cell_type": "code",
   "execution_count": null,
   "id": "6901e86f",
   "metadata": {
    "tags": []
   },
   "outputs": [],
   "source": [
    "f = lambda x: np.cos(x)\n",
    "..."
   ]
  },
  {
   "cell_type": "markdown",
   "id": "d3a56c68",
   "metadata": {},
   "source": [
    "<!-- END QUESTION -->\n",
    "\n",
    "You can use the blank markdown cell below to enter you table. If you need help making tables in markdown click [here](https://www.markdownguide.org/extended-syntax/) and scroll down to the section on **Tables**."
   ]
  },
  {
   "cell_type": "code",
   "execution_count": null,
   "id": "fa8070c9",
   "metadata": {},
   "outputs": [],
   "source": []
  },
  {
   "cell_type": "markdown",
   "id": "871f7f91",
   "metadata": {},
   "source": [
    "<!-- BEGIN QUESTION -->\n",
    "\n",
    "**Question 9.** $\\displaystyle \\int_0^1 x \\cdot e^x \\ dx$, for $n=2,4,8,16,32$ using the right-hand sum."
   ]
  },
  {
   "cell_type": "code",
   "execution_count": null,
   "id": "3f005f94",
   "metadata": {
    "tags": []
   },
   "outputs": [],
   "source": [
    "f = lambda x : x*np.exp(x)\n",
    "..."
   ]
  },
  {
   "cell_type": "markdown",
   "id": "940c06fe",
   "metadata": {},
   "source": [
    "<!-- END QUESTION -->\n",
    "\n",
    "You can use the blank markdown cell below to enter you table. If you need help making tables in markdown click [here](https://www.markdownguide.org/extended-syntax/) and scroll down to the section on **Tables**."
   ]
  },
  {
   "cell_type": "code",
   "execution_count": null,
   "id": "9c0881e1",
   "metadata": {},
   "outputs": [],
   "source": []
  },
  {
   "cell_type": "markdown",
   "id": "5b982d06",
   "metadata": {},
   "source": [
    "<!-- BEGIN QUESTION -->\n",
    "\n",
    "**Question 10.** Write 2-3 sentences describing the behavior of the absolute error in **Question 8.** and **Question 9.**."
   ]
  },
  {
   "cell_type": "markdown",
   "id": "2e310046",
   "metadata": {},
   "source": [
    "_Type your answer here, replacing this text._"
   ]
  },
  {
   "cell_type": "markdown",
   "id": "4ee03510",
   "metadata": {},
   "source": [
    "<!-- END QUESTION -->\n",
    "\n"
   ]
  },
  {
   "cell_type": "markdown",
   "id": "898cd33e",
   "metadata": {
    "deletable": false,
    "editable": false
   },
   "source": [
    "---\n",
    "\n",
    "To double-check your work, the cell below will rerun all of the autograder tests."
   ]
  },
  {
   "cell_type": "code",
   "execution_count": null,
   "id": "355f965b",
   "metadata": {
    "deletable": false,
    "editable": false
   },
   "outputs": [],
   "source": [
    "grader.check_all()"
   ]
  },
  {
   "cell_type": "markdown",
   "id": "6dbc211e",
   "metadata": {
    "deletable": false,
    "editable": false
   },
   "source": [
    "## Submission\n",
    "\n",
    "Make sure you have run all cells in your notebook in order before running the cell below, so that all images/graphs appear in the output. The cell below will generate a zip file for you to submit. **Please save before exporting!**\n",
    "\n",
    "When done exporting, download the .zip file by finding it in the file browswer on the left side of the screen, then right-click and select **Download**. You'll submit this .zip file for the assignment in Canvas to Gradescope for grading."
   ]
  },
  {
   "cell_type": "code",
   "execution_count": null,
   "id": "294b2d05",
   "metadata": {
    "deletable": false,
    "editable": false
   },
   "outputs": [],
   "source": [
    "# Save your notebook first, then run this cell to export your submission.\n",
    "grader.export()"
   ]
  },
  {
   "cell_type": "markdown",
   "id": "d9f10e05",
   "metadata": {},
   "source": [
    " "
   ]
  }
 ],
 "metadata": {
  "kernelspec": {
   "display_name": "Python 3 (ipykernel)",
   "language": "python",
   "name": "python3"
  },
  "language_info": {
   "codemirror_mode": {
    "name": "ipython",
    "version": 3
   },
   "file_extension": ".py",
   "mimetype": "text/x-python",
   "name": "python",
   "nbconvert_exporter": "python",
   "pygments_lexer": "ipython3",
   "version": "3.9.6"
  }
 },
 "nbformat": 4,
 "nbformat_minor": 5
}
